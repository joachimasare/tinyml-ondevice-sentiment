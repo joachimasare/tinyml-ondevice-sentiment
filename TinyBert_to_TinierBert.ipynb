{
  "nbformat": 4,
  "nbformat_minor": 0,
  "metadata": {
    "colab": {
      "provenance": [],
      "collapsed_sections": [
        "Hnfpatg-R95u",
        "bytVEtQ1Ugox"
      ],
      "toc_visible": true,
      "machine_shape": "hm",
      "gpuType": "A100"
    },
    "kernelspec": {
      "name": "python3",
      "display_name": "Python 3"
    },
    "language_info": {
      "name": "python"
    },
    "accelerator": "GPU"
  },
  "cells": [
    {
      "cell_type": "code",
      "execution_count": null,
      "metadata": {
        "id": "HhfGiC14OmnD"
      },
      "outputs": [],
      "source": [
        "# imports needed for pytorch tinyBERT project\n",
        "\n",
        "import torch\n",
        "from transformers import BertTokenizer, BertForSequenceClassification\n",
        "from transformers import AdamW, get_linear_schedule_with_warmup\n",
        "from torch.utils.data import DataLoader\n",
        "from sklearn.model_selection import train_test_split\n",
        "import pandas as pd\n",
        "import numpy as np\n",
        "from tqdm import tqdm\n",
        "import random\n",
        "import matplotlib.pyplot as plt\n",
        "from torch.nn import CrossEntropyLoss, MSELoss\n",
        "\n",
        "import csv\n",
        "import logging\n",
        "import os\n",
        "import random\n",
        "import sys\n",
        "import copy\n"
      ]
    },
    {
      "cell_type": "markdown",
      "source": [
        "# Download Dataset and Model"
      ],
      "metadata": {
        "id": "mi46HU5zO2gY"
      }
    },
    {
      "cell_type": "markdown",
      "source": [
        "TinyBert github: https://github.com/huawei-noah/Pretrained-Language-Model/tree/master/TinyBERT"
      ],
      "metadata": {
        "id": "ngMmLNqvO4z1"
      }
    },
    {
      "cell_type": "code",
      "source": [
        "# downloading dataset\n",
        "!git clone https://github.com/nyu-mll/GLUE-baselines.git\n",
        "!python GLUE-baselines/download_glue_data.py --data_dir /content --tasks SST"
      ],
      "metadata": {
        "colab": {
          "base_uri": "https://localhost:8080/"
        },
        "id": "skXl_fiYOuWc",
        "outputId": "b828ae74-c339-4684-cefb-854fa65c17cf"
      },
      "execution_count": null,
      "outputs": [
        {
          "output_type": "stream",
          "name": "stdout",
          "text": [
            "Cloning into 'GLUE-baselines'...\n",
            "remote: Enumerating objects: 891, done.\u001b[K\n",
            "remote: Counting objects: 100% (5/5), done.\u001b[K\n",
            "remote: Compressing objects: 100% (4/4), done.\u001b[K\n",
            "remote: Total 891 (delta 1), reused 3 (delta 1), pack-reused 886 (from 1)\u001b[K\n",
            "Receiving objects: 100% (891/891), 1.48 MiB | 24.40 MiB/s, done.\n",
            "Resolving deltas: 100% (610/610), done.\n",
            "Downloading and extracting SST...\n",
            "\tCompleted!\n"
          ]
        }
      ]
    },
    {
      "cell_type": "code",
      "source": [
        "# download tinyBERT source code and install dependencies\n",
        "!git clone https://github.com/huawei-noah/Pretrained-Language-Model.git"
      ],
      "metadata": {
        "colab": {
          "base_uri": "https://localhost:8080/"
        },
        "id": "kUkPhgx0Oxxl",
        "outputId": "db490ee5-a641-4865-ad9c-b56dbe153c8d"
      },
      "execution_count": null,
      "outputs": [
        {
          "output_type": "stream",
          "name": "stdout",
          "text": [
            "Cloning into 'Pretrained-Language-Model'...\n",
            "remote: Enumerating objects: 1253, done.\u001b[K\n",
            "remote: Counting objects: 100% (280/280), done.\u001b[K\n",
            "remote: Compressing objects: 100% (161/161), done.\u001b[K\n",
            "remote: Total 1253 (delta 173), reused 120 (delta 119), pack-reused 973 (from 1)\u001b[K\n",
            "Receiving objects: 100% (1253/1253), 29.72 MiB | 16.50 MiB/s, done.\n",
            "Resolving deltas: 100% (540/540), done.\n"
          ]
        }
      ]
    },
    {
      "cell_type": "code",
      "source": [
        "%cd Pretrained-Language-Model/TinyBERT\n",
        "!pip install -r requirements.txt"
      ],
      "metadata": {
        "colab": {
          "base_uri": "https://localhost:8080/"
        },
        "id": "435fVaBoOyUu",
        "outputId": "76da6c61-3e4d-47fd-f56e-ba427256a72e"
      },
      "execution_count": null,
      "outputs": [
        {
          "output_type": "stream",
          "name": "stdout",
          "text": [
            "/content/Pretrained-Language-Model/TinyBERT\n",
            "Requirement already satisfied: tqdm in /usr/local/lib/python3.10/dist-packages (from -r requirements.txt (line 2)) (4.66.6)\n",
            "Collecting boto3 (from -r requirements.txt (line 4))\n",
            "  Downloading boto3-1.35.81-py3-none-any.whl.metadata (6.7 kB)\n",
            "Requirement already satisfied: requests in /usr/local/lib/python3.10/dist-packages (from -r requirements.txt (line 6)) (2.32.3)\n",
            "Requirement already satisfied: torch>=1.0.1 in /usr/local/lib/python3.10/dist-packages (from -r requirements.txt (line 8)) (2.5.1+cu121)\n",
            "Requirement already satisfied: scipy>=0.14.0 in /usr/local/lib/python3.10/dist-packages (from -r requirements.txt (line 9)) (1.13.1)\n",
            "Requirement already satisfied: seaborn in /usr/local/lib/python3.10/dist-packages (from -r requirements.txt (line 10)) (0.13.2)\n",
            "Collecting botocore<1.36.0,>=1.35.81 (from boto3->-r requirements.txt (line 4))\n",
            "  Downloading botocore-1.35.81-py3-none-any.whl.metadata (5.7 kB)\n",
            "Collecting jmespath<2.0.0,>=0.7.1 (from boto3->-r requirements.txt (line 4))\n",
            "  Downloading jmespath-1.0.1-py3-none-any.whl.metadata (7.6 kB)\n",
            "Collecting s3transfer<0.11.0,>=0.10.0 (from boto3->-r requirements.txt (line 4))\n",
            "  Downloading s3transfer-0.10.4-py3-none-any.whl.metadata (1.7 kB)\n",
            "Requirement already satisfied: charset-normalizer<4,>=2 in /usr/local/lib/python3.10/dist-packages (from requests->-r requirements.txt (line 6)) (3.4.0)\n",
            "Requirement already satisfied: idna<4,>=2.5 in /usr/local/lib/python3.10/dist-packages (from requests->-r requirements.txt (line 6)) (3.10)\n",
            "Requirement already satisfied: urllib3<3,>=1.21.1 in /usr/local/lib/python3.10/dist-packages (from requests->-r requirements.txt (line 6)) (2.2.3)\n",
            "Requirement already satisfied: certifi>=2017.4.17 in /usr/local/lib/python3.10/dist-packages (from requests->-r requirements.txt (line 6)) (2024.8.30)\n",
            "Requirement already satisfied: filelock in /usr/local/lib/python3.10/dist-packages (from torch>=1.0.1->-r requirements.txt (line 8)) (3.16.1)\n",
            "Requirement already satisfied: typing-extensions>=4.8.0 in /usr/local/lib/python3.10/dist-packages (from torch>=1.0.1->-r requirements.txt (line 8)) (4.12.2)\n",
            "Requirement already satisfied: networkx in /usr/local/lib/python3.10/dist-packages (from torch>=1.0.1->-r requirements.txt (line 8)) (3.4.2)\n",
            "Requirement already satisfied: jinja2 in /usr/local/lib/python3.10/dist-packages (from torch>=1.0.1->-r requirements.txt (line 8)) (3.1.4)\n",
            "Requirement already satisfied: fsspec in /usr/local/lib/python3.10/dist-packages (from torch>=1.0.1->-r requirements.txt (line 8)) (2024.10.0)\n",
            "Requirement already satisfied: sympy==1.13.1 in /usr/local/lib/python3.10/dist-packages (from torch>=1.0.1->-r requirements.txt (line 8)) (1.13.1)\n",
            "Requirement already satisfied: mpmath<1.4,>=1.1.0 in /usr/local/lib/python3.10/dist-packages (from sympy==1.13.1->torch>=1.0.1->-r requirements.txt (line 8)) (1.3.0)\n",
            "Requirement already satisfied: numpy<2.3,>=1.22.4 in /usr/local/lib/python3.10/dist-packages (from scipy>=0.14.0->-r requirements.txt (line 9)) (1.26.4)\n",
            "Requirement already satisfied: pandas>=1.2 in /usr/local/lib/python3.10/dist-packages (from seaborn->-r requirements.txt (line 10)) (2.2.2)\n",
            "Requirement already satisfied: matplotlib!=3.6.1,>=3.4 in /usr/local/lib/python3.10/dist-packages (from seaborn->-r requirements.txt (line 10)) (3.8.0)\n",
            "Requirement already satisfied: python-dateutil<3.0.0,>=2.1 in /usr/local/lib/python3.10/dist-packages (from botocore<1.36.0,>=1.35.81->boto3->-r requirements.txt (line 4)) (2.8.2)\n",
            "Requirement already satisfied: contourpy>=1.0.1 in /usr/local/lib/python3.10/dist-packages (from matplotlib!=3.6.1,>=3.4->seaborn->-r requirements.txt (line 10)) (1.3.1)\n",
            "Requirement already satisfied: cycler>=0.10 in /usr/local/lib/python3.10/dist-packages (from matplotlib!=3.6.1,>=3.4->seaborn->-r requirements.txt (line 10)) (0.12.1)\n",
            "Requirement already satisfied: fonttools>=4.22.0 in /usr/local/lib/python3.10/dist-packages (from matplotlib!=3.6.1,>=3.4->seaborn->-r requirements.txt (line 10)) (4.55.3)\n",
            "Requirement already satisfied: kiwisolver>=1.0.1 in /usr/local/lib/python3.10/dist-packages (from matplotlib!=3.6.1,>=3.4->seaborn->-r requirements.txt (line 10)) (1.4.7)\n",
            "Requirement already satisfied: packaging>=20.0 in /usr/local/lib/python3.10/dist-packages (from matplotlib!=3.6.1,>=3.4->seaborn->-r requirements.txt (line 10)) (24.2)\n",
            "Requirement already satisfied: pillow>=6.2.0 in /usr/local/lib/python3.10/dist-packages (from matplotlib!=3.6.1,>=3.4->seaborn->-r requirements.txt (line 10)) (11.0.0)\n",
            "Requirement already satisfied: pyparsing>=2.3.1 in /usr/local/lib/python3.10/dist-packages (from matplotlib!=3.6.1,>=3.4->seaborn->-r requirements.txt (line 10)) (3.2.0)\n",
            "Requirement already satisfied: pytz>=2020.1 in /usr/local/lib/python3.10/dist-packages (from pandas>=1.2->seaborn->-r requirements.txt (line 10)) (2024.2)\n",
            "Requirement already satisfied: tzdata>=2022.7 in /usr/local/lib/python3.10/dist-packages (from pandas>=1.2->seaborn->-r requirements.txt (line 10)) (2024.2)\n",
            "Requirement already satisfied: MarkupSafe>=2.0 in /usr/local/lib/python3.10/dist-packages (from jinja2->torch>=1.0.1->-r requirements.txt (line 8)) (3.0.2)\n",
            "Requirement already satisfied: six>=1.5 in /usr/local/lib/python3.10/dist-packages (from python-dateutil<3.0.0,>=2.1->botocore<1.36.0,>=1.35.81->boto3->-r requirements.txt (line 4)) (1.17.0)\n",
            "Downloading boto3-1.35.81-py3-none-any.whl (139 kB)\n",
            "\u001b[2K   \u001b[90m━━━━━━━━━━━━━━━━━━━━━━━━━━━━━━━━━━━━━━━━\u001b[0m \u001b[32m139.2/139.2 kB\u001b[0m \u001b[31m14.0 MB/s\u001b[0m eta \u001b[36m0:00:00\u001b[0m\n",
            "\u001b[?25hDownloading botocore-1.35.81-py3-none-any.whl (13.3 MB)\n",
            "\u001b[2K   \u001b[90m━━━━━━━━━━━━━━━━━━━━━━━━━━━━━━━━━━━━━━━━\u001b[0m \u001b[32m13.3/13.3 MB\u001b[0m \u001b[31m111.6 MB/s\u001b[0m eta \u001b[36m0:00:00\u001b[0m\n",
            "\u001b[?25hDownloading jmespath-1.0.1-py3-none-any.whl (20 kB)\n",
            "Downloading s3transfer-0.10.4-py3-none-any.whl (83 kB)\n",
            "\u001b[2K   \u001b[90m━━━━━━━━━━━━━━━━━━━━━━━━━━━━━━━━━━━━━━━━\u001b[0m \u001b[32m83.2/83.2 kB\u001b[0m \u001b[31m7.8 MB/s\u001b[0m eta \u001b[36m0:00:00\u001b[0m\n",
            "\u001b[?25hInstalling collected packages: jmespath, botocore, s3transfer, boto3\n",
            "Successfully installed boto3-1.35.81 botocore-1.35.81 jmespath-1.0.1 s3transfer-0.10.4\n"
          ]
        }
      ]
    },
    {
      "cell_type": "markdown",
      "source": [
        "# Setup and Dependencies"
      ],
      "metadata": {
        "id": "w9Y2oFrrO9C-"
      }
    },
    {
      "cell_type": "code",
      "source": [
        "SEED = 42\n",
        "torch.backends.cudnn.deterministic = True\n",
        "random.seed(SEED)\n",
        "np.random.seed(SEED)\n",
        "torch.manual_seed(SEED)"
      ],
      "metadata": {
        "colab": {
          "base_uri": "https://localhost:8080/"
        },
        "id": "DLhyyIM4O0Au",
        "outputId": "4045ad68-db2b-4688-cb59-3ba4286f778f"
      },
      "execution_count": null,
      "outputs": [
        {
          "output_type": "execute_result",
          "data": {
            "text/plain": [
              "<torch._C.Generator at 0x7caf580ad070>"
            ]
          },
          "metadata": {},
          "execution_count": 5
        }
      ]
    },
    {
      "cell_type": "code",
      "source": [
        "print('Installing torchprofile...')\n",
        "!pip install torchprofile 1>/dev/null\n",
        "print('Installing fast-pytorch-kmeans...')\n",
        "! pip install fast-pytorch-kmeans 1>/dev/null\n",
        "print('All required packages have been successfully installed!')"
      ],
      "metadata": {
        "colab": {
          "base_uri": "https://localhost:8080/"
        },
        "id": "4PSBOYtLO_-P",
        "outputId": "2cd21c48-925f-45a6-f641-f1c8f642a75a"
      },
      "execution_count": null,
      "outputs": [
        {
          "output_type": "stream",
          "name": "stdout",
          "text": [
            "Installing torchprofile...\n",
            "Installing fast-pytorch-kmeans...\n",
            "All required packages have been successfully installed!\n"
          ]
        }
      ]
    },
    {
      "cell_type": "code",
      "source": [
        "from torchprofile import profile_macs\n",
        "from torch import nn"
      ],
      "metadata": {
        "id": "EX4g8uoMSTHa"
      },
      "execution_count": null,
      "outputs": []
    },
    {
      "cell_type": "code",
      "source": [
        "# downloading BERT-base code: https://github.com/google-research/bert?tab=readme-ov-file\n",
        "!wget https://storage.googleapis.com/bert_models/2018_10_18/cased_L-12_H-768_A-12.zip\n",
        "!unzip cased_L-12_H-768_A-12.zip\n",
        "!cp cased_L-12_H-768_A-12/bert_config.json cased_L-12_H-768_A-12/config.json # must rename bert_config to config\n",
        "\n",
        "BERT_BASE_DIR = 'cased_L-12_H-768_A-12'"
      ],
      "metadata": {
        "colab": {
          "base_uri": "https://localhost:8080/"
        },
        "id": "L4EVYhxpPB-I",
        "outputId": "2bf7a9eb-9a37-433a-beb8-69a72efea084"
      },
      "execution_count": null,
      "outputs": [
        {
          "output_type": "stream",
          "name": "stdout",
          "text": [
            "--2024-12-14 17:49:10--  https://storage.googleapis.com/bert_models/2018_10_18/cased_L-12_H-768_A-12.zip\n",
            "Resolving storage.googleapis.com (storage.googleapis.com)... 74.125.200.207, 74.125.130.207, 74.125.68.207, ...\n",
            "Connecting to storage.googleapis.com (storage.googleapis.com)|74.125.200.207|:443... connected.\n",
            "HTTP request sent, awaiting response... 200 OK\n",
            "Length: 404261442 (386M) [application/zip]\n",
            "Saving to: ‘cased_L-12_H-768_A-12.zip’\n",
            "\n",
            "cased_L-12_H-768_A- 100%[===================>] 385.53M  18.2MB/s    in 20s     \n",
            "\n",
            "2024-12-14 17:49:32 (18.9 MB/s) - ‘cased_L-12_H-768_A-12.zip’ saved [404261442/404261442]\n",
            "\n",
            "Archive:  cased_L-12_H-768_A-12.zip\n",
            "   creating: cased_L-12_H-768_A-12/\n",
            "  inflating: cased_L-12_H-768_A-12/bert_model.ckpt.meta  \n",
            "  inflating: cased_L-12_H-768_A-12/bert_model.ckpt.data-00000-of-00001  \n",
            "  inflating: cased_L-12_H-768_A-12/vocab.txt  \n",
            "  inflating: cased_L-12_H-768_A-12/bert_model.ckpt.index  \n",
            "  inflating: cased_L-12_H-768_A-12/bert_config.json  \n"
          ]
        }
      ]
    },
    {
      "cell_type": "code",
      "source": [
        "# cloning TinyBert pretrained models\n",
        "!git clone https://huggingface.co/huawei-noah/TinyBERT_General_4L_312D\n",
        "\n",
        "STUDENT_CONFIG_DIR = '/content/Pretrained-Language-Model/TinyBERT/TinyBERT_General_4L_312D'"
      ],
      "metadata": {
        "colab": {
          "base_uri": "https://localhost:8080/"
        },
        "id": "ho5G37N9PGaW",
        "outputId": "63b9b4d2-bbe7-41bf-a116-0649b268487e"
      },
      "execution_count": null,
      "outputs": [
        {
          "output_type": "stream",
          "name": "stdout",
          "text": [
            "Cloning into 'TinyBERT_General_4L_312D'...\n",
            "remote: Enumerating objects: 24, done.\u001b[K\n",
            "remote: Total 24 (delta 0), reused 0 (delta 0), pack-reused 24 (from 1)\u001b[K\n",
            "Unpacking objects: 100% (24/24), 111.20 KiB | 8.55 MiB/s, done.\n",
            "Filtering content: 100% (2/2), 114.58 MiB | 30.03 MiB/s, done.\n"
          ]
        }
      ]
    },
    {
      "cell_type": "code",
      "source": [
        "def get_model_size(model: nn.Module, data_width=32):\n",
        "    \"\"\"\n",
        "    calculate the model size in bits\n",
        "    :param data_width: #bits per element\n",
        "    \"\"\"\n",
        "    num_elements = 0\n",
        "    for param in model.parameters():\n",
        "        num_elements += param.numel()\n",
        "    return num_elements * data_width\n",
        "\n",
        "Byte = 8\n",
        "KiB = 1024 * Byte\n",
        "MiB = 1024 * KiB\n",
        "GiB = 1024 * MiB"
      ],
      "metadata": {
        "id": "9tCSVJIsPNrD"
      },
      "execution_count": null,
      "outputs": []
    },
    {
      "cell_type": "markdown",
      "source": [
        "# How large is TinyBert to begin with?"
      ],
      "metadata": {
        "id": "2Fncgni_Pe6c"
      }
    },
    {
      "cell_type": "code",
      "source": [
        "from transformer.modeling import TinyBertForPreTraining, BertModel, TinyBertForSequenceClassification"
      ],
      "metadata": {
        "id": "b-hJl0UAPVBu"
      },
      "execution_count": null,
      "outputs": []
    },
    {
      "cell_type": "code",
      "source": [
        "STUDENT_CONFIG_DIR = '/content/Pretrained-Language-Model/TinyBERT/TinyBERT_General_4L_312D'\n",
        "BERT_BASE_DIR = '/content/Pretrained-Language-Model/TinyBERT/cased_L-12_H-768_A-12'"
      ],
      "metadata": {
        "id": "kQZyeYI3PlH-"
      },
      "execution_count": null,
      "outputs": []
    },
    {
      "cell_type": "code",
      "source": [
        "num_labels = 2\n",
        "student_model = TinyBertForSequenceClassification.from_pretrained(STUDENT_CONFIG_DIR, num_labels=num_labels)\n",
        "teacher_model = BertModel.from_scratch(BERT_BASE_DIR)\n"
      ],
      "metadata": {
        "colab": {
          "base_uri": "https://localhost:8080/"
        },
        "id": "UgU6-4lBPqwC",
        "outputId": "6554227f-6ac2-4803-b8f1-fe0862b5dd5a"
      },
      "execution_count": null,
      "outputs": [
        {
          "output_type": "stream",
          "name": "stderr",
          "text": [
            "/content/Pretrained-Language-Model/TinyBERT/transformer/modeling.py:696: FutureWarning: You are using `torch.load` with `weights_only=False` (the current default value), which uses the default pickle module implicitly. It is possible to construct malicious pickle data which will execute arbitrary code during unpickling (See https://github.com/pytorch/pytorch/blob/main/SECURITY.md#untrusted-models for more details). In a future release, the default value for `weights_only` will be flipped to `True`. This limits the functions that could be executed during unpickling. Arbitrary objects will no longer be allowed to be loaded via this mode unless they are explicitly allowlisted by the user via `torch.serialization.add_safe_globals`. We recommend you start setting `weights_only=True` for any use case where you don't have full control of the loaded file. Please open an issue on GitHub for any issues related to this experimental feature.\n",
            "  state_dict = torch.load(weights_path, map_location='cpu')\n"
          ]
        }
      ]
    },
    {
      "cell_type": "code",
      "source": [
        "# STORAGE\n",
        "student_model_size = get_model_size(student_model)\n",
        "teacher_model_size = get_model_size(teacher_model)\n",
        "\n",
        "print(\"Student model size: \", student_model_size/MiB, \"MiB\")\n",
        "print(\"Teacher model size: \", teacher_model_size/MiB, \"MiB\")"
      ],
      "metadata": {
        "colab": {
          "base_uri": "https://localhost:8080/"
        },
        "id": "HYdBIuhPPvGO",
        "outputId": "3dcb31ab-99a4-4d0a-8e55-76ffead6d230"
      },
      "execution_count": null,
      "outputs": [
        {
          "output_type": "stream",
          "name": "stdout",
          "text": [
            "Student model size:  55.661231994628906 MiB\n",
            "Teacher model size:  413.1708984375 MiB\n"
          ]
        }
      ]
    },
    {
      "cell_type": "markdown",
      "source": [
        "# Evaluating TinyBert"
      ],
      "metadata": {
        "id": "GZbC8gpPP1BE"
      }
    },
    {
      "cell_type": "code",
      "source": [
        "from task_distill import convert_examples_to_features, get_tensor_data, InputExample, InputFeatures, DataProcessor, Sst2Processor\n",
        "from torch.utils.data import SequentialSampler\n",
        "from transformer.modeling import TinyBertForPreTraining, BertModel, TinyBertForSequenceClassification"
      ],
      "metadata": {
        "id": "_RvqjymXQH5D"
      },
      "execution_count": null,
      "outputs": []
    },
    {
      "cell_type": "code",
      "source": [
        "def simple_accuracy(preds, labels):\n",
        "    return (preds == labels).mean()\n",
        "\n",
        "def compute_metrics(task_name, preds, labels):\n",
        "    assert len(preds) == len(labels)\n",
        "    return {\"acc\": simple_accuracy(preds, labels)}\n",
        "\n",
        "# evaluation function based on  task_distill.py --do_eval\n",
        "def evaluate_tinybert(model, task_name, eval_dataloader,\n",
        "            device, output_mode, eval_labels, num_labels):\n",
        "    eval_loss = 0\n",
        "    nb_eval_steps = 0\n",
        "    preds = []\n",
        "\n",
        "    model.eval()\n",
        "    for batch_ in tqdm(eval_dataloader, desc=\"Evaluating\"):\n",
        "        batch_ = tuple(t.to(device) for t in batch_)\n",
        "        with torch.no_grad():\n",
        "            input_ids, input_mask, segment_ids, label_ids, seq_lengths = batch_\n",
        "\n",
        "            # ValueError: not enough values to unpack (expected 3, got 2)\n",
        "            # logits, _, _ = model(input_ids, segment_ids, input_mask)\n",
        "            # TODO: what is the model outputting? What\n",
        "            logits, _ , _= model(input_ids, segment_ids, input_mask)\n",
        "\n",
        "\n",
        "        # create eval loss and other metric required by the task\n",
        "        if output_mode == \"classification\":\n",
        "            loss_fct = CrossEntropyLoss()\n",
        "            tmp_eval_loss = loss_fct(logits.view(-1, num_labels), label_ids.view(-1))\n",
        "        elif output_mode == \"regression\":\n",
        "            loss_fct = MSELoss()\n",
        "            tmp_eval_loss = loss_fct(logits.view(-1), label_ids.view(-1))\n",
        "\n",
        "        eval_loss += tmp_eval_loss.mean().item()\n",
        "        nb_eval_steps += 1\n",
        "        if len(preds) == 0:\n",
        "            preds.append(logits.detach().cpu().numpy())\n",
        "        else:\n",
        "            preds[0] = np.append(\n",
        "                preds[0], logits.detach().cpu().numpy(), axis=0)\n",
        "\n",
        "    eval_loss = eval_loss / nb_eval_steps\n",
        "\n",
        "    preds = preds[0]\n",
        "    if output_mode == \"classification\":\n",
        "        preds = np.argmax(preds, axis=1)\n",
        "    elif output_mode == \"regression\":\n",
        "        preds = np.squeeze(preds)\n",
        "    result = compute_metrics(task_name, preds, eval_labels.numpy())\n",
        "    result['eval_loss'] = eval_loss\n",
        "\n",
        "    return result\n",
        "\n",
        "\n",
        "output_mode = \"classification\"\n"
      ],
      "metadata": {
        "id": "2dI-1E6GQIz2"
      },
      "execution_count": null,
      "outputs": []
    },
    {
      "cell_type": "code",
      "source": [
        "# building the evaluation dataloader\n",
        "do_lower_case = False\n",
        "data_dir = '/content/SST-2'\n",
        "processor = Sst2Processor()\n",
        "label_list = processor.get_labels()\n",
        "num_labels = len(label_list)\n",
        "max_seq_length = 128\n",
        "eval_batch_size = 32\n",
        "task_name = \"sst2\"\n",
        "output_mode = \"classification\"\n",
        "device = torch.device(\"cuda\" if torch.cuda.is_available() else \"cpu\")\n",
        "student_model = TinyBertForSequenceClassification.from_pretrained(STUDENT_CONFIG_DIR, num_labels=num_labels)\n",
        "student_model.to(device)\n",
        "\n",
        "tokenizer = BertTokenizer.from_pretrained(STUDENT_CONFIG_DIR, do_lower_case=do_lower_case)\n",
        "eval_examples = processor.get_dev_examples(data_dir)\n",
        "eval_features = convert_examples_to_features(eval_examples, label_list, max_seq_length, tokenizer, output_mode)\n",
        "eval_data, eval_labels = get_tensor_data(output_mode, eval_features)\n",
        "eval_sampler = SequentialSampler(eval_data)\n",
        "eval_dataloader = DataLoader(eval_data, sampler=eval_sampler, batch_size=eval_batch_size)\n",
        "\n",
        "# check that the evaluate_tinybert function is working\n",
        "evaluate_tinybert(student_model, task_name, eval_dataloader,\n",
        "            device, output_mode, eval_labels, num_labels)\n"
      ],
      "metadata": {
        "colab": {
          "base_uri": "https://localhost:8080/"
        },
        "id": "Oe7Sb561RA2z",
        "outputId": "474caa03-adfe-4589-ed70-ccc43f9693b7"
      },
      "execution_count": null,
      "outputs": [
        {
          "output_type": "stream",
          "name": "stderr",
          "text": [
            "Evaluating: 100%|██████████| 28/28 [00:01<00:00, 14.26it/s]\n"
          ]
        },
        {
          "output_type": "execute_result",
          "data": {
            "text/plain": [
              "{'acc': 0.47706422018348627, 'eval_loss': 0.6937263650553567}"
            ]
          },
          "metadata": {},
          "execution_count": 17
        }
      ]
    },
    {
      "cell_type": "code",
      "source": [
        "# method that both sets up the dataset and runs evaluation on TinyBert\n",
        "def evaluate(student_model):\n",
        "  # building the evaluation dataloader\n",
        "  do_lower_case = False\n",
        "  data_dir = '/content/SST-2'\n",
        "  processor = Sst2Processor()\n",
        "  label_list = processor.get_labels()\n",
        "  num_labels = len(label_list)\n",
        "  max_seq_length = 128\n",
        "  eval_batch_size = 32\n",
        "  task_name = \"sst2\"\n",
        "  output_mode = \"classification\"\n",
        "  device = torch.device(\"cuda\" if torch.cuda.is_available() else \"cpu\")\n",
        "  student_model.to(device)\n",
        "\n",
        "  #TODO: does this tokenizer still work?\n",
        "  tokenizer = BertTokenizer.from_pretrained(STUDENT_CONFIG_DIR, do_lower_case=do_lower_case)\n",
        "  eval_examples = processor.get_dev_examples(data_dir)\n",
        "  eval_features = convert_examples_to_features(eval_examples, label_list, max_seq_length, tokenizer, output_mode)\n",
        "  eval_data, eval_labels = get_tensor_data(output_mode, eval_features)\n",
        "  eval_sampler = SequentialSampler(eval_data)\n",
        "  eval_dataloader = DataLoader(eval_data, sampler=eval_sampler, batch_size=eval_batch_size)\n",
        "\n",
        "  res = evaluate_tinybert(student_model, task_name, eval_dataloader,\n",
        "              device, output_mode, eval_labels, num_labels)\n",
        "  return res"
      ],
      "metadata": {
        "id": "phFXhXL6RBeL"
      },
      "execution_count": null,
      "outputs": []
    },
    {
      "cell_type": "markdown",
      "source": [
        "# Finetuning"
      ],
      "metadata": {
        "id": "Qs7wB8cVRW6w"
      }
    },
    {
      "cell_type": "code",
      "source": [
        "def train_tinybert(\n",
        "    model,\n",
        "    task_name,\n",
        "    train_dataloader,\n",
        "    eval_dataloader,\n",
        "    device,\n",
        "    output_mode,\n",
        "    num_labels,\n",
        "    eval_labels,\n",
        "    optimizer=None,\n",
        "    scheduler=None,\n",
        "    epochs=3\n",
        "):\n",
        "    \"\"\"\n",
        "    Fine-tune a TinyBERT model with training and validation metrics history.\n",
        "\n",
        "    Args:\n",
        "        model: The TinyBERT model to be fine-tuned.\n",
        "        task_name: Name of the task (used for metric computation).\n",
        "        train_dataloader: DataLoader for training data.\n",
        "        eval_dataloader: DataLoader for evaluation data.\n",
        "        device: Device to train on (e.g., 'cpu' or 'cuda').\n",
        "        output_mode: Output mode for the task ('classification' or 'regression').\n",
        "        num_labels: Number of labels for classification tasks.\n",
        "        eval_labels: Ground truth labels for the evaluation set.\n",
        "        optimizer: Optimizer for training (default is AdamW).\n",
        "        scheduler: Learning rate scheduler (optional).\n",
        "        epochs: Number of training epochs.\n",
        "\n",
        "    Returns:\n",
        "        model: The fine-tuned model with a `history` attribute.\n",
        "    \"\"\"\n",
        "    # Initialize optimizer if none is provided\n",
        "    if optimizer is None:\n",
        "        optimizer = AdamW(model.parameters(), lr=5e-5)\n",
        "\n",
        "    # Initialize or extend model's history attribute\n",
        "    if not hasattr(model, 'history'):\n",
        "        model.history = {'train_loss': [], 'val_loss': [], 'train_acc': [], 'val_acc': []}\n",
        "\n",
        "    # Move model to the specified device\n",
        "    model.to(device)\n",
        "\n",
        "    # Training loop\n",
        "    for epoch in range(epochs):\n",
        "        model.train()\n",
        "        total_loss = 0  # To track total training loss\n",
        "        nb_train_steps = 0  # To count the number of training steps\n",
        "        correct_predictions = 0\n",
        "        total_predictions = 0\n",
        "\n",
        "        print(f\"Epoch {epoch + 1}/{epochs}\")\n",
        "\n",
        "        # Training step\n",
        "        for step, batch in enumerate(tqdm(train_dataloader, desc=\"Training\")):\n",
        "            # Move each tensor in the batch to the device\n",
        "            batch = tuple(t.to(device) for t in batch)\n",
        "            input_ids, input_mask, segment_ids, label_ids, seq_lengths = batch\n",
        "\n",
        "            # Zero the gradients to prevent accumulation\n",
        "            optimizer.zero_grad()\n",
        "\n",
        "            # Forward pass\n",
        "            logits, _, _ = model(input_ids, segment_ids, input_mask)\n",
        "\n",
        "            # Compute loss\n",
        "            if output_mode == \"classification\":\n",
        "                loss_fct = CrossEntropyLoss()\n",
        "                loss = loss_fct(logits.view(-1, num_labels), label_ids.view(-1))\n",
        "                preds = torch.argmax(logits, dim=1)\n",
        "            elif output_mode == \"regression\":\n",
        "                loss_fct = MSELoss()\n",
        "                loss = loss_fct(logits.view(-1), label_ids.view(-1))\n",
        "                preds = logits.squeeze()\n",
        "            else:\n",
        "                raise ValueError(f\"Unknown output mode: {output_mode}\")\n",
        "\n",
        "            # Update metrics\n",
        "            if output_mode == \"classification\":\n",
        "                correct_predictions += (preds == label_ids).sum().item()\n",
        "                total_predictions += label_ids.size(0)\n",
        "\n",
        "            # Backward pass and optimization\n",
        "            loss.backward()\n",
        "            optimizer.step()\n",
        "\n",
        "            # Update training metrics\n",
        "            total_loss += loss.item()\n",
        "            nb_train_steps += 1\n",
        "\n",
        "        # Adjust learning rate with scheduler (if provided)\n",
        "        if scheduler:\n",
        "            scheduler.step()\n",
        "\n",
        "        # Compute training metrics\n",
        "        avg_train_loss = total_loss / nb_train_steps\n",
        "        train_accuracy = correct_predictions / total_predictions if output_mode == \"classification\" else None\n",
        "        print(f\"Training loss: {avg_train_loss:.4f}\")\n",
        "        if train_accuracy is not None:\n",
        "            print(f\"Training accuracy: {train_accuracy:.4f}\")\n",
        "\n",
        "        # Evaluate the model\n",
        "        eval_result = evaluate_tinybert(\n",
        "            model, task_name, eval_dataloader, device, output_mode, eval_labels, num_labels\n",
        "        )\n",
        "        avg_val_loss = eval_result['eval_loss']\n",
        "        val_accuracy = eval_result['acc']\n",
        "\n",
        "        # Print validation results\n",
        "        print(f\"Validation loss: {avg_val_loss:.4f}\")\n",
        "        print(f\"Validation accuracy: {val_accuracy:.4f}\")\n",
        "\n",
        "        # Update the model's history\n",
        "        model.history['train_loss'].append(avg_train_loss)\n",
        "        model.history['val_loss'].append(avg_val_loss)\n",
        "        if train_accuracy is not None:\n",
        "            model.history['train_acc'].append(train_accuracy)\n",
        "        model.history['val_acc'].append(val_accuracy)\n",
        "\n",
        "    return model\n"
      ],
      "metadata": {
        "id": "LrG1cOKoRO5y"
      },
      "execution_count": null,
      "outputs": []
    },
    {
      "cell_type": "code",
      "source": [
        "# building the train and evaluation dataloader\n",
        "do_lower_case = False\n",
        "data_dir = '/content/SST-2'\n",
        "processor = Sst2Processor()\n",
        "label_list = processor.get_labels()\n",
        "num_labels = len(label_list)\n",
        "max_seq_length = 128\n",
        "eval_batch_size = 32\n",
        "train_batch_size = 32\n",
        "task_name = \"sst2\"\n",
        "output_mode = \"classification\"\n",
        "device = torch.device(\"cuda\" if torch.cuda.is_available() else \"cpu\")\n",
        "student_model = TinyBertForSequenceClassification.from_pretrained(STUDENT_CONFIG_DIR, num_labels=num_labels)\n",
        "student_model.to(device)\n",
        "\n",
        "tokenizer = BertTokenizer.from_pretrained(STUDENT_CONFIG_DIR, do_lower_case=do_lower_case)\n",
        "eval_examples = processor.get_dev_examples(data_dir)\n",
        "eval_features = convert_examples_to_features(eval_examples, label_list, max_seq_length, tokenizer, output_mode)\n",
        "eval_data, eval_labels = get_tensor_data(output_mode, eval_features)\n",
        "eval_sampler = SequentialSampler(eval_data)\n",
        "eval_dataloader = DataLoader(eval_data, sampler=eval_sampler, batch_size=eval_batch_size)\n",
        "\n",
        "train_examples = processor.get_train_examples(data_dir)\n",
        "train_features = convert_examples_to_features(train_examples, label_list, max_seq_length, tokenizer, output_mode)\n",
        "train_data, train_labels = get_tensor_data(output_mode, train_features)\n",
        "train_sampler = SequentialSampler(train_data)\n",
        "train_dataloader = DataLoader(train_data, sampler=train_sampler, batch_size=train_batch_size)\n",
        "\n",
        "# only train for 1 epoch - overfits fast\n",
        "student_model = train_tinybert(\n",
        "    student_model,\n",
        "    task_name,\n",
        "    train_dataloader,\n",
        "    eval_dataloader,\n",
        "    device,\n",
        "    output_mode,\n",
        "    num_labels,\n",
        "    eval_labels,\n",
        "    optimizer=None,\n",
        "    scheduler=None,\n",
        "    epochs=1\n",
        ")\n",
        "\n",
        "# SAVE MODEL\n",
        "model_path = '/content/tinyBert_sst2.pt'\n",
        "torch.save(student_model.state_dict(), model_path)"
      ],
      "metadata": {
        "colab": {
          "base_uri": "https://localhost:8080/"
        },
        "id": "mhdRa0A7Ra7z",
        "outputId": "e3111b2b-9084-4089-daa1-e39fcf0ab2df"
      },
      "execution_count": null,
      "outputs": [
        {
          "output_type": "stream",
          "name": "stderr",
          "text": [
            "/usr/local/lib/python3.10/dist-packages/transformers/optimization.py:591: FutureWarning: This implementation of AdamW is deprecated and will be removed in a future version. Use the PyTorch implementation torch.optim.AdamW instead, or set `no_deprecation_warning=True` to disable this warning\n",
            "  warnings.warn(\n"
          ]
        },
        {
          "output_type": "stream",
          "name": "stdout",
          "text": [
            "Epoch 1/1\n"
          ]
        },
        {
          "output_type": "stream",
          "name": "stderr",
          "text": [
            "Training: 100%|██████████| 2105/2105 [00:49<00:00, 42.17it/s]\n"
          ]
        },
        {
          "output_type": "stream",
          "name": "stdout",
          "text": [
            "Training loss: 0.2835\n",
            "Training accuracy: 0.8864\n"
          ]
        },
        {
          "output_type": "stream",
          "name": "stderr",
          "text": [
            "Evaluating: 100%|██████████| 28/28 [00:00<00:00, 148.30it/s]\n"
          ]
        },
        {
          "output_type": "stream",
          "name": "stdout",
          "text": [
            "Validation loss: 0.2817\n",
            "Validation accuracy: 0.8842\n"
          ]
        }
      ]
    },
    {
      "cell_type": "code",
      "source": [
        "# putting the dataset prep and training into one function\n",
        "\n",
        "def train_tinybert_sst2(student_model):\n",
        "  # building the train and evaluation dataloader\n",
        "  do_lower_case = False\n",
        "  data_dir = '/content/SST-2'\n",
        "  processor = Sst2Processor()\n",
        "  label_list = processor.get_labels()\n",
        "  num_labels = len(label_list)\n",
        "  max_seq_length = 128\n",
        "  eval_batch_size = 32\n",
        "  train_batch_size = 32\n",
        "  task_name = \"sst2\"\n",
        "  output_mode = \"classification\"\n",
        "  device = torch.device(\"cuda\" if torch.cuda.is_available() else \"cpu\")\n",
        "  # student_model = TinyBertForSequenceClassification.from_pretrained(STUDENT_CONFIG_DIR, num_labels=num_labels)\n",
        "  student_model.to(device)\n",
        "\n",
        "  tokenizer = BertTokenizer.from_pretrained(STUDENT_CONFIG_DIR, do_lower_case=do_lower_case)\n",
        "  eval_examples = processor.get_dev_examples(data_dir)\n",
        "  eval_features = convert_examples_to_features(eval_examples, label_list, max_seq_length, tokenizer, output_mode)\n",
        "  eval_data, eval_labels = get_tensor_data(output_mode, eval_features)\n",
        "  eval_sampler = SequentialSampler(eval_data)\n",
        "  eval_dataloader = DataLoader(eval_data, sampler=eval_sampler, batch_size=eval_batch_size)\n",
        "\n",
        "  train_examples = processor.get_train_examples(data_dir)\n",
        "  train_features = convert_examples_to_features(train_examples, label_list, max_seq_length, tokenizer, output_mode)\n",
        "  train_data, train_labels = get_tensor_data(output_mode, train_features)\n",
        "  train_sampler = SequentialSampler(train_data)\n",
        "  train_dataloader = DataLoader(train_data, sampler=train_sampler, batch_size=train_batch_size)\n",
        "\n",
        "  # only train for 1 epoch - overfits fast\n",
        "  student_model = train_tinybert(\n",
        "      student_model,\n",
        "      task_name,\n",
        "      train_dataloader,\n",
        "      eval_dataloader,\n",
        "      device,\n",
        "      output_mode,\n",
        "      num_labels,\n",
        "      eval_labels,\n",
        "      optimizer=None,\n",
        "      scheduler=None,\n",
        "      epochs=1\n",
        "  )\n",
        "  return student_model"
      ],
      "metadata": {
        "id": "n-wkFxEqTj2X"
      },
      "execution_count": null,
      "outputs": []
    },
    {
      "cell_type": "markdown",
      "source": [
        "# Fine-grain Pruning"
      ],
      "metadata": {
        "id": "Yq69hGboRrQ3"
      }
    },
    {
      "cell_type": "markdown",
      "source": [
        "## Fine-grain Pruning Functions"
      ],
      "metadata": {
        "id": "Hnfpatg-R95u"
      }
    },
    {
      "cell_type": "code",
      "source": [
        "def get_sparsity(tensor: torch.Tensor) -> float:\n",
        "    \"\"\"\n",
        "    calculate the sparsity of the given tensor\n",
        "        sparsity = #zeros / #elements = 1 - #nonzeros / #elements\n",
        "    \"\"\"\n",
        "    return 1 - float(tensor.count_nonzero()) / tensor.numel()\n",
        "\n",
        "\n",
        "def get_model_sparsity(model: nn.Module) -> float:\n",
        "    \"\"\"\n",
        "    calculate the sparsity of the given model\n",
        "        sparsity = #zeros / #elements = 1 - #nonzeros / #elements\n",
        "    \"\"\"\n",
        "    num_nonzeros, num_elements = 0, 0\n",
        "    for param in model.parameters():\n",
        "        num_nonzeros += param.count_nonzero()\n",
        "        num_elements += param.numel()\n",
        "    return 1 - float(num_nonzeros) / num_elements\n",
        "\n",
        "def get_num_parameters(model: nn.Module, count_nonzero_only=False) -> int:\n",
        "    \"\"\"\n",
        "    calculate the total number of parameters of model\n",
        "    :param count_nonzero_only: only count nonzero weights\n",
        "    \"\"\"\n",
        "    num_counted_elements = 0\n",
        "    for param in model.parameters():\n",
        "        if count_nonzero_only:\n",
        "            num_counted_elements += param.count_nonzero()\n",
        "        else:\n",
        "            num_counted_elements += param.numel()\n",
        "    return num_counted_elements\n",
        "\n",
        "\n",
        "def get_model_size(model: nn.Module, data_width=32, count_nonzero_only=False) -> int:\n",
        "    \"\"\"\n",
        "    calculate the model size in bits\n",
        "    :param data_width: #bits per element\n",
        "    :param count_nonzero_only: only count nonzero weights\n",
        "    \"\"\"\n",
        "    return get_num_parameters(model, count_nonzero_only) * data_width"
      ],
      "metadata": {
        "id": "trpJLry-RnNh"
      },
      "execution_count": null,
      "outputs": []
    },
    {
      "cell_type": "code",
      "source": [
        "def fine_grained_prune(tensor: torch.Tensor, sparsity : float) -> torch.Tensor:\n",
        "    \"\"\"\n",
        "    magnitude-based pruning for single tensor\n",
        "    :param tensor: torch.(cuda.)Tensor, weight of conv/fc layer\n",
        "    :param sparsity: float, pruning sparsity\n",
        "        sparsity = #zeros / #elements = 1 - #nonzeros / #elements\n",
        "    :return:\n",
        "        torch.(cuda.)Tensor, mask for zeros\n",
        "    \"\"\"\n",
        "    sparsity = min(max(0.0, sparsity), 1.0)\n",
        "    if sparsity == 1.0:\n",
        "        tensor.zero_()\n",
        "        return torch.zeros_like(tensor)\n",
        "    elif sparsity == 0.0:\n",
        "        return torch.ones_like(tensor)\n",
        "\n",
        "    num_elements = tensor.numel()\n",
        "\n",
        "    ##################### YOUR CODE STARTS HERE #####################\n",
        "    # Step 1: calculate the #zeros (please use round())\n",
        "    # print(\"num_elements\", num_elements)\n",
        "    # print(\"sparsity\", sparsity)\n",
        "    num_zeros = round(num_elements * sparsity)\n",
        "    # print(\"num_zeros\", num_zeros)\n",
        "    # Step 2: calculate the importance of weight\n",
        "    importance = torch.Tensor.abs(tensor)\n",
        "    # Step 3: calculate the pruning threshold\n",
        "    # print(\"importance\", torch.flatten(importance))\n",
        "    threshold = torch.kthvalue(torch.flatten(importance), num_zeros).values\n",
        "    # print(\"threshold\", threshold)\n",
        "    # Step 4: get binary mask (1 for nonzeros, 0 for zeros)\n",
        "    mask = torch.gt(importance, threshold)\n",
        "    ##################### YOUR CODE ENDS HERE #######################\n",
        "\n",
        "    # Step 5: apply mask to prune the tensor\n",
        "    tensor.mul_(mask)\n",
        "\n",
        "    return mask"
      ],
      "metadata": {
        "id": "rYC4iU2mSEEC"
      },
      "execution_count": null,
      "outputs": []
    },
    {
      "cell_type": "code",
      "source": [
        "class FineGrainedPruner:\n",
        "    def __init__(self, model, sparsity_dict):\n",
        "        self.masks = FineGrainedPruner.prune(model, sparsity_dict)\n",
        "\n",
        "    @torch.no_grad()\n",
        "    def apply(self, model):\n",
        "        for name, param in model.named_parameters():\n",
        "            if name in self.masks:\n",
        "                param *= self.masks[name]\n",
        "\n",
        "    @staticmethod\n",
        "    @torch.no_grad()\n",
        "    def prune(model, sparsity_dict):\n",
        "        masks = dict()\n",
        "        for name, param in model.named_parameters():\n",
        "            if param.dim() > 1: # we only prune conv and fc weights\n",
        "                masks[name] = fine_grained_prune(param, sparsity_dict[name])\n",
        "        return masks"
      ],
      "metadata": {
        "id": "4osXzo6GSESL"
      },
      "execution_count": null,
      "outputs": []
    },
    {
      "cell_type": "code",
      "source": [
        "def get_model_size(model: nn.Module, data_width=32, count_nonzero_only=False) -> int:\n",
        "    \"\"\"\n",
        "    calculate the model size in bits\n",
        "    :param data_width: #bits per element\n",
        "    :param count_nonzero_only: only count nonzero weights\n",
        "    \"\"\"\n",
        "    return get_num_parameters(model, count_nonzero_only) * data_width"
      ],
      "metadata": {
        "id": "o4WWHSnpSLf5"
      },
      "execution_count": null,
      "outputs": []
    },
    {
      "cell_type": "markdown",
      "source": [
        "## Test Fine-grain pruning"
      ],
      "metadata": {
        "id": "g14uuKacSHHc"
      }
    },
    {
      "cell_type": "code",
      "source": [
        "# evaluate the Accuracy and Model Size of Dense Model\n",
        "dense_model_accuracy = evaluate(student_model)['acc'] *100\n",
        "dense_model_size = get_model_size(student_model)\n",
        "print(f\"dense model has accuracy={dense_model_accuracy:.2f}%\")\n",
        "print(f\"dense model has size={dense_model_size/MiB:.2f} MiB\")\n",
        "\n",
        "dense_model = copy.deepcopy(student_model)"
      ],
      "metadata": {
        "colab": {
          "base_uri": "https://localhost:8080/"
        },
        "id": "YRcF8a2BSF5L",
        "outputId": "11f055a1-ab5f-4c59-c8cf-284f0f90b5d9"
      },
      "execution_count": null,
      "outputs": [
        {
          "output_type": "stream",
          "name": "stderr",
          "text": [
            "Evaluating: 100%|██████████| 28/28 [00:00<00:00, 145.56it/s]\n"
          ]
        },
        {
          "output_type": "stream",
          "name": "stdout",
          "text": [
            "dense model has accuracy=88.42%\n",
            "dense model has size=55.66 MiB\n"
          ]
        }
      ]
    },
    {
      "cell_type": "markdown",
      "source": [
        "## Sensitivity Scan to determine optimal sparsities for each layer"
      ],
      "metadata": {
        "id": "8ethoyg6SqsK"
      }
    },
    {
      "cell_type": "code",
      "source": [
        "@torch.no_grad()\n",
        "def sensitivity_scan(model, scan_step=0.1, scan_start=0.4, scan_end=1.0, verbose=True):\n",
        "    sparsities = np.arange(start=scan_start, stop=scan_end, step=scan_step)\n",
        "    accuracies = []\n",
        "    named_conv_weights = [(name, param) for (name, param) \\\n",
        "                          in model.named_parameters() if param.dim() > 1]\n",
        "    for i_layer, (name, param) in enumerate(named_conv_weights):\n",
        "        param_clone = param.detach().clone()\n",
        "        accuracy = []\n",
        "        for sparsity in tqdm(sparsities, desc=f'scanning {i_layer}/{len(named_conv_weights)} weight - {name}'):\n",
        "            fine_grained_prune(param.detach(), sparsity=sparsity)\n",
        "            acc = evaluate(model)['acc']*100\n",
        "            if verbose:\n",
        "                print(f'\\r    sparsity={sparsity:.2f}: accuracy={acc:.2f}%', end='')\n",
        "            # restore\n",
        "            param.copy_(param_clone)\n",
        "            accuracy.append(acc)\n",
        "        if verbose:\n",
        "            print(f'\\r    sparsity=[{\",\".join([\"{:.2f}\".format(x) for x in sparsities])}]: accuracy=[{\", \".join([\"{:.2f}%\".format(x) for x in accuracy])}]', end='')\n",
        "        accuracies.append(accuracy)\n",
        "    return sparsities, accuracies"
      ],
      "metadata": {
        "id": "PyUGmDHwSijC"
      },
      "execution_count": null,
      "outputs": []
    },
    {
      "cell_type": "code",
      "source": [
        "sparsities, accuracies = sensitivity_scan(\n",
        "    student_model, scan_step=0.1, scan_start=0.4, scan_end=1.0)"
      ],
      "metadata": {
        "id": "_srEJG4DSxA_"
      },
      "execution_count": null,
      "outputs": []
    },
    {
      "cell_type": "code",
      "source": [
        "import math\n",
        "def plot_sensitivity_scan(sparsities, accuracies, dense_model_accuracy):\n",
        "    lower_bound_accuracy = 100 - (100 - dense_model_accuracy) * 1.5\n",
        "    fig, axes = plt.subplots(6, int(math.ceil(len(accuracies) / 6)),figsize=(15,20), constrained_layout=True)\n",
        "    axes = axes.ravel()\n",
        "    plot_index = 0\n",
        "    for name, param in student_model.named_parameters():\n",
        "        if param.dim() > 1:\n",
        "            ax = axes[plot_index]\n",
        "            curve = ax.plot(sparsities, accuracies[plot_index])\n",
        "            line = ax.plot(sparsities, [lower_bound_accuracy] * len(sparsities))\n",
        "            ax.set_xticks(np.arange(start=0.4, stop=1.0, step=0.1))\n",
        "            ax.set_ylim(60, 95)\n",
        "            ax.set_title(\"\")\n",
        "            ax.set_xlabel('sparsity')\n",
        "            ax.set_ylabel('top-1 accuracy')\n",
        "            ax.legend([\n",
        "                'accuracy after pruning',\n",
        "                f'dense model accuracy'\n",
        "            ])\n",
        "            ax.grid(axis='x')\n",
        "            plot_index += 1\n",
        "    fig.suptitle('Sensitivity Curves: Validation Accuracy vs. Pruning Sparsity (for each layer with dims > 1)', fontsize = 16)\n",
        "    fig.tight_layout()\n",
        "    fig.subplots_adjust(top=0.96)\n",
        "    plt.show()\n",
        "\n",
        "plot_sensitivity_scan(sparsities, accuracies, dense_model_accuracy)"
      ],
      "metadata": {
        "id": "w5PFoLalSzLR"
      },
      "execution_count": null,
      "outputs": []
    },
    {
      "cell_type": "markdown",
      "source": [
        "## Optimal Pruned Model"
      ],
      "metadata": {
        "id": "E8bvJnG5S6KH"
      }
    },
    {
      "cell_type": "code",
      "source": [
        "dense_model = copy.deepcopy(student_model)"
      ],
      "metadata": {
        "id": "i7CMFU7GS71S"
      },
      "execution_count": null,
      "outputs": []
    },
    {
      "cell_type": "code",
      "source": [
        "# build sparsity dictionary\n",
        "# TODO: fill in values based on results of sensitivity testing\n",
        "sparsity_dict = {\n",
        "'bert.embeddings.word_embeddings.weight':0.5,\n",
        "'bert.embeddings.position_embeddings.weight':0.8,\n",
        "'bert.embeddings.token_type_embeddings.weight':0.6,\n",
        "'bert.encoder.layer.0.attention.self.query.weight':0.9,\n",
        "'bert.encoder.layer.0.attention.self.key.weight':0.9,\n",
        "'bert.encoder.layer.0.attention.self.value.weight':0.6,\n",
        "'bert.encoder.layer.0.attention.output.dense.weight':0.5,\n",
        "'bert.encoder.layer.0.intermediate.dense.weight':0.5,\n",
        "'bert.encoder.layer.0.output.dense.weight':0.5,\n",
        "'bert.encoder.layer.1.attention.self.query.weight':0.5,\n",
        "'bert.encoder.layer.1.attention.self.key.weight':0.6,\n",
        "'bert.encoder.layer.1.attention.self.value.weight':0.9,\n",
        "'bert.encoder.layer.1.attention.output.dense.weight':0.7,\n",
        "'bert.encoder.layer.1.intermediate.dense.weight':0.5,\n",
        "'bert.encoder.layer.1.output.dense.weight':0.7,\n",
        "'bert.encoder.layer.2.attention.self.query.weight':0.6,\n",
        "'bert.encoder.layer.2.attention.self.key.weight':0.5,\n",
        "'bert.encoder.layer.2.attention.self.value.weight':0.9,\n",
        "'bert.encoder.layer.2.attention.output.dense.weight':0.9,\n",
        "'bert.encoder.layer.2.intermediate.dense.weight':0.9,\n",
        "'bert.encoder.layer.2.output.dense.weight':0.9,\n",
        "'bert.encoder.layer.3.attention.self.query.weight':0.9,\n",
        "'bert.encoder.layer.3.attention.self.key.weight':0.7,\n",
        "'bert.encoder.layer.3.attention.self.value.weight':0.6,\n",
        "'bert.encoder.layer.3.attention.output.dense.weight':0.9,\n",
        "'bert.encoder.layer.3.intermediate.dense.weight':0.9,\n",
        "'bert.encoder.layer.3.output.dense.weight':0.7,\n",
        "'bert.pooler.dense.weight':0.8,\n",
        "'classifier.weight':0.9,\n",
        "'fit_dense.weight':0.9,\n",
        "}"
      ],
      "metadata": {
        "id": "PrZRQszLS89D"
      },
      "execution_count": null,
      "outputs": []
    },
    {
      "cell_type": "code",
      "source": [
        "pruner = FineGrainedPruner(student_model, sparsity_dict)\n",
        "\n",
        "sparse_model_size = get_model_size(student_model, count_nonzero_only=True)\n",
        "print(f\"Sparse model has size={sparse_model_size / MiB:.2f} MiB = {sparse_model_size / dense_model_size * 100:.2f}% of dense model size\")\n",
        "sparse_model_accuracy = evaluate(student_model)['acc']*100\n",
        "print(\"\\n\")\n",
        "print(f\"Sparse model has accuracy={sparse_model_accuracy:.2f}% before fintuning\")\n",
        "\n"
      ],
      "metadata": {
        "colab": {
          "base_uri": "https://localhost:8080/"
        },
        "id": "bAPNXhZRS_hb",
        "outputId": "fcfec027-03c9-4c21-d58d-324a9d0a2ca5"
      },
      "execution_count": null,
      "outputs": [
        {
          "output_type": "stream",
          "name": "stdout",
          "text": [
            "Sparse model has size=23.58 MiB = 42.36% of dense model size\n"
          ]
        },
        {
          "output_type": "stream",
          "name": "stderr",
          "text": [
            "Evaluating: 100%|██████████| 28/28 [00:00<00:00, 145.82it/s]"
          ]
        },
        {
          "output_type": "stream",
          "name": "stdout",
          "text": [
            "\n",
            "\n",
            "Sparse model has accuracy=65.94% before fintuning\n"
          ]
        },
        {
          "output_type": "stream",
          "name": "stderr",
          "text": [
            "\n"
          ]
        }
      ]
    },
    {
      "cell_type": "markdown",
      "source": [
        "## Fine-tuning the fine-grain pruned model"
      ],
      "metadata": {
        "id": "UQKxR5n2TMnK"
      }
    },
    {
      "cell_type": "code",
      "source": [
        "student_model = train_tinybert_sst2(student_model)"
      ],
      "metadata": {
        "colab": {
          "base_uri": "https://localhost:8080/"
        },
        "id": "C8a8aTDdTAKu",
        "outputId": "2d4c6902-8996-4172-b02d-34905fd87162"
      },
      "execution_count": null,
      "outputs": [
        {
          "output_type": "stream",
          "name": "stderr",
          "text": [
            "/usr/local/lib/python3.10/dist-packages/transformers/optimization.py:591: FutureWarning: This implementation of AdamW is deprecated and will be removed in a future version. Use the PyTorch implementation torch.optim.AdamW instead, or set `no_deprecation_warning=True` to disable this warning\n",
            "  warnings.warn(\n"
          ]
        },
        {
          "output_type": "stream",
          "name": "stdout",
          "text": [
            "Epoch 1/1\n"
          ]
        },
        {
          "output_type": "stream",
          "name": "stderr",
          "text": [
            "Training: 100%|██████████| 2105/2105 [00:49<00:00, 42.74it/s]\n"
          ]
        },
        {
          "output_type": "stream",
          "name": "stdout",
          "text": [
            "Training loss: 0.2284\n",
            "Training accuracy: 0.9136\n"
          ]
        },
        {
          "output_type": "stream",
          "name": "stderr",
          "text": [
            "Evaluating: 100%|██████████| 28/28 [00:00<00:00, 145.97it/s]\n"
          ]
        },
        {
          "output_type": "stream",
          "name": "stdout",
          "text": [
            "Validation loss: 0.3839\n",
            "Validation accuracy: 0.8532\n"
          ]
        }
      ]
    },
    {
      "cell_type": "markdown",
      "source": [
        "## Plots for finegrain pruning - TODO"
      ],
      "metadata": {
        "id": "uT62Cv-dUUzZ"
      }
    },
    {
      "cell_type": "markdown",
      "source": [
        "# Channel Pruning - TODO"
      ],
      "metadata": {
        "id": "CQKPBBPIT_g4"
      }
    },
    {
      "cell_type": "code",
      "source": [],
      "metadata": {
        "id": "v6qniuz5T3ir"
      },
      "execution_count": null,
      "outputs": []
    },
    {
      "cell_type": "markdown",
      "source": [
        "# K-means quantization"
      ],
      "metadata": {
        "id": "psAo7go4UDg5"
      }
    },
    {
      "cell_type": "markdown",
      "source": [
        "## k-means quantization functions"
      ],
      "metadata": {
        "id": "bytVEtQ1Ugox"
      }
    },
    {
      "cell_type": "code",
      "source": [
        "from collections import namedtuple\n",
        "\n",
        "Codebook = namedtuple('Codebook', ['centroids', 'labels'])"
      ],
      "metadata": {
        "id": "PaS374v5Udbh"
      },
      "execution_count": null,
      "outputs": []
    },
    {
      "cell_type": "code",
      "source": [
        "from fast_pytorch_kmeans import KMeans\n",
        "\n",
        "def k_means_quantize(fp32_tensor: torch.Tensor, bitwidth=4, codebook=None):\n",
        "    \"\"\"\n",
        "    quantize tensor using k-means clustering\n",
        "    :param fp32_tensor:\n",
        "    :param bitwidth: [int] quantization bit width, default=4\n",
        "    :param codebook: [Codebook] (the cluster centroids, the cluster label tensor)\n",
        "    :return:\n",
        "        [Codebook = (centroids, labels)]\n",
        "            centroids: [torch.(cuda.)FloatTensor] the cluster centroids\n",
        "            labels: [torch.(cuda.)LongTensor] cluster label tensor\n",
        "    \"\"\"\n",
        "    if codebook is None:\n",
        "        ############### YOUR CODE STARTS HERE ###############\n",
        "        # get number of clusters based on the quantization precision\n",
        "        # hint: one line of code\n",
        "        n_clusters = 2**bitwidth\n",
        "        ############### YOUR CODE ENDS HERE #################\n",
        "        # use k-means to get the quantization centroids\n",
        "        kmeans = KMeans(n_clusters=n_clusters, mode='euclidean', verbose=0)\n",
        "        labels = kmeans.fit_predict(fp32_tensor.view(-1, 1)).to(torch.long)\n",
        "        centroids = kmeans.centroids.to(torch.float).view(-1)\n",
        "        codebook = Codebook(centroids, labels)\n",
        "    ############### YOUR CODE STARTS HERE ###############\n",
        "    # decode the codebook into k-means quantized tensor for inference\n",
        "    # hint: one line of code\n",
        "    quantized_tensor = codebook.centroids[codebook.labels].view_as(fp32_tensor)\n",
        "    ############### YOUR CODE ENDS HERE #################\n",
        "    fp32_tensor.set_(quantized_tensor.view_as(fp32_tensor))\n",
        "    return codebook"
      ],
      "metadata": {
        "id": "1sZX-fC2Ul-5"
      },
      "execution_count": null,
      "outputs": []
    },
    {
      "cell_type": "code",
      "source": [
        "def update_codebook(fp32_tensor: torch.Tensor, codebook: Codebook):\n",
        "    \"\"\"\n",
        "    update the centroids in the codebook using updated fp32_tensor\n",
        "    :param fp32_tensor: [torch.(cuda.)Tensor]\n",
        "    :param codebook: [Codebook] (the cluster centroids, the cluster label tensor)\n",
        "    \"\"\"\n",
        "    n_clusters = codebook.centroids.numel()\n",
        "    fp32_tensor = fp32_tensor.view(-1)\n",
        "    for k in range(n_clusters):\n",
        "    ############### YOUR CODE STARTS HERE ###############\n",
        "        # hint: one line of code\n",
        "        # codebook.centroids[k] = torch.mean(fp32_tensor)\n",
        "        # print(\"length of codebook labels:\", len(codebook.labels))\n",
        "        # print(\"length of fp32_tensor:\", len(fp32_tensor))\n",
        "        codebook.centroids[k] = torch.mean(fp32_tensor[codebook.labels == k])\n",
        "    ############### YOUR CODE ENDS HERE #################"
      ],
      "metadata": {
        "id": "Eg1LtlG6Un5n"
      },
      "execution_count": null,
      "outputs": []
    },
    {
      "cell_type": "code",
      "source": [
        "from torch.nn import parameter\n",
        "class KMeansQuantizer:\n",
        "    def __init__(self, model : nn.Module, bitwidth=4):\n",
        "        self.codebook = KMeansQuantizer.quantize(model, bitwidth)\n",
        "\n",
        "    @torch.no_grad()\n",
        "    def apply(self, model, update_centroids):\n",
        "        for name, param in model.named_parameters():\n",
        "            if name in self.codebook:\n",
        "                if update_centroids:\n",
        "                    update_codebook(param, codebook=self.codebook[name])\n",
        "                self.codebook[name] = k_means_quantize(\n",
        "                    param, codebook=self.codebook[name])\n",
        "\n",
        "    @staticmethod\n",
        "    @torch.no_grad()\n",
        "    def quantize(model: nn.Module, bitwidth=4):\n",
        "        codebook = dict()\n",
        "        if isinstance(bitwidth, dict):\n",
        "            for name, param in model.named_parameters():\n",
        "                if name in bitwidth:\n",
        "                    codebook[name] = k_means_quantize(param, bitwidth=bitwidth[name])\n",
        "        else:\n",
        "            for name, param in model.named_parameters():\n",
        "                if param.dim() > 1:\n",
        "                    codebook[name] = k_means_quantize(param, bitwidth=bitwidth)\n",
        "        return codebook"
      ],
      "metadata": {
        "id": "DiS6sZ3SUqsA"
      },
      "execution_count": null,
      "outputs": []
    },
    {
      "cell_type": "markdown",
      "source": [
        "## Test k-means quantization"
      ],
      "metadata": {
        "id": "9KXkNIKSUy09"
      }
    },
    {
      "cell_type": "code",
      "source": [
        "device = torch.device(\"cuda\" if torch.cuda.is_available() else \"cpu\")\n",
        "quantizers = dict()\n",
        "bitwidths = [8, 4, 2]\n",
        "accs = []\n",
        "sizes = []\n",
        "for bitwidth in bitwidths:\n",
        "    # student_model = load_original_model()\n",
        "    # student_model.to(device)\n",
        "    # student_model = nn.DataParallel(student_model)\n",
        "    student_model = TinyBertForSequenceClassification.from_pretrained(STUDENT_CONFIG_DIR, num_labels=num_labels)\n",
        "\n",
        "    print(f'k-means quantizing model into {bitwidth} bits')\n",
        "    quantizer = KMeansQuantizer(student_model, bitwidth)\n",
        "    quantized_model_size = get_model_size(student_model, bitwidth)\n",
        "    print(f\"    {bitwidth}-bit k-means quantized model has size={quantized_model_size/MiB:.2f} MiB\")\n",
        "    sizes.append(quantized_model_size)\n",
        "    quantized_model_accuracy = evaluate(student_model)['acc'] *100\n",
        "    accs.append(quantized_model_accuracy)\n",
        "    print(f\"    {bitwidth}-bit k-means quantized model has accuracy={quantized_model_accuracy:.2f}%\")\n",
        "    quantizers[bitwidth] = quantizer\n",
        "\n",
        "plt.plot(bitwidths, accs)\n",
        "plt.xlabel('bitwidth')\n",
        "plt.ylabel('accuracy')\n",
        "plt.show()"
      ],
      "metadata": {
        "colab": {
          "base_uri": "https://localhost:8080/",
          "height": 661
        },
        "id": "eNKFPDoQUrAE",
        "outputId": "bea1ae39-fb69-4d96-f195-80526207a3d8"
      },
      "execution_count": null,
      "outputs": [
        {
          "output_type": "stream",
          "name": "stdout",
          "text": [
            "k-means quantizing model into 8 bits\n",
            "    8-bit k-means quantized model has size=13.92 MiB\n"
          ]
        },
        {
          "output_type": "stream",
          "name": "stderr",
          "text": [
            "Evaluating: 100%|██████████| 28/28 [00:00<00:00, 127.63it/s]\n"
          ]
        },
        {
          "output_type": "stream",
          "name": "stdout",
          "text": [
            "    8-bit k-means quantized model has accuracy=50.92%\n",
            "k-means quantizing model into 4 bits\n",
            "    4-bit k-means quantized model has size=6.96 MiB\n"
          ]
        },
        {
          "output_type": "stream",
          "name": "stderr",
          "text": [
            "Evaluating: 100%|██████████| 28/28 [00:00<00:00, 130.59it/s]\n"
          ]
        },
        {
          "output_type": "stream",
          "name": "stdout",
          "text": [
            "    4-bit k-means quantized model has accuracy=50.80%\n",
            "k-means quantizing model into 2 bits\n",
            "    2-bit k-means quantized model has size=3.48 MiB\n"
          ]
        },
        {
          "output_type": "stream",
          "name": "stderr",
          "text": [
            "Evaluating: 100%|██████████| 28/28 [00:00<00:00, 124.13it/s]\n"
          ]
        },
        {
          "output_type": "stream",
          "name": "stdout",
          "text": [
            "    2-bit k-means quantized model has accuracy=49.08%\n"
          ]
        },
        {
          "output_type": "display_data",
          "data": {
            "text/plain": [
              "<Figure size 640x480 with 1 Axes>"
            ],
            "image/png": "[encoded data removed]"
          },
          "metadata": {}
        }
      ]
    },
    {
      "cell_type": "code",
      "source": [
        "# save accs, sizes, and bitwidths to a pickle file\n",
        "import pickle\n",
        "res_dict = {'accs': accs, 'sizes': sizes, 'bitwidths': bitwidths}\n",
        "file_name = \"quant_no_finetuning_data.pkl\"\n",
        "with open(f'/content/{file_name}', 'wb') as f:\n",
        "    pickle.dump(res_dict, f)"
      ],
      "metadata": {
        "id": "W4MBCpQxX-6U"
      },
      "execution_count": null,
      "outputs": []
    },
    {
      "cell_type": "markdown",
      "source": [
        "## Finetuning quantized model"
      ],
      "metadata": {
        "id": "Yw9V41ZZVCeW"
      }
    },
    {
      "cell_type": "markdown",
      "source": [
        "We need a new training function for finetuning the quantized model because after each epoch we have to re-quantize the weights. The new method is modified only by additionally taking in the `quantizer` as a parameter and calling `quantizer.apply` after each epoch."
      ],
      "metadata": {
        "id": "Pk4rbsHkXZDs"
      }
    },
    {
      "cell_type": "markdown",
      "source": [
        "### finetuning quantized model methods"
      ],
      "metadata": {
        "id": "dZ6ZDEGvaFIz"
      }
    },
    {
      "cell_type": "code",
      "source": [
        "def train_quantized_tinybert(\n",
        "    model,\n",
        "    quantizer,\n",
        "    task_name,\n",
        "    train_dataloader,\n",
        "    eval_dataloader,\n",
        "    device,\n",
        "    output_mode,\n",
        "    num_labels,\n",
        "    eval_labels,\n",
        "    optimizer=None,\n",
        "    scheduler=None,\n",
        "    epochs=3\n",
        "):\n",
        "    \"\"\"\n",
        "    Fine-tune a TinyBERT model with training and validation metrics history.\n",
        "\n",
        "    Args:\n",
        "        model: The TinyBERT model to be fine-tuned.\n",
        "        task_name: Name of the task (used for metric computation).\n",
        "        train_dataloader: DataLoader for training data.\n",
        "        eval_dataloader: DataLoader for evaluation data.\n",
        "        device: Device to train on (e.g., 'cpu' or 'cuda').\n",
        "        output_mode: Output mode for the task ('classification' or 'regression').\n",
        "        num_labels: Number of labels for classification tasks.\n",
        "        eval_labels: Ground truth labels for the evaluation set.\n",
        "        optimizer: Optimizer for training (default is AdamW).\n",
        "        scheduler: Learning rate scheduler (optional).\n",
        "        epochs: Number of training epochs.\n",
        "\n",
        "    Returns:\n",
        "        model: The fine-tuned model with a `history` attribute.\n",
        "    \"\"\"\n",
        "    # Initialize optimizer if none is provided\n",
        "    if optimizer is None:\n",
        "        optimizer = AdamW(model.parameters(), lr=5e-5)\n",
        "\n",
        "    # Initialize or extend model's history attribute\n",
        "    if not hasattr(model, 'history'):\n",
        "        model.history = {'train_loss': [], 'val_loss': [], 'train_acc': [], 'val_acc': []}\n",
        "\n",
        "    # Move model to the specified device\n",
        "    model.to(device)\n",
        "\n",
        "    # Training loop\n",
        "    for epoch in range(epochs):\n",
        "        model.train()\n",
        "        total_loss = 0  # To track total training loss\n",
        "        nb_train_steps = 0  # To count the number of training steps\n",
        "        correct_predictions = 0\n",
        "        total_predictions = 0\n",
        "\n",
        "        print(f\"Epoch {epoch + 1}/{epochs}\")\n",
        "\n",
        "        # Training step\n",
        "        for step, batch in enumerate(tqdm(train_dataloader, desc=\"Training\")):\n",
        "            # Move each tensor in the batch to the device\n",
        "            batch = tuple(t.to(device) for t in batch)\n",
        "            input_ids, input_mask, segment_ids, label_ids, seq_lengths = batch\n",
        "\n",
        "            # Zero the gradients to prevent accumulation\n",
        "            optimizer.zero_grad()\n",
        "\n",
        "            # Forward pass\n",
        "            logits, _, _ = model(input_ids, segment_ids, input_mask)\n",
        "\n",
        "            # Compute loss\n",
        "            if output_mode == \"classification\":\n",
        "                loss_fct = CrossEntropyLoss()\n",
        "                loss = loss_fct(logits.view(-1, num_labels), label_ids.view(-1))\n",
        "                preds = torch.argmax(logits, dim=1)\n",
        "            elif output_mode == \"regression\":\n",
        "                loss_fct = MSELoss()\n",
        "                loss = loss_fct(logits.view(-1), label_ids.view(-1))\n",
        "                preds = logits.squeeze()\n",
        "            else:\n",
        "                raise ValueError(f\"Unknown output mode: {output_mode}\")\n",
        "\n",
        "            # Update metrics\n",
        "            if output_mode == \"classification\":\n",
        "                correct_predictions += (preds == label_ids).sum().item()\n",
        "                total_predictions += label_ids.size(0)\n",
        "\n",
        "            # Backward pass and optimization\n",
        "            loss.backward()\n",
        "            optimizer.step()\n",
        "\n",
        "            # apply the quantization\n",
        "            quantizer.apply(model, update_centroids=False)\n",
        "\n",
        "            # Update training metrics\n",
        "            total_loss += loss.item()\n",
        "            nb_train_steps += 1\n",
        "\n",
        "        # Adjust learning rate with scheduler (if provided)\n",
        "        if scheduler:\n",
        "            scheduler.step()\n",
        "\n",
        "        # Compute training metrics\n",
        "        avg_train_loss = total_loss / nb_train_steps\n",
        "        train_accuracy = correct_predictions / total_predictions if output_mode == \"classification\" else None\n",
        "        print(f\"Training loss: {avg_train_loss:.4f}\")\n",
        "        if train_accuracy is not None:\n",
        "            print(f\"Training accuracy: {train_accuracy:.4f}\")\n",
        "\n",
        "        # Evaluate the model\n",
        "        eval_result = evaluate_tinybert(\n",
        "            model, task_name, eval_dataloader, device, output_mode, eval_labels, num_labels\n",
        "        )\n",
        "        avg_val_loss = eval_result['eval_loss']\n",
        "        val_accuracy = eval_result['acc']\n",
        "\n",
        "        # Print validation results\n",
        "        print(f\"Validation loss: {avg_val_loss:.4f}\")\n",
        "        print(f\"Validation accuracy: {val_accuracy:.4f}\")\n",
        "\n",
        "        # Update the model's history\n",
        "        model.history['train_loss'].append(avg_train_loss)\n",
        "        model.history['val_loss'].append(avg_val_loss)\n",
        "        if train_accuracy is not None:\n",
        "            model.history['train_acc'].append(train_accuracy)\n",
        "        model.history['val_acc'].append(val_accuracy)\n",
        "\n",
        "    return model\n"
      ],
      "metadata": {
        "id": "Ssdf82I2U3Oz"
      },
      "execution_count": null,
      "outputs": []
    },
    {
      "cell_type": "code",
      "source": [
        "# putting the dataset prep and training into one function\n",
        "\n",
        "def train_quantized_tinybert_sst2(student_model, quantizer):\n",
        "  # building the train and evaluation dataloader\n",
        "  do_lower_case = False\n",
        "  data_dir = '/content/SST-2'\n",
        "  processor = Sst2Processor()\n",
        "  label_list = processor.get_labels()\n",
        "  num_labels = len(label_list)\n",
        "  max_seq_length = 128\n",
        "  eval_batch_size = 32\n",
        "  train_batch_size = 32\n",
        "  task_name = \"sst2\"\n",
        "  output_mode = \"classification\"\n",
        "  device = torch.device(\"cuda\" if torch.cuda.is_available() else \"cpu\")\n",
        "  # student_model = TinyBertForSequenceClassification.from_pretrained(STUDENT_CONFIG_DIR, num_labels=num_labels)\n",
        "  student_model.to(device)\n",
        "\n",
        "  tokenizer = BertTokenizer.from_pretrained(STUDENT_CONFIG_DIR, do_lower_case=do_lower_case)\n",
        "  eval_examples = processor.get_dev_examples(data_dir)\n",
        "  eval_features = convert_examples_to_features(eval_examples, label_list, max_seq_length, tokenizer, output_mode)\n",
        "  eval_data, eval_labels = get_tensor_data(output_mode, eval_features)\n",
        "  eval_sampler = SequentialSampler(eval_data)\n",
        "  eval_dataloader = DataLoader(eval_data, sampler=eval_sampler, batch_size=eval_batch_size)\n",
        "\n",
        "  train_examples = processor.get_train_examples(data_dir)\n",
        "  train_features = convert_examples_to_features(train_examples, label_list, max_seq_length, tokenizer, output_mode)\n",
        "  train_data, train_labels = get_tensor_data(output_mode, train_features)\n",
        "  train_sampler = SequentialSampler(train_data)\n",
        "  train_dataloader = DataLoader(train_data, sampler=train_sampler, batch_size=train_batch_size)\n",
        "\n",
        "  # only train for 1 epoch - overfits fast\n",
        "  student_model = train_quantized_tinybert(\n",
        "      student_model,\n",
        "      quantizer,\n",
        "      task_name,\n",
        "      train_dataloader,\n",
        "      eval_dataloader,\n",
        "      device,\n",
        "      output_mode,\n",
        "      num_labels,\n",
        "      eval_labels,\n",
        "      optimizer=None,\n",
        "      scheduler=None,\n",
        "      epochs=1\n",
        "  )\n",
        "  return student_model"
      ],
      "metadata": {
        "id": "KrquyJ-YZ9lb"
      },
      "execution_count": null,
      "outputs": []
    },
    {
      "cell_type": "markdown",
      "source": [
        "### Run the Finetuning"
      ],
      "metadata": {
        "id": "OjWl1DoKaRbH"
      }
    },
    {
      "cell_type": "code",
      "source": [
        "device = torch.device(\"cuda\" if torch.cuda.is_available() else \"cpu\")\n",
        "quantizers = dict()\n",
        "bitwidths = [8, 4, 2]\n",
        "accs = []\n",
        "sizes = []\n",
        "for bitwidth in bitwidths:\n",
        "    # student_model = load_original_model()\n",
        "    # student_model.to(device)\n",
        "    # student_model = nn.DataParallel(student_model)\n",
        "    student_model = TinyBertForSequenceClassification.from_pretrained(STUDENT_CONFIG_DIR, num_labels=num_labels)\n",
        "    student_model.to(device)\n",
        "\n",
        "    print(f'k-means quantizing model into {bitwidth} bits')\n",
        "    quantizer = KMeansQuantizer(student_model, bitwidth)\n",
        "\n",
        "    # finetune quantized model\n",
        "    print(f\"FINETUNING {bitwidth}-bit model\")\n",
        "    student_model = train_quantized_tinybert_sst2(student_model, quantizer)\n",
        "\n",
        "    quantized_model_size = get_model_size(student_model, bitwidth)\n",
        "    print(f\"    {bitwidth}-bit k-means quantized model has size={quantized_model_size/MiB:.2f} MiB\")\n",
        "    sizes.append(quantized_model_size)\n",
        "    quantized_model_accuracy = evaluate(student_model)['acc'] *100\n",
        "    accs.append(quantized_model_accuracy)\n",
        "    print(f\"    {bitwidth}-bit k-means quantized model has accuracy={quantized_model_accuracy:.2f}%\")\n",
        "    quantizers[bitwidth] = quantizer\n",
        "\n",
        "plt.plot(bitwidths, accs)\n",
        "plt.xlabel('bitwidth')\n",
        "plt.ylabel('accuracy')\n",
        "plt.show()"
      ],
      "metadata": {
        "colab": {
          "base_uri": "https://localhost:8080/",
          "height": 1000
        },
        "id": "5fow9ecOaU2U",
        "outputId": "815e39e4-bc96-46c3-daaf-dc9eb0d96e73"
      },
      "execution_count": null,
      "outputs": [
        {
          "output_type": "stream",
          "name": "stderr",
          "text": [
            "/content/Pretrained-Language-Model/TinyBERT/transformer/modeling.py:696: FutureWarning: You are using `torch.load` with `weights_only=False` (the current default value), which uses the default pickle module implicitly. It is possible to construct malicious pickle data which will execute arbitrary code during unpickling (See https://github.com/pytorch/pytorch/blob/main/SECURITY.md#untrusted-models for more details). In a future release, the default value for `weights_only` will be flipped to `True`. This limits the functions that could be executed during unpickling. Arbitrary objects will no longer be allowed to be loaded via this mode unless they are explicitly allowlisted by the user via `torch.serialization.add_safe_globals`. We recommend you start setting `weights_only=True` for any use case where you don't have full control of the loaded file. Please open an issue on GitHub for any issues related to this experimental feature.\n",
            "  state_dict = torch.load(weights_path, map_location='cpu')\n"
          ]
        },
        {
          "output_type": "stream",
          "name": "stdout",
          "text": [
            "k-means quantizing model into 8 bits\n"
          ]
        },
        {
          "output_type": "stream",
          "name": "stderr",
          "text": [
            "/usr/local/lib/python3.10/dist-packages/transformers/optimization.py:591: FutureWarning: This implementation of AdamW is deprecated and will be removed in a future version. Use the PyTorch implementation torch.optim.AdamW instead, or set `no_deprecation_warning=True` to disable this warning\n",
            "  warnings.warn(\n"
          ]
        },
        {
          "output_type": "stream",
          "name": "stdout",
          "text": [
            "Epoch 1/1\n"
          ]
        },
        {
          "output_type": "stream",
          "name": "stderr",
          "text": [
            "Training: 100%|██████████| 2105/2105 [00:51<00:00, 40.55it/s]\n"
          ]
        },
        {
          "output_type": "stream",
          "name": "stdout",
          "text": [
            "Training loss: 0.6609\n",
            "Training accuracy: 0.7739\n"
          ]
        },
        {
          "output_type": "stream",
          "name": "stderr",
          "text": [
            "Evaluating: 100%|██████████| 28/28 [00:00<00:00, 145.14it/s]\n"
          ]
        },
        {
          "output_type": "stream",
          "name": "stdout",
          "text": [
            "Validation loss: 0.6407\n",
            "Validation accuracy: 0.7913\n",
            "FINETUNING 8-bit model\n",
            "    8-bit k-means quantized model has size=13.92 MiB\n"
          ]
        },
        {
          "output_type": "stream",
          "name": "stderr",
          "text": [
            "Evaluating: 100%|██████████| 28/28 [00:00<00:00, 145.18it/s]\n"
          ]
        },
        {
          "output_type": "stream",
          "name": "stdout",
          "text": [
            "    8-bit k-means quantized model has accuracy=79.13%\n",
            "k-means quantizing model into 4 bits\n",
            "Epoch 1/1\n"
          ]
        },
        {
          "output_type": "stream",
          "name": "stderr",
          "text": [
            "Training: 100%|██████████| 2105/2105 [00:52<00:00, 40.43it/s]\n"
          ]
        },
        {
          "output_type": "stream",
          "name": "stdout",
          "text": [
            "Training loss: 0.6718\n",
            "Training accuracy: 0.5580\n"
          ]
        },
        {
          "output_type": "stream",
          "name": "stderr",
          "text": [
            "Evaluating: 100%|██████████| 28/28 [00:00<00:00, 147.77it/s]\n"
          ]
        },
        {
          "output_type": "stream",
          "name": "stdout",
          "text": [
            "Validation loss: 0.6546\n",
            "Validation accuracy: 0.5837\n",
            "FINETUNING 4-bit model\n",
            "    4-bit k-means quantized model has size=6.96 MiB\n"
          ]
        },
        {
          "output_type": "stream",
          "name": "stderr",
          "text": [
            "Evaluating: 100%|██████████| 28/28 [00:00<00:00, 143.87it/s]\n"
          ]
        },
        {
          "output_type": "stream",
          "name": "stdout",
          "text": [
            "    4-bit k-means quantized model has accuracy=58.37%\n",
            "k-means quantizing model into 2 bits\n",
            "Epoch 1/1\n"
          ]
        },
        {
          "output_type": "stream",
          "name": "stderr",
          "text": [
            "Training: 100%|██████████| 2105/2105 [00:51<00:00, 40.61it/s]\n"
          ]
        },
        {
          "output_type": "stream",
          "name": "stdout",
          "text": [
            "Training loss: 0.6870\n",
            "Training accuracy: 0.5578\n"
          ]
        },
        {
          "output_type": "stream",
          "name": "stderr",
          "text": [
            "Evaluating: 100%|██████████| 28/28 [00:00<00:00, 146.90it/s]\n"
          ]
        },
        {
          "output_type": "stream",
          "name": "stdout",
          "text": [
            "Validation loss: 0.6924\n",
            "Validation accuracy: 0.5092\n",
            "FINETUNING 2-bit model\n",
            "    2-bit k-means quantized model has size=3.48 MiB\n"
          ]
        },
        {
          "output_type": "stream",
          "name": "stderr",
          "text": [
            "Evaluating: 100%|██████████| 28/28 [00:00<00:00, 145.63it/s]\n"
          ]
        },
        {
          "output_type": "stream",
          "name": "stdout",
          "text": [
            "    2-bit k-means quantized model has accuracy=50.92%\n"
          ]
        },
        {
          "output_type": "display_data",
          "data": {
            "text/plain": [
              "<Figure size 640x480 with 1 Axes>"
            ],
            "image/png": "[encoded data removed]"
          },
          "metadata": {}
        }
      ]
    },
    {
      "cell_type": "code",
      "source": [
        "# save accs, sizes, and bitwidths to a pickle file\n",
        "import pickle\n",
        "res_dict = {'accs': accs, 'sizes': sizes, 'bitwidths': bitwidths}\n",
        "file_name = \"quant_WITH_finetuning_data.pkl\"\n",
        "with open(f'/content/{file_name}', 'wb') as f:\n",
        "    pickle.dump(res_dict, f)"
      ],
      "metadata": {
        "id": "UKHx19_ja1wq"
      },
      "execution_count": null,
      "outputs": []
    },
    {
      "cell_type": "markdown",
      "source": [
        "# Pruning AND Quantization Together"
      ],
      "metadata": {
        "id": "aqRwXwO4fJzN"
      }
    },
    {
      "cell_type": "markdown",
      "source": [
        "## Apply Pruning and Quantization without Finetuning"
      ],
      "metadata": {
        "id": "3QOUCL7JiE2u"
      }
    },
    {
      "cell_type": "code",
      "source": [
        "device = torch.device(\"cuda\" if torch.cuda.is_available() else \"cpu\")\n",
        "quantizers = dict()\n",
        "bitwidths = [8, 4, 2]\n",
        "accs = []\n",
        "sparse_sizes = []\n",
        "final_sizes = []\n",
        "for bitwidth in bitwidths:\n",
        "    # student_model = load_original_model()\n",
        "    # student_model.to(device)\n",
        "    # student_model = nn.DataParallel(student_model)\n",
        "    student_model = TinyBertForSequenceClassification.from_pretrained(STUDENT_CONFIG_DIR, num_labels=num_labels)\n",
        "\n",
        "    print(\"pruning...\")\n",
        "    pruner = FineGrainedPruner(student_model, sparsity_dict)\n",
        "    # before quantizing, the bitwidth is 32\n",
        "    sparse_model_size = get_model_size(student_model, data_width=32, count_nonzero_only=True)\n",
        "    sparse_sizes.append(sparse_model_size)\n",
        "    print(f\"  pruned model has size={sparse_model_size/MiB:.2f} MiB\")\n",
        "\n",
        "    print(f'k-means quantizing model into {bitwidth} bits')\n",
        "    quantizer = KMeansQuantizer(student_model, bitwidth)\n",
        "    quantized_model_size = get_model_size(student_model, data_width=bitwidth, count_nonzero_only=True)\n",
        "    final_sizes.append(quantized_model_size)\n",
        "    print(f\"    pruned {bitwidth}-bit k-means quantized model has size={quantized_model_size/MiB:.2f} MiB\")\n",
        "\n",
        "    quantized_model_accuracy = evaluate(student_model)['acc'] *100\n",
        "    accs.append(quantized_model_accuracy)\n",
        "    print(f\"    pruned {bitwidth}-bit k-means quantized model has accuracy={quantized_model_accuracy:.2f}%\")\n",
        "    quantizers[bitwidth] = quantizer\n",
        "\n",
        "plt.plot(bitwidths, accs)\n",
        "plt.xlabel('bitwidth')\n",
        "plt.ylabel('accuracy')\n",
        "plt.show()"
      ],
      "metadata": {
        "colab": {
          "base_uri": "https://localhost:8080/",
          "height": 820
        },
        "id": "F7PIzJExiKfD",
        "outputId": "ab9794d2-2f3d-4ff6-ccbc-b25ca11af782"
      },
      "execution_count": null,
      "outputs": [
        {
          "output_type": "stream",
          "name": "stderr",
          "text": [
            "/content/Pretrained-Language-Model/TinyBERT/transformer/modeling.py:696: FutureWarning: You are using `torch.load` with `weights_only=False` (the current default value), which uses the default pickle module implicitly. It is possible to construct malicious pickle data which will execute arbitrary code during unpickling (See https://github.com/pytorch/pytorch/blob/main/SECURITY.md#untrusted-models for more details). In a future release, the default value for `weights_only` will be flipped to `True`. This limits the functions that could be executed during unpickling. Arbitrary objects will no longer be allowed to be loaded via this mode unless they are explicitly allowlisted by the user via `torch.serialization.add_safe_globals`. We recommend you start setting `weights_only=True` for any use case where you don't have full control of the loaded file. Please open an issue on GitHub for any issues related to this experimental feature.\n",
            "  state_dict = torch.load(weights_path, map_location='cpu')\n"
          ]
        },
        {
          "output_type": "stream",
          "name": "stdout",
          "text": [
            "pruning...\n",
            "  pruned model has size=23.58 MiB\n",
            "k-means quantizing model into 8 bits\n",
            "    pruned 8-bit k-means quantized model has size=5.89 MiB\n"
          ]
        },
        {
          "output_type": "stream",
          "name": "stderr",
          "text": [
            "Evaluating: 100%|██████████| 28/28 [00:00<00:00, 123.46it/s]\n"
          ]
        },
        {
          "output_type": "stream",
          "name": "stdout",
          "text": [
            "    pruned 8-bit k-means quantized model has accuracy=50.92%\n",
            "pruning...\n",
            "  pruned model has size=23.58 MiB\n",
            "k-means quantizing model into 4 bits\n",
            "    pruned 4-bit k-means quantized model has size=2.99 MiB\n"
          ]
        },
        {
          "output_type": "stream",
          "name": "stderr",
          "text": [
            "Evaluating: 100%|██████████| 28/28 [00:00<00:00, 124.55it/s]\n"
          ]
        },
        {
          "output_type": "stream",
          "name": "stdout",
          "text": [
            "    pruned 4-bit k-means quantized model has accuracy=50.92%\n",
            "pruning...\n",
            "  pruned model has size=23.58 MiB\n",
            "k-means quantizing model into 2 bits\n",
            "    pruned 2-bit k-means quantized model has size=3.21 MiB\n"
          ]
        },
        {
          "output_type": "stream",
          "name": "stderr",
          "text": [
            "Evaluating: 100%|██████████| 28/28 [00:00<00:00, 124.22it/s]\n"
          ]
        },
        {
          "output_type": "stream",
          "name": "stdout",
          "text": [
            "    pruned 2-bit k-means quantized model has accuracy=49.08%\n"
          ]
        },
        {
          "output_type": "display_data",
          "data": {
            "text/plain": [
              "<Figure size 640x480 with 1 Axes>"
            ],
            "image/png": "[encoded data removed]"
          },
          "metadata": {}
        }
      ]
    },
    {
      "cell_type": "code",
      "source": [
        "# save accs, sizes, and bitwidths to a pickle file\n",
        "import pickle\n",
        "res_dict = {'accs': accs, 'sparse_sizes': sparse_sizes, 'final_sizes': final_sizes, 'bitwidths': bitwidths}\n",
        "file_name = \"prune_and_quant_NO_finetuning_data.pkl\"\n",
        "with open(f'/content/{file_name}', 'wb') as f:\n",
        "    pickle.dump(res_dict, f)"
      ],
      "metadata": {
        "id": "9RJBfvLTifRO"
      },
      "execution_count": null,
      "outputs": []
    },
    {
      "cell_type": "markdown",
      "source": [
        "## finetuning pruned+quantized model functions"
      ],
      "metadata": {
        "id": "7xJEuGHGf2jV"
      }
    },
    {
      "cell_type": "markdown",
      "source": [
        "When finetuning a pruned and quantized model, we need to apply both the pruner and quantizer after each epoch."
      ],
      "metadata": {
        "id": "iM_IIcscfuAt"
      }
    },
    {
      "cell_type": "code",
      "source": [
        "def train_pruned_quantized_tinybert(\n",
        "    model,\n",
        "    quantizer,\n",
        "    pruner,\n",
        "    task_name,\n",
        "    train_dataloader,\n",
        "    eval_dataloader,\n",
        "    device,\n",
        "    output_mode,\n",
        "    num_labels,\n",
        "    eval_labels,\n",
        "    optimizer=None,\n",
        "    scheduler=None,\n",
        "    epochs=3\n",
        "):\n",
        "    \"\"\"\n",
        "    Fine-tune a TinyBERT model with training and validation metrics history.\n",
        "\n",
        "    Args:\n",
        "        model: The TinyBERT model to be fine-tuned.\n",
        "        task_name: Name of the task (used for metric computation).\n",
        "        train_dataloader: DataLoader for training data.\n",
        "        eval_dataloader: DataLoader for evaluation data.\n",
        "        device: Device to train on (e.g., 'cpu' or 'cuda').\n",
        "        output_mode: Output mode for the task ('classification' or 'regression').\n",
        "        num_labels: Number of labels for classification tasks.\n",
        "        eval_labels: Ground truth labels for the evaluation set.\n",
        "        optimizer: Optimizer for training (default is AdamW).\n",
        "        scheduler: Learning rate scheduler (optional).\n",
        "        epochs: Number of training epochs.\n",
        "\n",
        "    Returns:\n",
        "        model: The fine-tuned model with a `history` attribute.\n",
        "    \"\"\"\n",
        "    # Initialize optimizer if none is provided\n",
        "    if optimizer is None:\n",
        "        optimizer = AdamW(model.parameters(), lr=5e-5)\n",
        "\n",
        "    # Initialize or extend model's history attribute\n",
        "    if not hasattr(model, 'history'):\n",
        "        model.history = {'train_loss': [], 'val_loss': [], 'train_acc': [], 'val_acc': []}\n",
        "\n",
        "    # Move model to the specified device\n",
        "    model.to(device)\n",
        "\n",
        "    # Training loop\n",
        "    for epoch in range(epochs):\n",
        "        model.train()\n",
        "        total_loss = 0  # To track total training loss\n",
        "        nb_train_steps = 0  # To count the number of training steps\n",
        "        correct_predictions = 0\n",
        "        total_predictions = 0\n",
        "\n",
        "        print(f\"Epoch {epoch + 1}/{epochs}\")\n",
        "\n",
        "        # Training step\n",
        "        for step, batch in enumerate(tqdm(train_dataloader, desc=\"Training\")):\n",
        "            # Move each tensor in the batch to the device\n",
        "            batch = tuple(t.to(device) for t in batch)\n",
        "            input_ids, input_mask, segment_ids, label_ids, seq_lengths = batch\n",
        "\n",
        "            # Zero the gradients to prevent accumulation\n",
        "            optimizer.zero_grad()\n",
        "\n",
        "            # Forward pass\n",
        "            logits, _, _ = model(input_ids, segment_ids, input_mask)\n",
        "\n",
        "            # Compute loss\n",
        "            if output_mode == \"classification\":\n",
        "                loss_fct = CrossEntropyLoss()\n",
        "                loss = loss_fct(logits.view(-1, num_labels), label_ids.view(-1))\n",
        "                preds = torch.argmax(logits, dim=1)\n",
        "            elif output_mode == \"regression\":\n",
        "                loss_fct = MSELoss()\n",
        "                loss = loss_fct(logits.view(-1), label_ids.view(-1))\n",
        "                preds = logits.squeeze()\n",
        "            else:\n",
        "                raise ValueError(f\"Unknown output mode: {output_mode}\")\n",
        "\n",
        "            # Update metrics\n",
        "            if output_mode == \"classification\":\n",
        "                correct_predictions += (preds == label_ids).sum().item()\n",
        "                total_predictions += label_ids.size(0)\n",
        "\n",
        "            # Backward pass and optimization\n",
        "            loss.backward()\n",
        "            optimizer.step()\n",
        "\n",
        "            # apply the pruning and quantization\n",
        "            pruner.apply(model)\n",
        "            quantizer.apply(model, update_centroids=True)\n",
        "\n",
        "            # Update training metrics\n",
        "            total_loss += loss.item()\n",
        "            nb_train_steps += 1\n",
        "\n",
        "        # Adjust learning rate with scheduler (if provided)\n",
        "        if scheduler:\n",
        "            scheduler.step()\n",
        "\n",
        "        # Compute training metrics\n",
        "        avg_train_loss = total_loss / nb_train_steps\n",
        "        train_accuracy = correct_predictions / total_predictions if output_mode == \"classification\" else None\n",
        "        print(f\"Training loss: {avg_train_loss:.4f}\")\n",
        "        if train_accuracy is not None:\n",
        "            print(f\"Training accuracy: {train_accuracy:.4f}\")\n",
        "\n",
        "        # Evaluate the model\n",
        "        eval_result = evaluate_tinybert(\n",
        "            model, task_name, eval_dataloader, device, output_mode, eval_labels, num_labels\n",
        "        )\n",
        "        avg_val_loss = eval_result['eval_loss']\n",
        "        val_accuracy = eval_result['acc']\n",
        "\n",
        "        # Print validation results\n",
        "        print(f\"Validation loss: {avg_val_loss:.4f}\")\n",
        "        print(f\"Validation accuracy: {val_accuracy:.4f}\")\n",
        "\n",
        "        # Update the model's history\n",
        "        model.history['train_loss'].append(avg_train_loss)\n",
        "        model.history['val_loss'].append(avg_val_loss)\n",
        "        if train_accuracy is not None:\n",
        "            model.history['train_acc'].append(train_accuracy)\n",
        "        model.history['val_acc'].append(val_accuracy)\n",
        "\n",
        "    return model\n"
      ],
      "metadata": {
        "id": "Ed60ycHMcBAQ"
      },
      "execution_count": null,
      "outputs": []
    },
    {
      "cell_type": "code",
      "source": [
        "# putting the dataset prep and training into one function\n",
        "\n",
        "def train_pruned_quantized_tinybert_sst2(student_model, quantizer, pruner):\n",
        "  # building the train and evaluation dataloader\n",
        "  do_lower_case = False\n",
        "  data_dir = '/content/SST-2'\n",
        "  processor = Sst2Processor()\n",
        "  label_list = processor.get_labels()\n",
        "  num_labels = len(label_list)\n",
        "  max_seq_length = 128\n",
        "  eval_batch_size = 32\n",
        "  train_batch_size = 32\n",
        "  task_name = \"sst2\"\n",
        "  output_mode = \"classification\"\n",
        "  device = torch.device(\"cuda\" if torch.cuda.is_available() else \"cpu\")\n",
        "  # student_model = TinyBertForSequenceClassification.from_pretrained(STUDENT_CONFIG_DIR, num_labels=num_labels)\n",
        "  student_model.to(device)\n",
        "\n",
        "  tokenizer = BertTokenizer.from_pretrained(STUDENT_CONFIG_DIR, do_lower_case=do_lower_case)\n",
        "  eval_examples = processor.get_dev_examples(data_dir)\n",
        "  eval_features = convert_examples_to_features(eval_examples, label_list, max_seq_length, tokenizer, output_mode)\n",
        "  eval_data, eval_labels = get_tensor_data(output_mode, eval_features)\n",
        "  eval_sampler = SequentialSampler(eval_data)\n",
        "  eval_dataloader = DataLoader(eval_data, sampler=eval_sampler, batch_size=eval_batch_size)\n",
        "\n",
        "  train_examples = processor.get_train_examples(data_dir)\n",
        "  train_features = convert_examples_to_features(train_examples, label_list, max_seq_length, tokenizer, output_mode)\n",
        "  train_data, train_labels = get_tensor_data(output_mode, train_features)\n",
        "  train_sampler = SequentialSampler(train_data)\n",
        "  train_dataloader = DataLoader(train_data, sampler=train_sampler, batch_size=train_batch_size)\n",
        "\n",
        "  # only train for 1 epoch - overfits fast\n",
        "  student_model = train_pruned_quantized_tinybert(\n",
        "      student_model,\n",
        "      quantizer,\n",
        "      pruner,\n",
        "      task_name,\n",
        "      train_dataloader,\n",
        "      eval_dataloader,\n",
        "      device,\n",
        "      output_mode,\n",
        "      num_labels,\n",
        "      eval_labels,\n",
        "      optimizer=None,\n",
        "      scheduler=None,\n",
        "      epochs=1\n",
        "  )\n",
        "  return student_model"
      ],
      "metadata": {
        "id": "dmeBMsL0gSVx"
      },
      "execution_count": null,
      "outputs": []
    },
    {
      "cell_type": "markdown",
      "source": [
        "## run finetuning on pruned and quantized model"
      ],
      "metadata": {
        "id": "SurXNlbvgf6Z"
      }
    },
    {
      "cell_type": "code",
      "source": [
        "device = torch.device(\"cuda\" if torch.cuda.is_available() else \"cpu\")\n",
        "quantizers = dict()\n",
        "bitwidths = [8, 4, 2]\n",
        "accs = []\n",
        "sizes = []\n",
        "sparse_sizes = []\n",
        "final_sizes = []\n",
        "for bitwidth in bitwidths:\n",
        "    # student_model = load_original_model()\n",
        "    # student_model.to(device)\n",
        "    # student_model = nn.DataParallel(student_model)\n",
        "    student_model = TinyBertForSequenceClassification.from_pretrained(STUDENT_CONFIG_DIR, num_labels=num_labels)\n",
        "    student_model.to(device)\n",
        "\n",
        "    print(\"pruning...\")\n",
        "    pruner = FineGrainedPruner(student_model, sparsity_dict)\n",
        "    # before quantizing, the bitwidth is 32\n",
        "    sparse_model_size = get_model_size(student_model, data_width=32, count_nonzero_only=True)\n",
        "    sparse_sizes.append(sparse_model_size)\n",
        "    print(f\"  pruned model has size={sparse_model_size/MiB:.2f} MiB\")\n",
        "\n",
        "    print(f'k-means quantizing model into {bitwidth} bits')\n",
        "    quantizer = KMeansQuantizer(student_model, bitwidth)\n",
        "    quantized_model_size = get_model_size(student_model, data_width=bitwidth, count_nonzero_only=True)\n",
        "    final_sizes.append(quantized_model_size)\n",
        "    print(f\"    pruned {bitwidth}-bit k-means quantized model has size={quantized_model_size/MiB:.2f} MiB\")\n",
        "\n",
        "    # finetune quantized model\n",
        "    print(f\"FINETUNING pruned {bitwidth}-bit model\")\n",
        "    student_model = train_pruned_quantized_tinybert_sst2(student_model, quantizer, pruner)\n",
        "\n",
        "    quantized_model_accuracy = evaluate(student_model)['acc'] *100\n",
        "    accs.append(quantized_model_accuracy)\n",
        "    print(f\"    pruned {bitwidth}-bit k-means quantized model has accuracy={quantized_model_accuracy:.2f}%\")\n",
        "    quantizers[bitwidth] = quantizer\n",
        "\n",
        "plt.plot(bitwidths, accs)\n",
        "plt.xlabel('bitwidth')\n",
        "plt.ylabel('accuracy')\n",
        "plt.show()"
      ],
      "metadata": {
        "colab": {
          "base_uri": "https://localhost:8080/",
          "height": 1000
        },
        "id": "wwD9fDyHgele",
        "outputId": "f1381b0e-de82-4065-ff00-72c16a52aae9"
      },
      "execution_count": null,
      "outputs": [
        {
          "output_type": "stream",
          "name": "stderr",
          "text": [
            "/content/Pretrained-Language-Model/TinyBERT/transformer/modeling.py:696: FutureWarning: You are using `torch.load` with `weights_only=False` (the current default value), which uses the default pickle module implicitly. It is possible to construct malicious pickle data which will execute arbitrary code during unpickling (See https://github.com/pytorch/pytorch/blob/main/SECURITY.md#untrusted-models for more details). In a future release, the default value for `weights_only` will be flipped to `True`. This limits the functions that could be executed during unpickling. Arbitrary objects will no longer be allowed to be loaded via this mode unless they are explicitly allowlisted by the user via `torch.serialization.add_safe_globals`. We recommend you start setting `weights_only=True` for any use case where you don't have full control of the loaded file. Please open an issue on GitHub for any issues related to this experimental feature.\n",
            "  state_dict = torch.load(weights_path, map_location='cpu')\n"
          ]
        },
        {
          "output_type": "stream",
          "name": "stdout",
          "text": [
            "pruning...\n",
            "  pruned model has size=23.58 MiB\n",
            "k-means quantizing model into 8 bits\n",
            "    pruned 8-bit k-means quantized model has size=5.89 MiB\n",
            "FINETUNING pruned 8-bit model\n"
          ]
        },
        {
          "output_type": "stream",
          "name": "stderr",
          "text": [
            "/usr/local/lib/python3.10/dist-packages/transformers/optimization.py:591: FutureWarning: This implementation of AdamW is deprecated and will be removed in a future version. Use the PyTorch implementation torch.optim.AdamW instead, or set `no_deprecation_warning=True` to disable this warning\n",
            "  warnings.warn(\n"
          ]
        },
        {
          "output_type": "stream",
          "name": "stdout",
          "text": [
            "Epoch 1/1\n"
          ]
        },
        {
          "output_type": "stream",
          "name": "stderr",
          "text": [
            "Training: 100%|██████████| 2105/2105 [28:34<00:00,  1.23it/s]\n"
          ]
        },
        {
          "output_type": "stream",
          "name": "stdout",
          "text": [
            "Training loss: 0.6877\n",
            "Training accuracy: 0.5554\n"
          ]
        },
        {
          "output_type": "stream",
          "name": "stderr",
          "text": [
            "Evaluating: 100%|██████████| 28/28 [00:00<00:00, 146.03it/s]\n"
          ]
        },
        {
          "output_type": "stream",
          "name": "stdout",
          "text": [
            "Validation loss: 0.6935\n",
            "Validation accuracy: 0.5092\n"
          ]
        },
        {
          "output_type": "stream",
          "name": "stderr",
          "text": [
            "Evaluating: 100%|██████████| 28/28 [00:00<00:00, 145.73it/s]\n"
          ]
        },
        {
          "output_type": "stream",
          "name": "stdout",
          "text": [
            "    pruned 8-bit k-means quantized model has accuracy=50.92%\n",
            "pruning...\n",
            "  pruned model has size=23.58 MiB\n",
            "k-means quantizing model into 4 bits\n",
            "    pruned 4-bit k-means quantized model has size=3.21 MiB\n",
            "FINETUNING pruned 4-bit model\n",
            "Epoch 1/1\n"
          ]
        },
        {
          "output_type": "stream",
          "name": "stderr",
          "text": [
            "Training: 100%|██████████| 2105/2105 [02:45<00:00, 12.75it/s]\n"
          ]
        },
        {
          "output_type": "stream",
          "name": "stdout",
          "text": [
            "Training loss: 0.6877\n",
            "Training accuracy: 0.5578\n"
          ]
        },
        {
          "output_type": "stream",
          "name": "stderr",
          "text": [
            "Evaluating: 100%|██████████| 28/28 [00:00<00:00, 145.49it/s]\n"
          ]
        },
        {
          "output_type": "stream",
          "name": "stdout",
          "text": [
            "Validation loss: 0.6945\n",
            "Validation accuracy: 0.5092\n"
          ]
        },
        {
          "output_type": "stream",
          "name": "stderr",
          "text": [
            "Evaluating: 100%|██████████| 28/28 [00:00<00:00, 143.50it/s]\n"
          ]
        },
        {
          "output_type": "stream",
          "name": "stdout",
          "text": [
            "    pruned 4-bit k-means quantized model has accuracy=50.92%\n",
            "pruning...\n",
            "  pruned model has size=23.58 MiB\n",
            "k-means quantizing model into 2 bits\n",
            "    pruned 2-bit k-means quantized model has size=3.14 MiB\n",
            "FINETUNING pruned 2-bit model\n",
            "Epoch 1/1\n"
          ]
        },
        {
          "output_type": "stream",
          "name": "stderr",
          "text": [
            "Training: 100%|██████████| 2105/2105 [01:25<00:00, 24.75it/s]\n"
          ]
        },
        {
          "output_type": "stream",
          "name": "stdout",
          "text": [
            "Training loss: 0.6906\n",
            "Training accuracy: 0.5575\n"
          ]
        },
        {
          "output_type": "stream",
          "name": "stderr",
          "text": [
            "Evaluating: 100%|██████████| 28/28 [00:00<00:00, 145.61it/s]\n"
          ]
        },
        {
          "output_type": "stream",
          "name": "stdout",
          "text": [
            "Validation loss: 0.6934\n",
            "Validation accuracy: 0.5092\n"
          ]
        },
        {
          "output_type": "stream",
          "name": "stderr",
          "text": [
            "Evaluating: 100%|██████████| 28/28 [00:00<00:00, 146.34it/s]\n"
          ]
        },
        {
          "output_type": "stream",
          "name": "stdout",
          "text": [
            "    pruned 2-bit k-means quantized model has accuracy=50.92%\n"
          ]
        },
        {
          "output_type": "display_data",
          "data": {
            "text/plain": [
              "<Figure size 640x480 with 1 Axes>"
            ],
            "image/png": "[encoded data removed]"
          },
          "metadata": {}
        }
      ]
    },
    {
      "cell_type": "code",
      "source": [
        "# save accs, sizes, and bitwidths to a pickle file\n",
        "import pickle\n",
        "res_dict = {'accs': accs, 'sparse_sizes': sparse_sizes, 'final_sizes': final_sizes, 'bitwidths': bitwidths}\n",
        "file_name = \"prune_and_quant_WITH_finetuning_data.pkl\"\n",
        "with open(f'/content/{file_name}', 'wb') as f:\n",
        "    pickle.dump(res_dict, f)"
      ],
      "metadata": {
        "id": "YK3rCCrAkV7s"
      },
      "execution_count": null,
      "outputs": []
    },
    {
      "cell_type": "code",
      "source": [],
      "metadata": {
        "id": "BtLeLiY8ugKq"
      },
      "execution_count": null,
      "outputs": []
    }
  ]
}