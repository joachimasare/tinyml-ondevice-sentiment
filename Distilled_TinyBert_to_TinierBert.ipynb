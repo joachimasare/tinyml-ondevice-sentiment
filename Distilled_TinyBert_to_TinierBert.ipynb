{
  "nbformat": 4,
  "nbformat_minor": 0,
  "metadata": {
    "colab": {
      "provenance": [],
      "collapsed_sections": [
        "Yq69hGboRrQ3"
      ],
      "machine_shape": "hm",
      "gpuType": "A100"
    },
    "kernelspec": {
      "name": "python3",
      "display_name": "Python 3"
    },
    "language_info": {
      "name": "python"
    },
    "accelerator": "GPU"
  },
  "cells": [
    {
      "cell_type": "code",
      "execution_count": null,
      "metadata": {
        "id": "HhfGiC14OmnD"
      },
      "outputs": [],
      "source": [
        "# imports needed for pytorch tinyBERT project\n",
        "\n",
        "import torch\n",
        "from transformers import BertTokenizer, BertForSequenceClassification\n",
        "from transformers import AdamW, get_linear_schedule_with_warmup\n",
        "from torch.utils.data import DataLoader\n",
        "from sklearn.model_selection import train_test_split\n",
        "import pandas as pd\n",
        "import numpy as np\n",
        "from tqdm import tqdm\n",
        "import random\n",
        "import matplotlib.pyplot as plt\n",
        "from torch.nn import CrossEntropyLoss, MSELoss\n",
        "\n",
        "import csv\n",
        "import logging\n",
        "import os\n",
        "import random\n",
        "import sys\n",
        "import copy\n"
      ]
    },
    {
      "cell_type": "markdown",
      "source": [
        "# Download Dataset and Model"
      ],
      "metadata": {
        "id": "mi46HU5zO2gY"
      }
    },
    {
      "cell_type": "markdown",
      "source": [
        "TinyBert github: https://github.com/huawei-noah/Pretrained-Language-Model/tree/master/TinyBERT"
      ],
      "metadata": {
        "id": "ngMmLNqvO4z1"
      }
    },
    {
      "cell_type": "code",
      "source": [
        "# downloading dataset\n",
        "!git clone https://github.com/nyu-mll/GLUE-baselines.git\n",
        "!python GLUE-baselines/download_glue_data.py --data_dir /content --tasks SST"
      ],
      "metadata": {
        "colab": {
          "base_uri": "https://localhost:8080/"
        },
        "id": "skXl_fiYOuWc",
        "outputId": "ab1e6c64-e29e-406c-c980-6ecbbe4f7845"
      },
      "execution_count": null,
      "outputs": [
        {
          "output_type": "stream",
          "name": "stdout",
          "text": [
            "Cloning into 'GLUE-baselines'...\n",
            "remote: Enumerating objects: 891, done.\u001b[K\n",
            "remote: Counting objects: 100% (5/5), done.\u001b[K\n",
            "remote: Compressing objects: 100% (4/4), done.\u001b[K\n",
            "remote: Total 891 (delta 1), reused 3 (delta 1), pack-reused 886 (from 1)\u001b[K\n",
            "Receiving objects: 100% (891/891), 1.48 MiB | 25.64 MiB/s, done.\n",
            "Resolving deltas: 100% (610/610), done.\n",
            "Downloading and extracting SST...\n",
            "\tCompleted!\n"
          ]
        }
      ]
    },
    {
      "cell_type": "code",
      "source": [
        "# download tinyBERT source code and install dependencies\n",
        "!git clone https://github.com/huawei-noah/Pretrained-Language-Model.git"
      ],
      "metadata": {
        "colab": {
          "base_uri": "https://localhost:8080/"
        },
        "id": "kUkPhgx0Oxxl",
        "outputId": "d0bc79bc-0684-4a27-aa90-63175e39ca9e"
      },
      "execution_count": null,
      "outputs": [
        {
          "output_type": "stream",
          "name": "stdout",
          "text": [
            "Cloning into 'Pretrained-Language-Model'...\n",
            "remote: Enumerating objects: 1253, done.\u001b[K\n",
            "remote: Counting objects: 100% (280/280), done.\u001b[K\n",
            "remote: Compressing objects: 100% (161/161), done.\u001b[K\n",
            "remote: Total 1253 (delta 173), reused 120 (delta 119), pack-reused 973 (from 1)\u001b[K\n",
            "Receiving objects: 100% (1253/1253), 29.72 MiB | 16.72 MiB/s, done.\n",
            "Resolving deltas: 100% (540/540), done.\n"
          ]
        }
      ]
    },
    {
      "cell_type": "code",
      "source": [
        "%cd Pretrained-Language-Model/TinyBERT\n",
        "!pip install -r requirements.txt"
      ],
      "metadata": {
        "colab": {
          "base_uri": "https://localhost:8080/"
        },
        "id": "435fVaBoOyUu",
        "outputId": "aaba52bb-586b-4032-c1b2-0a81564439c9"
      },
      "execution_count": null,
      "outputs": [
        {
          "output_type": "stream",
          "name": "stdout",
          "text": [
            "/content/Pretrained-Language-Model/TinyBERT\n",
            "Requirement already satisfied: tqdm in /usr/local/lib/python3.10/dist-packages (from -r requirements.txt (line 2)) (4.66.6)\n",
            "Collecting boto3 (from -r requirements.txt (line 4))\n",
            "  Downloading boto3-1.35.81-py3-none-any.whl.metadata (6.7 kB)\n",
            "Requirement already satisfied: requests in /usr/local/lib/python3.10/dist-packages (from -r requirements.txt (line 6)) (2.32.3)\n",
            "Requirement already satisfied: torch>=1.0.1 in /usr/local/lib/python3.10/dist-packages (from -r requirements.txt (line 8)) (2.5.1+cu121)\n",
            "Requirement already satisfied: scipy>=0.14.0 in /usr/local/lib/python3.10/dist-packages (from -r requirements.txt (line 9)) (1.13.1)\n",
            "Requirement already satisfied: seaborn in /usr/local/lib/python3.10/dist-packages (from -r requirements.txt (line 10)) (0.13.2)\n",
            "Collecting botocore<1.36.0,>=1.35.81 (from boto3->-r requirements.txt (line 4))\n",
            "  Downloading botocore-1.35.81-py3-none-any.whl.metadata (5.7 kB)\n",
            "Collecting jmespath<2.0.0,>=0.7.1 (from boto3->-r requirements.txt (line 4))\n",
            "  Downloading jmespath-1.0.1-py3-none-any.whl.metadata (7.6 kB)\n",
            "Collecting s3transfer<0.11.0,>=0.10.0 (from boto3->-r requirements.txt (line 4))\n",
            "  Downloading s3transfer-0.10.4-py3-none-any.whl.metadata (1.7 kB)\n",
            "Requirement already satisfied: charset-normalizer<4,>=2 in /usr/local/lib/python3.10/dist-packages (from requests->-r requirements.txt (line 6)) (3.4.0)\n",
            "Requirement already satisfied: idna<4,>=2.5 in /usr/local/lib/python3.10/dist-packages (from requests->-r requirements.txt (line 6)) (3.10)\n",
            "Requirement already satisfied: urllib3<3,>=1.21.1 in /usr/local/lib/python3.10/dist-packages (from requests->-r requirements.txt (line 6)) (2.2.3)\n",
            "Requirement already satisfied: certifi>=2017.4.17 in /usr/local/lib/python3.10/dist-packages (from requests->-r requirements.txt (line 6)) (2024.8.30)\n",
            "Requirement already satisfied: filelock in /usr/local/lib/python3.10/dist-packages (from torch>=1.0.1->-r requirements.txt (line 8)) (3.16.1)\n",
            "Requirement already satisfied: typing-extensions>=4.8.0 in /usr/local/lib/python3.10/dist-packages (from torch>=1.0.1->-r requirements.txt (line 8)) (4.12.2)\n",
            "Requirement already satisfied: networkx in /usr/local/lib/python3.10/dist-packages (from torch>=1.0.1->-r requirements.txt (line 8)) (3.4.2)\n",
            "Requirement already satisfied: jinja2 in /usr/local/lib/python3.10/dist-packages (from torch>=1.0.1->-r requirements.txt (line 8)) (3.1.4)\n",
            "Requirement already satisfied: fsspec in /usr/local/lib/python3.10/dist-packages (from torch>=1.0.1->-r requirements.txt (line 8)) (2024.10.0)\n",
            "Requirement already satisfied: sympy==1.13.1 in /usr/local/lib/python3.10/dist-packages (from torch>=1.0.1->-r requirements.txt (line 8)) (1.13.1)\n",
            "Requirement already satisfied: mpmath<1.4,>=1.1.0 in /usr/local/lib/python3.10/dist-packages (from sympy==1.13.1->torch>=1.0.1->-r requirements.txt (line 8)) (1.3.0)\n",
            "Requirement already satisfied: numpy<2.3,>=1.22.4 in /usr/local/lib/python3.10/dist-packages (from scipy>=0.14.0->-r requirements.txt (line 9)) (1.26.4)\n",
            "Requirement already satisfied: pandas>=1.2 in /usr/local/lib/python3.10/dist-packages (from seaborn->-r requirements.txt (line 10)) (2.2.2)\n",
            "Requirement already satisfied: matplotlib!=3.6.1,>=3.4 in /usr/local/lib/python3.10/dist-packages (from seaborn->-r requirements.txt (line 10)) (3.8.0)\n",
            "Requirement already satisfied: python-dateutil<3.0.0,>=2.1 in /usr/local/lib/python3.10/dist-packages (from botocore<1.36.0,>=1.35.81->boto3->-r requirements.txt (line 4)) (2.8.2)\n",
            "Requirement already satisfied: contourpy>=1.0.1 in /usr/local/lib/python3.10/dist-packages (from matplotlib!=3.6.1,>=3.4->seaborn->-r requirements.txt (line 10)) (1.3.1)\n",
            "Requirement already satisfied: cycler>=0.10 in /usr/local/lib/python3.10/dist-packages (from matplotlib!=3.6.1,>=3.4->seaborn->-r requirements.txt (line 10)) (0.12.1)\n",
            "Requirement already satisfied: fonttools>=4.22.0 in /usr/local/lib/python3.10/dist-packages (from matplotlib!=3.6.1,>=3.4->seaborn->-r requirements.txt (line 10)) (4.55.3)\n",
            "Requirement already satisfied: kiwisolver>=1.0.1 in /usr/local/lib/python3.10/dist-packages (from matplotlib!=3.6.1,>=3.4->seaborn->-r requirements.txt (line 10)) (1.4.7)\n",
            "Requirement already satisfied: packaging>=20.0 in /usr/local/lib/python3.10/dist-packages (from matplotlib!=3.6.1,>=3.4->seaborn->-r requirements.txt (line 10)) (24.2)\n",
            "Requirement already satisfied: pillow>=6.2.0 in /usr/local/lib/python3.10/dist-packages (from matplotlib!=3.6.1,>=3.4->seaborn->-r requirements.txt (line 10)) (11.0.0)\n",
            "Requirement already satisfied: pyparsing>=2.3.1 in /usr/local/lib/python3.10/dist-packages (from matplotlib!=3.6.1,>=3.4->seaborn->-r requirements.txt (line 10)) (3.2.0)\n",
            "Requirement already satisfied: pytz>=2020.1 in /usr/local/lib/python3.10/dist-packages (from pandas>=1.2->seaborn->-r requirements.txt (line 10)) (2024.2)\n",
            "Requirement already satisfied: tzdata>=2022.7 in /usr/local/lib/python3.10/dist-packages (from pandas>=1.2->seaborn->-r requirements.txt (line 10)) (2024.2)\n",
            "Requirement already satisfied: MarkupSafe>=2.0 in /usr/local/lib/python3.10/dist-packages (from jinja2->torch>=1.0.1->-r requirements.txt (line 8)) (3.0.2)\n",
            "Requirement already satisfied: six>=1.5 in /usr/local/lib/python3.10/dist-packages (from python-dateutil<3.0.0,>=2.1->botocore<1.36.0,>=1.35.81->boto3->-r requirements.txt (line 4)) (1.17.0)\n",
            "Downloading boto3-1.35.81-py3-none-any.whl (139 kB)\n",
            "\u001b[2K   \u001b[90m━━━━━━━━━━━━━━━━━━━━━━━━━━━━━━━━━━━━━━━━\u001b[0m \u001b[32m139.2/139.2 kB\u001b[0m \u001b[31m12.0 MB/s\u001b[0m eta \u001b[36m0:00:00\u001b[0m\n",
            "\u001b[?25hDownloading botocore-1.35.81-py3-none-any.whl (13.3 MB)\n",
            "\u001b[2K   \u001b[90m━━━━━━━━━━━━━━━━━━━━━━━━━━━━━━━━━━━━━━━━\u001b[0m \u001b[32m13.3/13.3 MB\u001b[0m \u001b[31m116.1 MB/s\u001b[0m eta \u001b[36m0:00:00\u001b[0m\n",
            "\u001b[?25hDownloading jmespath-1.0.1-py3-none-any.whl (20 kB)\n",
            "Downloading s3transfer-0.10.4-py3-none-any.whl (83 kB)\n",
            "\u001b[2K   \u001b[90m━━━━━━━━━━━━━━━━━━━━━━━━━━━━━━━━━━━━━━━━\u001b[0m \u001b[32m83.2/83.2 kB\u001b[0m \u001b[31m9.6 MB/s\u001b[0m eta \u001b[36m0:00:00\u001b[0m\n",
            "\u001b[?25hInstalling collected packages: jmespath, botocore, s3transfer, boto3\n",
            "Successfully installed boto3-1.35.81 botocore-1.35.81 jmespath-1.0.1 s3transfer-0.10.4\n"
          ]
        }
      ]
    },
    {
      "cell_type": "markdown",
      "source": [
        "# Setup and Dependencies"
      ],
      "metadata": {
        "id": "w9Y2oFrrO9C-"
      }
    },
    {
      "cell_type": "code",
      "source": [
        "SEED = 42\n",
        "torch.backends.cudnn.deterministic = True\n",
        "random.seed(SEED)\n",
        "np.random.seed(SEED)\n",
        "torch.manual_seed(SEED)"
      ],
      "metadata": {
        "colab": {
          "base_uri": "https://localhost:8080/"
        },
        "id": "DLhyyIM4O0Au",
        "outputId": "9dd80c22-a567-4d3a-8ef9-2e4bb9039043"
      },
      "execution_count": null,
      "outputs": [
        {
          "output_type": "execute_result",
          "data": {
            "text/plain": [
              "<torch._C.Generator at 0x7b32b1c87d10>"
            ]
          },
          "metadata": {},
          "execution_count": 5
        }
      ]
    },
    {
      "cell_type": "code",
      "source": [
        "print('Installing torchprofile...')\n",
        "!pip install torchprofile 1>/dev/null\n",
        "print('Installing fast-pytorch-kmeans...')\n",
        "! pip install fast-pytorch-kmeans 1>/dev/null\n",
        "print('All required packages have been successfully installed!')"
      ],
      "metadata": {
        "colab": {
          "base_uri": "https://localhost:8080/"
        },
        "id": "4PSBOYtLO_-P",
        "outputId": "08bc69ac-a7e5-4f46-e12a-824495271519"
      },
      "execution_count": null,
      "outputs": [
        {
          "output_type": "stream",
          "name": "stdout",
          "text": [
            "Installing torchprofile...\n",
            "Installing fast-pytorch-kmeans...\n",
            "All required packages have been successfully installed!\n"
          ]
        }
      ]
    },
    {
      "cell_type": "code",
      "source": [
        "from torchprofile import profile_macs\n",
        "from torch import nn"
      ],
      "metadata": {
        "id": "EX4g8uoMSTHa"
      },
      "execution_count": null,
      "outputs": []
    },
    {
      "cell_type": "code",
      "source": [
        "# downloading BERT-base code: https://github.com/google-research/bert?tab=readme-ov-file\n",
        "!wget https://storage.googleapis.com/bert_models/2018_10_18/cased_L-12_H-768_A-12.zip\n",
        "!unzip cased_L-12_H-768_A-12.zip\n",
        "!cp cased_L-12_H-768_A-12/bert_config.json cased_L-12_H-768_A-12/config.json # must rename bert_config to config\n",
        "\n",
        "BERT_BASE_DIR = 'cased_L-12_H-768_A-12'"
      ],
      "metadata": {
        "colab": {
          "base_uri": "https://localhost:8080/"
        },
        "id": "L4EVYhxpPB-I",
        "outputId": "e6cf6f5d-6367-4990-d7a8-a7cb1c22f7e1"
      },
      "execution_count": null,
      "outputs": [
        {
          "output_type": "stream",
          "name": "stdout",
          "text": [
            "--2024-12-14 19:59:38--  https://storage.googleapis.com/bert_models/2018_10_18/cased_L-12_H-768_A-12.zip\n",
            "Resolving storage.googleapis.com (storage.googleapis.com)... 172.217.194.207, 172.253.118.207, 74.125.200.207, ...\n",
            "Connecting to storage.googleapis.com (storage.googleapis.com)|172.217.194.207|:443... connected.\n",
            "HTTP request sent, awaiting response... 200 OK\n",
            "Length: 404261442 (386M) [application/zip]\n",
            "Saving to: ‘cased_L-12_H-768_A-12.zip’\n",
            "\n",
            "cased_L-12_H-768_A- 100%[===================>] 385.53M  21.1MB/s    in 20s     \n",
            "\n",
            "2024-12-14 19:59:58 (19.5 MB/s) - ‘cased_L-12_H-768_A-12.zip’ saved [404261442/404261442]\n",
            "\n",
            "Archive:  cased_L-12_H-768_A-12.zip\n",
            "   creating: cased_L-12_H-768_A-12/\n",
            "  inflating: cased_L-12_H-768_A-12/bert_model.ckpt.meta  \n",
            "  inflating: cased_L-12_H-768_A-12/bert_model.ckpt.data-00000-of-00001  \n",
            "  inflating: cased_L-12_H-768_A-12/vocab.txt  \n",
            "  inflating: cased_L-12_H-768_A-12/bert_model.ckpt.index  \n",
            "  inflating: cased_L-12_H-768_A-12/bert_config.json  \n"
          ]
        }
      ]
    },
    {
      "cell_type": "code",
      "source": [
        "# cloning TinyBert pretrained models\n",
        "!git clone https://huggingface.co/huawei-noah/TinyBERT_General_4L_312D\n",
        "\n",
        "STUDENT_CONFIG_DIR = '/content/Pretrained-Language-Model/TinyBERT/TinyBERT_General_4L_312D'"
      ],
      "metadata": {
        "colab": {
          "base_uri": "https://localhost:8080/"
        },
        "id": "ho5G37N9PGaW",
        "outputId": "04f50eaf-cbbd-47dc-8f5d-bdc337b9caf4"
      },
      "execution_count": null,
      "outputs": [
        {
          "output_type": "stream",
          "name": "stdout",
          "text": [
            "Cloning into 'TinyBERT_General_4L_312D'...\n",
            "remote: Enumerating objects: 24, done.\u001b[K\n",
            "remote: Total 24 (delta 0), reused 0 (delta 0), pack-reused 24 (from 1)\u001b[K\n",
            "Unpacking objects: 100% (24/24), 111.20 KiB | 7.41 MiB/s, done.\n"
          ]
        }
      ]
    },
    {
      "cell_type": "code",
      "source": [
        "def get_model_size(model: nn.Module, data_width=32):\n",
        "    \"\"\"\n",
        "    calculate the model size in bits\n",
        "    :param data_width: #bits per element\n",
        "    \"\"\"\n",
        "    num_elements = 0\n",
        "    for param in model.parameters():\n",
        "        num_elements += param.numel()\n",
        "    return num_elements * data_width\n",
        "\n",
        "Byte = 8\n",
        "KiB = 1024 * Byte\n",
        "MiB = 1024 * KiB\n",
        "GiB = 1024 * MiB"
      ],
      "metadata": {
        "id": "9tCSVJIsPNrD"
      },
      "execution_count": null,
      "outputs": []
    },
    {
      "cell_type": "markdown",
      "source": [
        "# Load up Distilled Model"
      ],
      "metadata": {
        "id": "NcqF_swDwO6E"
      }
    },
    {
      "cell_type": "code",
      "source": [
        "from transformer.modeling import TinyBertForPreTraining, BertModel, TinyBertForSequenceClassification"
      ],
      "metadata": {
        "id": "OoRDOij6xJtw"
      },
      "execution_count": null,
      "outputs": []
    },
    {
      "cell_type": "code",
      "source": [
        "# mount google drive\n",
        "from google.colab import drive\n",
        "drive.mount('/content/drive')"
      ],
      "metadata": {
        "colab": {
          "base_uri": "https://localhost:8080/"
        },
        "id": "poS_EZe_wQjf",
        "outputId": "f9a5d109-bc0b-4ae8-c5d1-6ce3f7a445b9"
      },
      "execution_count": null,
      "outputs": [
        {
          "output_type": "stream",
          "name": "stdout",
          "text": [
            "Mounted at /content/drive\n"
          ]
        }
      ]
    },
    {
      "cell_type": "code",
      "source": [
        "DISTILLED_CONFIG_DIR = \"/content/drive/MyDrive/EAPS Research/MEng/classes/tinyML/TinyML Final Project/tinybert_output_final_maybe\""
      ],
      "metadata": {
        "id": "pIzTL--YwSPV"
      },
      "execution_count": null,
      "outputs": []
    },
    {
      "cell_type": "code",
      "source": [
        "num_labels = 2\n",
        "student_model = TinyBertForSequenceClassification.from_pretrained(DISTILLED_CONFIG_DIR, num_labels=num_labels)"
      ],
      "metadata": {
        "colab": {
          "base_uri": "https://localhost:8080/"
        },
        "id": "0d4fgDQDxE2o",
        "outputId": "ad015a6a-c5b7-4a31-85f3-2ac0c62a2834"
      },
      "execution_count": null,
      "outputs": [
        {
          "output_type": "stream",
          "name": "stderr",
          "text": [
            "/content/Pretrained-Language-Model/TinyBERT/transformer/modeling.py:696: FutureWarning: You are using `torch.load` with `weights_only=False` (the current default value), which uses the default pickle module implicitly. It is possible to construct malicious pickle data which will execute arbitrary code during unpickling (See https://github.com/pytorch/pytorch/blob/main/SECURITY.md#untrusted-models for more details). In a future release, the default value for `weights_only` will be flipped to `True`. This limits the functions that could be executed during unpickling. Arbitrary objects will no longer be allowed to be loaded via this mode unless they are explicitly allowlisted by the user via `torch.serialization.add_safe_globals`. We recommend you start setting `weights_only=True` for any use case where you don't have full control of the loaded file. Please open an issue on GitHub for any issues related to this experimental feature.\n",
            "  state_dict = torch.load(weights_path, map_location='cpu')\n"
          ]
        }
      ]
    },
    {
      "cell_type": "markdown",
      "source": [
        "# How large is the distilled TinyBert?"
      ],
      "metadata": {
        "id": "2Fncgni_Pe6c"
      }
    },
    {
      "cell_type": "code",
      "source": [
        "# STORAGE\n",
        "student_model_size = get_model_size(student_model)\n",
        "\n",
        "print(\"Student model size: \", student_model_size/MiB, \"MiB\")\n"
      ],
      "metadata": {
        "colab": {
          "base_uri": "https://localhost:8080/"
        },
        "id": "HYdBIuhPPvGO",
        "outputId": "e40b50a5-aec7-47ea-a3f0-3c9dd173f40f"
      },
      "execution_count": null,
      "outputs": [
        {
          "output_type": "stream",
          "name": "stdout",
          "text": [
            "Student model size:  54.741851806640625 MiB\n"
          ]
        }
      ]
    },
    {
      "cell_type": "markdown",
      "source": [
        "# Evaluating Distilled TinyBert"
      ],
      "metadata": {
        "id": "GZbC8gpPP1BE"
      }
    },
    {
      "cell_type": "code",
      "source": [
        "from task_distill import convert_examples_to_features, get_tensor_data, InputExample, InputFeatures, DataProcessor, Sst2Processor\n",
        "from torch.utils.data import SequentialSampler\n",
        "from transformer.modeling import TinyBertForPreTraining, BertModel, TinyBertForSequenceClassification"
      ],
      "metadata": {
        "id": "_RvqjymXQH5D"
      },
      "execution_count": null,
      "outputs": []
    },
    {
      "cell_type": "code",
      "source": [
        "def simple_accuracy(preds, labels):\n",
        "    return (preds == labels).mean()\n",
        "\n",
        "def compute_metrics(task_name, preds, labels):\n",
        "    assert len(preds) == len(labels)\n",
        "    return {\"acc\": simple_accuracy(preds, labels)}\n",
        "\n",
        "# evaluation function based on  task_distill.py --do_eval\n",
        "def evaluate_tinybert(model, task_name, eval_dataloader,\n",
        "            device, output_mode, eval_labels, num_labels):\n",
        "    eval_loss = 0\n",
        "    nb_eval_steps = 0\n",
        "    preds = []\n",
        "\n",
        "    model.eval()\n",
        "    for batch_ in tqdm(eval_dataloader, desc=\"Evaluating\"):\n",
        "        batch_ = tuple(t.to(device) for t in batch_)\n",
        "        with torch.no_grad():\n",
        "            input_ids, input_mask, segment_ids, label_ids, seq_lengths = batch_\n",
        "\n",
        "            # ValueError: not enough values to unpack (expected 3, got 2)\n",
        "            # logits, _, _ = model(input_ids, segment_ids, input_mask)\n",
        "            # TODO: what is the model outputting? What\n",
        "            logits, _ , _= model(input_ids, segment_ids, input_mask)\n",
        "\n",
        "\n",
        "        # create eval loss and other metric required by the task\n",
        "        if output_mode == \"classification\":\n",
        "            loss_fct = CrossEntropyLoss()\n",
        "            tmp_eval_loss = loss_fct(logits.view(-1, num_labels), label_ids.view(-1))\n",
        "        elif output_mode == \"regression\":\n",
        "            loss_fct = MSELoss()\n",
        "            tmp_eval_loss = loss_fct(logits.view(-1), label_ids.view(-1))\n",
        "\n",
        "        eval_loss += tmp_eval_loss.mean().item()\n",
        "        nb_eval_steps += 1\n",
        "        if len(preds) == 0:\n",
        "            preds.append(logits.detach().cpu().numpy())\n",
        "        else:\n",
        "            preds[0] = np.append(\n",
        "                preds[0], logits.detach().cpu().numpy(), axis=0)\n",
        "\n",
        "    eval_loss = eval_loss / nb_eval_steps\n",
        "\n",
        "    preds = preds[0]\n",
        "    if output_mode == \"classification\":\n",
        "        preds = np.argmax(preds, axis=1)\n",
        "    elif output_mode == \"regression\":\n",
        "        preds = np.squeeze(preds)\n",
        "    result = compute_metrics(task_name, preds, eval_labels.numpy())\n",
        "    result['eval_loss'] = eval_loss\n",
        "\n",
        "    return result\n",
        "\n",
        "\n",
        "output_mode = \"classification\"\n"
      ],
      "metadata": {
        "id": "2dI-1E6GQIz2"
      },
      "execution_count": null,
      "outputs": []
    },
    {
      "cell_type": "code",
      "source": [
        "# building the evaluation dataloader\n",
        "do_lower_case = False\n",
        "data_dir = '/content/SST-2'\n",
        "processor = Sst2Processor()\n",
        "label_list = processor.get_labels()\n",
        "num_labels = len(label_list)\n",
        "max_seq_length = 128\n",
        "eval_batch_size = 32\n",
        "task_name = \"sst2\"\n",
        "output_mode = \"classification\"\n",
        "device = torch.device(\"cuda\" if torch.cuda.is_available() else \"cpu\")\n",
        "\n",
        "# student_model = TinyBertForSequenceClassification.from_pretrained(DISTILLED_CONFIG_DIR, num_labels=num_labels)\n",
        "student_model.to(device)\n",
        "\n",
        "tokenizer = BertTokenizer.from_pretrained(STUDENT_CONFIG_DIR, do_lower_case=do_lower_case)\n",
        "eval_examples = processor.get_dev_examples(data_dir)\n",
        "eval_features = convert_examples_to_features(eval_examples, label_list, max_seq_length, tokenizer, output_mode)\n",
        "eval_data, eval_labels = get_tensor_data(output_mode, eval_features)\n",
        "eval_sampler = SequentialSampler(eval_data)\n",
        "eval_dataloader = DataLoader(eval_data, sampler=eval_sampler, batch_size=eval_batch_size)\n",
        "\n",
        "# check that the evaluate_tinybert function is working\n",
        "evaluate_tinybert(student_model, task_name, eval_dataloader,\n",
        "            device, output_mode, eval_labels, num_labels)\n"
      ],
      "metadata": {
        "colab": {
          "base_uri": "https://localhost:8080/"
        },
        "id": "Oe7Sb561RA2z",
        "outputId": "ec1f8f8d-74c1-48e8-a951-5268d966d1ab"
      },
      "execution_count": null,
      "outputs": [
        {
          "output_type": "stream",
          "name": "stderr",
          "text": [
            "Evaluating: 100%|██████████| 28/28 [00:00<00:00, 126.26it/s]\n"
          ]
        },
        {
          "output_type": "execute_result",
          "data": {
            "text/plain": [
              "{'acc': 0.5091743119266054, 'eval_loss': 0.6922517525298255}"
            ]
          },
          "metadata": {},
          "execution_count": 64
        }
      ]
    },
    {
      "cell_type": "code",
      "source": [
        "# method that both sets up the dataset and runs evaluation on TinyBert\n",
        "def evaluate(student_model):\n",
        "  # building the evaluation dataloader\n",
        "  do_lower_case = False\n",
        "  data_dir = '/content/SST-2'\n",
        "  processor = Sst2Processor()\n",
        "  label_list = processor.get_labels()\n",
        "  num_labels = len(label_list)\n",
        "  max_seq_length = 128\n",
        "  eval_batch_size = 32\n",
        "  task_name = \"sst2\"\n",
        "  output_mode = \"classification\"\n",
        "  device = torch.device(\"cuda\" if torch.cuda.is_available() else \"cpu\")\n",
        "  student_model.to(device)\n",
        "\n",
        "  #TODO: does this tokenizer still work?\n",
        "  tokenizer = BertTokenizer.from_pretrained(STUDENT_CONFIG_DIR, do_lower_case=do_lower_case)\n",
        "  eval_examples = processor.get_dev_examples(data_dir)\n",
        "  eval_features = convert_examples_to_features(eval_examples, label_list, max_seq_length, tokenizer, output_mode)\n",
        "  eval_data, eval_labels = get_tensor_data(output_mode, eval_features)\n",
        "  eval_sampler = SequentialSampler(eval_data)\n",
        "  eval_dataloader = DataLoader(eval_data, sampler=eval_sampler, batch_size=eval_batch_size)\n",
        "\n",
        "  res = evaluate_tinybert(student_model, task_name, eval_dataloader,\n",
        "              device, output_mode, eval_labels, num_labels)\n",
        "  return res"
      ],
      "metadata": {
        "id": "phFXhXL6RBeL"
      },
      "execution_count": null,
      "outputs": []
    },
    {
      "cell_type": "markdown",
      "source": [
        "# Finetuning"
      ],
      "metadata": {
        "id": "Qs7wB8cVRW6w"
      }
    },
    {
      "cell_type": "code",
      "source": [
        "def train_tinybert(\n",
        "    model,\n",
        "    task_name,\n",
        "    train_dataloader,\n",
        "    eval_dataloader,\n",
        "    device,\n",
        "    output_mode,\n",
        "    num_labels,\n",
        "    eval_labels,\n",
        "    optimizer=None,\n",
        "    scheduler=None,\n",
        "    epochs=3\n",
        "):\n",
        "    \"\"\"\n",
        "    Fine-tune a TinyBERT model with training and validation metrics history.\n",
        "\n",
        "    Args:\n",
        "        model: The TinyBERT model to be fine-tuned.\n",
        "        task_name: Name of the task (used for metric computation).\n",
        "        train_dataloader: DataLoader for training data.\n",
        "        eval_dataloader: DataLoader for evaluation data.\n",
        "        device: Device to train on (e.g., 'cpu' or 'cuda').\n",
        "        output_mode: Output mode for the task ('classification' or 'regression').\n",
        "        num_labels: Number of labels for classification tasks.\n",
        "        eval_labels: Ground truth labels for the evaluation set.\n",
        "        optimizer: Optimizer for training (default is AdamW).\n",
        "        scheduler: Learning rate scheduler (optional).\n",
        "        epochs: Number of training epochs.\n",
        "\n",
        "    Returns:\n",
        "        model: The fine-tuned model with a `history` attribute.\n",
        "    \"\"\"\n",
        "    # Initialize optimizer if none is provided\n",
        "    if optimizer is None:\n",
        "        optimizer = AdamW(model.parameters(), lr=5e-5)\n",
        "\n",
        "    # Initialize or extend model's history attribute\n",
        "    if not hasattr(model, 'history'):\n",
        "        model.history = {'train_loss': [], 'val_loss': [], 'train_acc': [], 'val_acc': []}\n",
        "\n",
        "    # Move model to the specified device\n",
        "    model.to(device)\n",
        "\n",
        "    # Training loop\n",
        "    for epoch in range(epochs):\n",
        "        model.train()\n",
        "        total_loss = 0  # To track total training loss\n",
        "        nb_train_steps = 0  # To count the number of training steps\n",
        "        correct_predictions = 0\n",
        "        total_predictions = 0\n",
        "\n",
        "        print(f\"Epoch {epoch + 1}/{epochs}\")\n",
        "\n",
        "        # Training step\n",
        "        for step, batch in enumerate(tqdm(train_dataloader, desc=\"Training\")):\n",
        "            # Move each tensor in the batch to the device\n",
        "            batch = tuple(t.to(device) for t in batch)\n",
        "            input_ids, input_mask, segment_ids, label_ids, seq_lengths = batch\n",
        "\n",
        "            # Zero the gradients to prevent accumulation\n",
        "            optimizer.zero_grad()\n",
        "\n",
        "            # Forward pass\n",
        "            logits, _, _ = model(input_ids, segment_ids, input_mask)\n",
        "\n",
        "            # Compute loss\n",
        "            if output_mode == \"classification\":\n",
        "                loss_fct = CrossEntropyLoss()\n",
        "                loss = loss_fct(logits.view(-1, num_labels), label_ids.view(-1))\n",
        "                preds = torch.argmax(logits, dim=1)\n",
        "            elif output_mode == \"regression\":\n",
        "                loss_fct = MSELoss()\n",
        "                loss = loss_fct(logits.view(-1), label_ids.view(-1))\n",
        "                preds = logits.squeeze()\n",
        "            else:\n",
        "                raise ValueError(f\"Unknown output mode: {output_mode}\")\n",
        "\n",
        "            # Update metrics\n",
        "            if output_mode == \"classification\":\n",
        "                correct_predictions += (preds == label_ids).sum().item()\n",
        "                total_predictions += label_ids.size(0)\n",
        "\n",
        "            # Backward pass and optimization\n",
        "            loss.backward()\n",
        "            optimizer.step()\n",
        "\n",
        "            # Update training metrics\n",
        "            total_loss += loss.item()\n",
        "            nb_train_steps += 1\n",
        "\n",
        "        # Adjust learning rate with scheduler (if provided)\n",
        "        if scheduler:\n",
        "            scheduler.step()\n",
        "\n",
        "        # Compute training metrics\n",
        "        avg_train_loss = total_loss / nb_train_steps\n",
        "        train_accuracy = correct_predictions / total_predictions if output_mode == \"classification\" else None\n",
        "        print(f\"Training loss: {avg_train_loss:.4f}\")\n",
        "        if train_accuracy is not None:\n",
        "            print(f\"Training accuracy: {train_accuracy:.4f}\")\n",
        "\n",
        "        # Evaluate the model\n",
        "        eval_result = evaluate_tinybert(\n",
        "            model, task_name, eval_dataloader, device, output_mode, eval_labels, num_labels\n",
        "        )\n",
        "        avg_val_loss = eval_result['eval_loss']\n",
        "        val_accuracy = eval_result['acc']\n",
        "\n",
        "        # Print validation results\n",
        "        print(f\"Validation loss: {avg_val_loss:.4f}\")\n",
        "        print(f\"Validation accuracy: {val_accuracy:.4f}\")\n",
        "\n",
        "        # Update the model's history\n",
        "        model.history['train_loss'].append(avg_train_loss)\n",
        "        model.history['val_loss'].append(avg_val_loss)\n",
        "        if train_accuracy is not None:\n",
        "            model.history['train_acc'].append(train_accuracy)\n",
        "        model.history['val_acc'].append(val_accuracy)\n",
        "\n",
        "    return model\n"
      ],
      "metadata": {
        "id": "LrG1cOKoRO5y"
      },
      "execution_count": null,
      "outputs": []
    },
    {
      "cell_type": "code",
      "source": [
        "# building the train and evaluation dataloader\n",
        "do_lower_case = False\n",
        "data_dir = '/content/SST-2'\n",
        "processor = Sst2Processor()\n",
        "label_list = processor.get_labels()\n",
        "num_labels = len(label_list)\n",
        "max_seq_length = 128\n",
        "eval_batch_size = 32\n",
        "train_batch_size = 32\n",
        "task_name = \"sst2\"\n",
        "output_mode = \"classification\"\n",
        "device = torch.device(\"cuda\" if torch.cuda.is_available() else \"cpu\")\n",
        "student_model = TinyBertForSequenceClassification.from_pretrained(STUDENT_CONFIG_DIR, num_labels=num_labels)\n",
        "student_model.to(device)\n",
        "\n",
        "tokenizer = BertTokenizer.from_pretrained(STUDENT_CONFIG_DIR, do_lower_case=do_lower_case)\n",
        "eval_examples = processor.get_dev_examples(data_dir)\n",
        "eval_features = convert_examples_to_features(eval_examples, label_list, max_seq_length, tokenizer, output_mode)\n",
        "eval_data, eval_labels = get_tensor_data(output_mode, eval_features)\n",
        "eval_sampler = SequentialSampler(eval_data)\n",
        "eval_dataloader = DataLoader(eval_data, sampler=eval_sampler, batch_size=eval_batch_size)\n",
        "\n",
        "train_examples = processor.get_train_examples(data_dir)\n",
        "train_features = convert_examples_to_features(train_examples, label_list, max_seq_length, tokenizer, output_mode)\n",
        "train_data, train_labels = get_tensor_data(output_mode, train_features)\n",
        "train_sampler = SequentialSampler(train_data)\n",
        "train_dataloader = DataLoader(train_data, sampler=train_sampler, batch_size=train_batch_size)\n",
        "\n",
        "# only train for 1 epoch - overfits fast\n",
        "student_model = train_tinybert(\n",
        "    student_model,\n",
        "    task_name,\n",
        "    train_dataloader,\n",
        "    eval_dataloader,\n",
        "    device,\n",
        "    output_mode,\n",
        "    num_labels,\n",
        "    eval_labels,\n",
        "    optimizer=None,\n",
        "    scheduler=None,\n",
        "    epochs=1\n",
        ")\n",
        "\n",
        "# SAVE MODEL\n",
        "model_path = '/content/tinyBert_sst2.pt'\n",
        "torch.save(student_model.state_dict(), model_path)"
      ],
      "metadata": {
        "colab": {
          "base_uri": "https://localhost:8080/"
        },
        "id": "mhdRa0A7Ra7z",
        "outputId": "a9977750-6e04-4624-e461-df5f6b76ad86"
      },
      "execution_count": null,
      "outputs": [
        {
          "output_type": "stream",
          "name": "stderr",
          "text": [
            "/usr/local/lib/python3.10/dist-packages/transformers/optimization.py:591: FutureWarning: This implementation of AdamW is deprecated and will be removed in a future version. Use the PyTorch implementation torch.optim.AdamW instead, or set `no_deprecation_warning=True` to disable this warning\n",
            "  warnings.warn(\n"
          ]
        },
        {
          "output_type": "stream",
          "name": "stdout",
          "text": [
            "Epoch 1/1\n"
          ]
        },
        {
          "output_type": "stream",
          "name": "stderr",
          "text": [
            "Training: 100%|██████████| 2105/2105 [00:49<00:00, 42.88it/s]\n"
          ]
        },
        {
          "output_type": "stream",
          "name": "stdout",
          "text": [
            "Training loss: 0.2801\n",
            "Training accuracy: 0.8869\n"
          ]
        },
        {
          "output_type": "stream",
          "name": "stderr",
          "text": [
            "Evaluating: 100%|██████████| 28/28 [00:00<00:00, 147.30it/s]\n"
          ]
        },
        {
          "output_type": "stream",
          "name": "stdout",
          "text": [
            "Validation loss: 0.2811\n",
            "Validation accuracy: 0.8922\n"
          ]
        }
      ]
    },
    {
      "cell_type": "code",
      "source": [
        "# putting the dataset prep and training into one function\n",
        "\n",
        "def train_tinybert_sst2(student_model):\n",
        "  # building the train and evaluation dataloader\n",
        "  do_lower_case = False\n",
        "  data_dir = '/content/SST-2'\n",
        "  processor = Sst2Processor()\n",
        "  label_list = processor.get_labels()\n",
        "  num_labels = len(label_list)\n",
        "  max_seq_length = 128\n",
        "  eval_batch_size = 32\n",
        "  train_batch_size = 32\n",
        "  task_name = \"sst2\"\n",
        "  output_mode = \"classification\"\n",
        "  device = torch.device(\"cuda\" if torch.cuda.is_available() else \"cpu\")\n",
        "  # student_model = TinyBertForSequenceClassification.from_pretrained(STUDENT_CONFIG_DIR, num_labels=num_labels)\n",
        "  student_model.to(device)\n",
        "\n",
        "  tokenizer = BertTokenizer.from_pretrained(STUDENT_CONFIG_DIR, do_lower_case=do_lower_case)\n",
        "  eval_examples = processor.get_dev_examples(data_dir)\n",
        "  eval_features = convert_examples_to_features(eval_examples, label_list, max_seq_length, tokenizer, output_mode)\n",
        "  eval_data, eval_labels = get_tensor_data(output_mode, eval_features)\n",
        "  eval_sampler = SequentialSampler(eval_data)\n",
        "  eval_dataloader = DataLoader(eval_data, sampler=eval_sampler, batch_size=eval_batch_size)\n",
        "\n",
        "  train_examples = processor.get_train_examples(data_dir)\n",
        "  train_features = convert_examples_to_features(train_examples, label_list, max_seq_length, tokenizer, output_mode)\n",
        "  train_data, train_labels = get_tensor_data(output_mode, train_features)\n",
        "  train_sampler = SequentialSampler(train_data)\n",
        "  train_dataloader = DataLoader(train_data, sampler=train_sampler, batch_size=train_batch_size)\n",
        "\n",
        "  # only train for 1 epoch - overfits fast\n",
        "  student_model = train_tinybert(\n",
        "      student_model,\n",
        "      task_name,\n",
        "      train_dataloader,\n",
        "      eval_dataloader,\n",
        "      device,\n",
        "      output_mode,\n",
        "      num_labels,\n",
        "      eval_labels,\n",
        "      optimizer=None,\n",
        "      scheduler=None,\n",
        "      epochs=1\n",
        "  )\n",
        "  return student_model"
      ],
      "metadata": {
        "id": "n-wkFxEqTj2X"
      },
      "execution_count": null,
      "outputs": []
    },
    {
      "cell_type": "markdown",
      "source": [
        "# Fine-grain Pruning"
      ],
      "metadata": {
        "id": "Yq69hGboRrQ3"
      }
    },
    {
      "cell_type": "markdown",
      "source": [
        "## Fine-grain Pruning Functions"
      ],
      "metadata": {
        "id": "Hnfpatg-R95u"
      }
    },
    {
      "cell_type": "code",
      "source": [
        "def get_sparsity(tensor: torch.Tensor) -> float:\n",
        "    \"\"\"\n",
        "    calculate the sparsity of the given tensor\n",
        "        sparsity = #zeros / #elements = 1 - #nonzeros / #elements\n",
        "    \"\"\"\n",
        "    return 1 - float(tensor.count_nonzero()) / tensor.numel()\n",
        "\n",
        "\n",
        "def get_model_sparsity(model: nn.Module) -> float:\n",
        "    \"\"\"\n",
        "    calculate the sparsity of the given model\n",
        "        sparsity = #zeros / #elements = 1 - #nonzeros / #elements\n",
        "    \"\"\"\n",
        "    num_nonzeros, num_elements = 0, 0\n",
        "    for param in model.parameters():\n",
        "        num_nonzeros += param.count_nonzero()\n",
        "        num_elements += param.numel()\n",
        "    return 1 - float(num_nonzeros) / num_elements\n",
        "\n",
        "def get_num_parameters(model: nn.Module, count_nonzero_only=False) -> int:\n",
        "    \"\"\"\n",
        "    calculate the total number of parameters of model\n",
        "    :param count_nonzero_only: only count nonzero weights\n",
        "    \"\"\"\n",
        "    num_counted_elements = 0\n",
        "    for param in model.parameters():\n",
        "        if count_nonzero_only:\n",
        "            num_counted_elements += param.count_nonzero()\n",
        "        else:\n",
        "            num_counted_elements += param.numel()\n",
        "    return num_counted_elements\n",
        "\n",
        "\n",
        "def get_model_size(model: nn.Module, data_width=32, count_nonzero_only=False) -> int:\n",
        "    \"\"\"\n",
        "    calculate the model size in bits\n",
        "    :param data_width: #bits per element\n",
        "    :param count_nonzero_only: only count nonzero weights\n",
        "    \"\"\"\n",
        "    return get_num_parameters(model, count_nonzero_only) * data_width"
      ],
      "metadata": {
        "id": "trpJLry-RnNh"
      },
      "execution_count": null,
      "outputs": []
    },
    {
      "cell_type": "code",
      "source": [
        "def fine_grained_prune(tensor: torch.Tensor, sparsity : float) -> torch.Tensor:\n",
        "    \"\"\"\n",
        "    magnitude-based pruning for single tensor\n",
        "    :param tensor: torch.(cuda.)Tensor, weight of conv/fc layer\n",
        "    :param sparsity: float, pruning sparsity\n",
        "        sparsity = #zeros / #elements = 1 - #nonzeros / #elements\n",
        "    :return:\n",
        "        torch.(cuda.)Tensor, mask for zeros\n",
        "    \"\"\"\n",
        "    sparsity = min(max(0.0, sparsity), 1.0)\n",
        "    if sparsity == 1.0:\n",
        "        tensor.zero_()\n",
        "        return torch.zeros_like(tensor)\n",
        "    elif sparsity == 0.0:\n",
        "        return torch.ones_like(tensor)\n",
        "\n",
        "    num_elements = tensor.numel()\n",
        "\n",
        "    ##################### YOUR CODE STARTS HERE #####################\n",
        "    # Step 1: calculate the #zeros (please use round())\n",
        "    # print(\"num_elements\", num_elements)\n",
        "    # print(\"sparsity\", sparsity)\n",
        "    num_zeros = round(num_elements * sparsity)\n",
        "    # print(\"num_zeros\", num_zeros)\n",
        "    # Step 2: calculate the importance of weight\n",
        "    importance = torch.Tensor.abs(tensor)\n",
        "    # Step 3: calculate the pruning threshold\n",
        "    # print(\"importance\", torch.flatten(importance))\n",
        "    threshold = torch.kthvalue(torch.flatten(importance), num_zeros).values\n",
        "    # print(\"threshold\", threshold)\n",
        "    # Step 4: get binary mask (1 for nonzeros, 0 for zeros)\n",
        "    mask = torch.gt(importance, threshold)\n",
        "    ##################### YOUR CODE ENDS HERE #######################\n",
        "\n",
        "    # Step 5: apply mask to prune the tensor\n",
        "    tensor.mul_(mask)\n",
        "\n",
        "    return mask"
      ],
      "metadata": {
        "id": "rYC4iU2mSEEC"
      },
      "execution_count": null,
      "outputs": []
    },
    {
      "cell_type": "code",
      "source": [
        "class FineGrainedPruner:\n",
        "    def __init__(self, model, sparsity_dict):\n",
        "        self.masks = FineGrainedPruner.prune(model, sparsity_dict)\n",
        "\n",
        "    @torch.no_grad()\n",
        "    def apply(self, model):\n",
        "        for name, param in model.named_parameters():\n",
        "            if name in self.masks:\n",
        "                param *= self.masks[name]\n",
        "\n",
        "    @staticmethod\n",
        "    @torch.no_grad()\n",
        "    def prune(model, sparsity_dict):\n",
        "        masks = dict()\n",
        "        for name, param in model.named_parameters():\n",
        "            if param.dim() > 1: # we only prune conv and fc weights\n",
        "                masks[name] = fine_grained_prune(param, sparsity_dict[name])\n",
        "        return masks"
      ],
      "metadata": {
        "id": "4osXzo6GSESL"
      },
      "execution_count": null,
      "outputs": []
    },
    {
      "cell_type": "code",
      "source": [
        "def get_model_size(model: nn.Module, data_width=32, count_nonzero_only=False) -> int:\n",
        "    \"\"\"\n",
        "    calculate the model size in bits\n",
        "    :param data_width: #bits per element\n",
        "    :param count_nonzero_only: only count nonzero weights\n",
        "    \"\"\"\n",
        "    return get_num_parameters(model, count_nonzero_only) * data_width"
      ],
      "metadata": {
        "id": "o4WWHSnpSLf5"
      },
      "execution_count": null,
      "outputs": []
    },
    {
      "cell_type": "markdown",
      "source": [
        "## Test Fine-grain pruning"
      ],
      "metadata": {
        "id": "g14uuKacSHHc"
      }
    },
    {
      "cell_type": "code",
      "source": [
        "# evaluate the Accuracy and Model Size of Dense Model\n",
        "dense_model_accuracy = evaluate(student_model)['acc'] *100\n",
        "dense_model_size = get_model_size(student_model)\n",
        "print(f\"dense model has accuracy={dense_model_accuracy:.2f}%\")\n",
        "print(f\"dense model has size={dense_model_size/MiB:.2f} MiB\")\n",
        "\n",
        "dense_model = copy.deepcopy(student_model)"
      ],
      "metadata": {
        "colab": {
          "base_uri": "https://localhost:8080/"
        },
        "id": "YRcF8a2BSF5L",
        "outputId": "f8ba1baa-8b02-4e27-eafa-7f7d099c8ef0"
      },
      "execution_count": null,
      "outputs": [
        {
          "output_type": "stream",
          "name": "stderr",
          "text": [
            "Evaluating: 100%|██████████| 28/28 [00:00<00:00, 119.47it/s]"
          ]
        },
        {
          "output_type": "stream",
          "name": "stdout",
          "text": [
            "dense model has accuracy=89.22%\n",
            "dense model has size=55.66 MiB\n"
          ]
        },
        {
          "output_type": "stream",
          "name": "stderr",
          "text": [
            "\n"
          ]
        }
      ]
    },
    {
      "cell_type": "markdown",
      "source": [
        "## Sensitivity Scan to determine optimal sparsities for each layer"
      ],
      "metadata": {
        "id": "8ethoyg6SqsK"
      }
    },
    {
      "cell_type": "code",
      "source": [
        "@torch.no_grad()\n",
        "def sensitivity_scan(model, scan_step=0.1, scan_start=0.4, scan_end=1.0, verbose=True):\n",
        "    sparsities = np.arange(start=scan_start, stop=scan_end, step=scan_step)\n",
        "    accuracies = []\n",
        "    named_conv_weights = [(name, param) for (name, param) \\\n",
        "                          in model.named_parameters() if param.dim() > 1]\n",
        "    for i_layer, (name, param) in enumerate(named_conv_weights):\n",
        "        param_clone = param.detach().clone()\n",
        "        accuracy = []\n",
        "        for sparsity in tqdm(sparsities, desc=f'scanning {i_layer}/{len(named_conv_weights)} weight - {name}'):\n",
        "            fine_grained_prune(param.detach(), sparsity=sparsity)\n",
        "            acc = evaluate(model)['acc']*100\n",
        "            if verbose:\n",
        "                print(f'\\r    sparsity={sparsity:.2f}: accuracy={acc:.2f}%', end='')\n",
        "            # restore\n",
        "            param.copy_(param_clone)\n",
        "            accuracy.append(acc)\n",
        "        if verbose:\n",
        "            print(f'\\r    sparsity=[{\",\".join([\"{:.2f}\".format(x) for x in sparsities])}]: accuracy=[{\", \".join([\"{:.2f}%\".format(x) for x in accuracy])}]', end='')\n",
        "        accuracies.append(accuracy)\n",
        "    return sparsities, accuracies"
      ],
      "metadata": {
        "id": "PyUGmDHwSijC"
      },
      "execution_count": null,
      "outputs": []
    },
    {
      "cell_type": "code",
      "source": [
        "sparsities, accuracies = sensitivity_scan(\n",
        "    student_model, scan_step=0.1, scan_start=0.4, scan_end=1.0)"
      ],
      "metadata": {
        "id": "_srEJG4DSxA_",
        "colab": {
          "base_uri": "https://localhost:8080/"
        },
        "outputId": "000bb3c9-0106-4199-e5f9-e15ec4fea9f2"
      },
      "execution_count": null,
      "outputs": [
        {
          "output_type": "stream",
          "name": "stderr",
          "text": [
            "scanning 0/30 weight - bert.embeddings.word_embeddings.weight:   0%|          | 0/6 [00:00<?, ?it/s]\n",
            "Evaluating:   0%|          | 0/28 [00:00<?, ?it/s]\u001b[A\n",
            "Evaluating:  46%|████▋     | 13/28 [00:00<00:00, 123.32it/s]\u001b[A\n",
            "Evaluating: 100%|██████████| 28/28 [00:00<00:00, 122.59it/s]\n",
            "scanning 0/30 weight - bert.embeddings.word_embeddings.weight:  17%|█▋        | 1/6 [00:00<00:03,  1.32it/s]"
          ]
        },
        {
          "output_type": "stream",
          "name": "stdout",
          "text": [
            "\r    sparsity=0.40: accuracy=89.33%"
          ]
        },
        {
          "output_type": "stream",
          "name": "stderr",
          "text": [
            "\n",
            "Evaluating:   0%|          | 0/28 [00:00<?, ?it/s]\u001b[A\n",
            "Evaluating: 100%|██████████| 28/28 [00:00<00:00, 144.79it/s]\n",
            "scanning 0/30 weight - bert.embeddings.word_embeddings.weight:  33%|███▎      | 2/6 [00:01<00:02,  1.55it/s]"
          ]
        },
        {
          "output_type": "stream",
          "name": "stdout",
          "text": [
            "\r    sparsity=0.50: accuracy=88.53%"
          ]
        },
        {
          "output_type": "stream",
          "name": "stderr",
          "text": [
            "\n",
            "Evaluating:   0%|          | 0/28 [00:00<?, ?it/s]\u001b[A\n",
            "Evaluating: 100%|██████████| 28/28 [00:00<00:00, 142.99it/s]\n",
            "scanning 0/30 weight - bert.embeddings.word_embeddings.weight:  50%|█████     | 3/6 [00:01<00:01,  1.64it/s]"
          ]
        },
        {
          "output_type": "stream",
          "name": "stdout",
          "text": [
            "\r    sparsity=0.60: accuracy=87.39%"
          ]
        },
        {
          "output_type": "stream",
          "name": "stderr",
          "text": [
            "\n",
            "Evaluating:   0%|          | 0/28 [00:00<?, ?it/s]\u001b[A\n",
            "Evaluating: 100%|██████████| 28/28 [00:00<00:00, 145.91it/s]\n",
            "scanning 0/30 weight - bert.embeddings.word_embeddings.weight:  67%|██████▋   | 4/6 [00:02<00:01,  1.69it/s]"
          ]
        },
        {
          "output_type": "stream",
          "name": "stdout",
          "text": [
            "\r    sparsity=0.70: accuracy=86.12%"
          ]
        },
        {
          "output_type": "stream",
          "name": "stderr",
          "text": [
            "\n",
            "Evaluating:   0%|          | 0/28 [00:00<?, ?it/s]\u001b[A\n",
            "Evaluating: 100%|██████████| 28/28 [00:00<00:00, 143.40it/s]\n",
            "scanning 0/30 weight - bert.embeddings.word_embeddings.weight:  83%|████████▎ | 5/6 [00:03<00:00,  1.72it/s]"
          ]
        },
        {
          "output_type": "stream",
          "name": "stdout",
          "text": [
            "\r    sparsity=0.80: accuracy=83.03%"
          ]
        },
        {
          "output_type": "stream",
          "name": "stderr",
          "text": [
            "\n",
            "Evaluating:   0%|          | 0/28 [00:00<?, ?it/s]\u001b[A\n",
            "Evaluating: 100%|██████████| 28/28 [00:00<00:00, 143.78it/s]\n",
            "scanning 0/30 weight - bert.embeddings.word_embeddings.weight: 100%|██████████| 6/6 [00:03<00:00,  1.68it/s]\n"
          ]
        },
        {
          "output_type": "stream",
          "name": "stdout",
          "text": [
            "\r    sparsity=0.90: accuracy=80.05%\r    sparsity=[0.40,0.50,0.60,0.70,0.80,0.90]: accuracy=[89.33%, 88.53%, 87.39%, 86.12%, 83.03%, 80.05%]"
          ]
        },
        {
          "output_type": "stream",
          "name": "stderr",
          "text": [
            "scanning 1/30 weight - bert.embeddings.position_embeddings.weight:   0%|          | 0/6 [00:00<?, ?it/s]\n",
            "Evaluating:   0%|          | 0/28 [00:00<?, ?it/s]\u001b[A\n",
            "Evaluating: 100%|██████████| 28/28 [00:00<00:00, 144.96it/s]\n",
            "scanning 1/30 weight - bert.embeddings.position_embeddings.weight:  17%|█▋        | 1/6 [00:00<00:02,  1.76it/s]"
          ]
        },
        {
          "output_type": "stream",
          "name": "stdout",
          "text": [
            "\r    sparsity=0.40: accuracy=89.11%"
          ]
        },
        {
          "output_type": "stream",
          "name": "stderr",
          "text": [
            "\n",
            "Evaluating:   0%|          | 0/28 [00:00<?, ?it/s]\u001b[A\n",
            "Evaluating: 100%|██████████| 28/28 [00:00<00:00, 145.91it/s]\n",
            "scanning 1/30 weight - bert.embeddings.position_embeddings.weight:  33%|███▎      | 2/6 [00:01<00:02,  1.78it/s]"
          ]
        },
        {
          "output_type": "stream",
          "name": "stdout",
          "text": [
            "\r    sparsity=0.50: accuracy=89.22%"
          ]
        },
        {
          "output_type": "stream",
          "name": "stderr",
          "text": [
            "\n",
            "Evaluating:   0%|          | 0/28 [00:00<?, ?it/s]\u001b[A\n",
            "Evaluating: 100%|██████████| 28/28 [00:00<00:00, 145.04it/s]\n",
            "scanning 1/30 weight - bert.embeddings.position_embeddings.weight:  50%|█████     | 3/6 [00:01<00:01,  1.79it/s]"
          ]
        },
        {
          "output_type": "stream",
          "name": "stdout",
          "text": [
            "\r    sparsity=0.60: accuracy=89.22%"
          ]
        },
        {
          "output_type": "stream",
          "name": "stderr",
          "text": [
            "\n",
            "Evaluating:   0%|          | 0/28 [00:00<?, ?it/s]\u001b[A\n",
            "Evaluating: 100%|██████████| 28/28 [00:00<00:00, 144.91it/s]\n",
            "scanning 1/30 weight - bert.embeddings.position_embeddings.weight:  67%|██████▋   | 4/6 [00:02<00:01,  1.79it/s]"
          ]
        },
        {
          "output_type": "stream",
          "name": "stdout",
          "text": [
            "\r    sparsity=0.70: accuracy=89.56%"
          ]
        },
        {
          "output_type": "stream",
          "name": "stderr",
          "text": [
            "\n",
            "Evaluating:   0%|          | 0/28 [00:00<?, ?it/s]\u001b[A\n",
            "Evaluating: 100%|██████████| 28/28 [00:00<00:00, 145.99it/s]\n",
            "scanning 1/30 weight - bert.embeddings.position_embeddings.weight:  83%|████████▎ | 5/6 [00:02<00:00,  1.79it/s]"
          ]
        },
        {
          "output_type": "stream",
          "name": "stdout",
          "text": [
            "\r    sparsity=0.80: accuracy=89.33%"
          ]
        },
        {
          "output_type": "stream",
          "name": "stderr",
          "text": [
            "\n",
            "Evaluating:   0%|          | 0/28 [00:00<?, ?it/s]\u001b[A\n",
            "Evaluating: 100%|██████████| 28/28 [00:00<00:00, 140.46it/s]\n",
            "scanning 1/30 weight - bert.embeddings.position_embeddings.weight: 100%|██████████| 6/6 [00:03<00:00,  1.78it/s]\n"
          ]
        },
        {
          "output_type": "stream",
          "name": "stdout",
          "text": [
            "\r    sparsity=0.90: accuracy=87.50%\r    sparsity=[0.40,0.50,0.60,0.70,0.80,0.90]: accuracy=[89.11%, 89.22%, 89.22%, 89.56%, 89.33%, 87.50%]"
          ]
        },
        {
          "output_type": "stream",
          "name": "stderr",
          "text": [
            "scanning 2/30 weight - bert.embeddings.token_type_embeddings.weight:   0%|          | 0/6 [00:00<?, ?it/s]\n",
            "Evaluating:   0%|          | 0/28 [00:00<?, ?it/s]\u001b[A\n",
            "Evaluating: 100%|██████████| 28/28 [00:00<00:00, 145.06it/s]\n",
            "scanning 2/30 weight - bert.embeddings.token_type_embeddings.weight:  17%|█▋        | 1/6 [00:00<00:02,  1.80it/s]"
          ]
        },
        {
          "output_type": "stream",
          "name": "stdout",
          "text": [
            "\r    sparsity=0.40: accuracy=88.42%"
          ]
        },
        {
          "output_type": "stream",
          "name": "stderr",
          "text": [
            "\n",
            "Evaluating:   0%|          | 0/28 [00:00<?, ?it/s]\u001b[A\n",
            "Evaluating: 100%|██████████| 28/28 [00:00<00:00, 145.25it/s]\n",
            "scanning 2/30 weight - bert.embeddings.token_type_embeddings.weight:  33%|███▎      | 2/6 [00:01<00:02,  1.79it/s]"
          ]
        },
        {
          "output_type": "stream",
          "name": "stdout",
          "text": [
            "\r    sparsity=0.50: accuracy=88.19%"
          ]
        },
        {
          "output_type": "stream",
          "name": "stderr",
          "text": [
            "\n",
            "Evaluating:   0%|          | 0/28 [00:00<?, ?it/s]\u001b[A\n",
            "Evaluating: 100%|██████████| 28/28 [00:00<00:00, 144.89it/s]\n",
            "scanning 2/30 weight - bert.embeddings.token_type_embeddings.weight:  50%|█████     | 3/6 [00:01<00:01,  1.79it/s]"
          ]
        },
        {
          "output_type": "stream",
          "name": "stdout",
          "text": [
            "\r    sparsity=0.60: accuracy=88.76%"
          ]
        },
        {
          "output_type": "stream",
          "name": "stderr",
          "text": [
            "\n",
            "Evaluating:   0%|          | 0/28 [00:00<?, ?it/s]\u001b[A\n",
            "Evaluating: 100%|██████████| 28/28 [00:00<00:00, 143.61it/s]\n",
            "scanning 2/30 weight - bert.embeddings.token_type_embeddings.weight:  67%|██████▋   | 4/6 [00:02<00:01,  1.79it/s]"
          ]
        },
        {
          "output_type": "stream",
          "name": "stdout",
          "text": [
            "\r    sparsity=0.70: accuracy=88.65%"
          ]
        },
        {
          "output_type": "stream",
          "name": "stderr",
          "text": [
            "\n",
            "Evaluating:   0%|          | 0/28 [00:00<?, ?it/s]\u001b[A\n",
            "Evaluating: 100%|██████████| 28/28 [00:00<00:00, 145.86it/s]\n",
            "scanning 2/30 weight - bert.embeddings.token_type_embeddings.weight:  83%|████████▎ | 5/6 [00:02<00:00,  1.80it/s]"
          ]
        },
        {
          "output_type": "stream",
          "name": "stdout",
          "text": [
            "\r    sparsity=0.80: accuracy=86.47%"
          ]
        },
        {
          "output_type": "stream",
          "name": "stderr",
          "text": [
            "\n",
            "Evaluating:   0%|          | 0/28 [00:00<?, ?it/s]\u001b[A\n",
            "Evaluating: 100%|██████████| 28/28 [00:00<00:00, 146.27it/s]\n",
            "scanning 2/30 weight - bert.embeddings.token_type_embeddings.weight: 100%|██████████| 6/6 [00:03<00:00,  1.79it/s]\n"
          ]
        },
        {
          "output_type": "stream",
          "name": "stdout",
          "text": [
            "\r    sparsity=0.90: accuracy=85.89%\r    sparsity=[0.40,0.50,0.60,0.70,0.80,0.90]: accuracy=[88.42%, 88.19%, 88.76%, 88.65%, 86.47%, 85.89%]"
          ]
        },
        {
          "output_type": "stream",
          "name": "stderr",
          "text": [
            "scanning 3/30 weight - bert.encoder.layer.0.attention.self.query.weight:   0%|          | 0/6 [00:00<?, ?it/s]\n",
            "Evaluating:   0%|          | 0/28 [00:00<?, ?it/s]\u001b[A\n",
            "Evaluating: 100%|██████████| 28/28 [00:00<00:00, 145.50it/s]\n",
            "scanning 3/30 weight - bert.encoder.layer.0.attention.self.query.weight:  17%|█▋        | 1/6 [00:00<00:02,  1.79it/s]"
          ]
        },
        {
          "output_type": "stream",
          "name": "stdout",
          "text": [
            "\r    sparsity=0.40: accuracy=88.99%"
          ]
        },
        {
          "output_type": "stream",
          "name": "stderr",
          "text": [
            "\n",
            "Evaluating:   0%|          | 0/28 [00:00<?, ?it/s]\u001b[A\n",
            "Evaluating: 100%|██████████| 28/28 [00:00<00:00, 144.75it/s]\n",
            "scanning 3/30 weight - bert.encoder.layer.0.attention.self.query.weight:  33%|███▎      | 2/6 [00:01<00:03,  1.18it/s]"
          ]
        },
        {
          "output_type": "stream",
          "name": "stdout",
          "text": [
            "\r    sparsity=0.50: accuracy=88.53%"
          ]
        },
        {
          "output_type": "stream",
          "name": "stderr",
          "text": [
            "\n",
            "Evaluating:   0%|          | 0/28 [00:00<?, ?it/s]\u001b[A\n",
            "Evaluating: 100%|██████████| 28/28 [00:00<00:00, 140.77it/s]\n",
            "scanning 3/30 weight - bert.encoder.layer.0.attention.self.query.weight:  50%|█████     | 3/6 [00:02<00:02,  1.39it/s]"
          ]
        },
        {
          "output_type": "stream",
          "name": "stdout",
          "text": [
            "\r    sparsity=0.60: accuracy=88.65%"
          ]
        },
        {
          "output_type": "stream",
          "name": "stderr",
          "text": [
            "\n",
            "Evaluating:   0%|          | 0/28 [00:00<?, ?it/s]\u001b[A\n",
            "Evaluating: 100%|██████████| 28/28 [00:00<00:00, 145.87it/s]\n",
            "scanning 3/30 weight - bert.encoder.layer.0.attention.self.query.weight:  67%|██████▋   | 4/6 [00:02<00:01,  1.52it/s]"
          ]
        },
        {
          "output_type": "stream",
          "name": "stdout",
          "text": [
            "\r    sparsity=0.70: accuracy=88.65%"
          ]
        },
        {
          "output_type": "stream",
          "name": "stderr",
          "text": [
            "\n",
            "Evaluating:   0%|          | 0/28 [00:00<?, ?it/s]\u001b[A\n",
            "Evaluating: 100%|██████████| 28/28 [00:00<00:00, 145.21it/s]\n",
            "scanning 3/30 weight - bert.encoder.layer.0.attention.self.query.weight:  83%|████████▎ | 5/6 [00:03<00:00,  1.61it/s]"
          ]
        },
        {
          "output_type": "stream",
          "name": "stdout",
          "text": [
            "\r    sparsity=0.80: accuracy=88.53%"
          ]
        },
        {
          "output_type": "stream",
          "name": "stderr",
          "text": [
            "\n",
            "Evaluating:   0%|          | 0/28 [00:00<?, ?it/s]\u001b[A\n",
            "Evaluating: 100%|██████████| 28/28 [00:00<00:00, 136.59it/s]\n",
            "scanning 3/30 weight - bert.encoder.layer.0.attention.self.query.weight: 100%|██████████| 6/6 [00:03<00:00,  1.55it/s]\n"
          ]
        },
        {
          "output_type": "stream",
          "name": "stdout",
          "text": [
            "\r    sparsity=0.90: accuracy=88.07%\r    sparsity=[0.40,0.50,0.60,0.70,0.80,0.90]: accuracy=[88.99%, 88.53%, 88.65%, 88.65%, 88.53%, 88.07%]"
          ]
        },
        {
          "output_type": "stream",
          "name": "stderr",
          "text": [
            "scanning 4/30 weight - bert.encoder.layer.0.attention.self.key.weight:   0%|          | 0/6 [00:00<?, ?it/s]\n",
            "Evaluating:   0%|          | 0/28 [00:00<?, ?it/s]\u001b[A\n",
            "Evaluating: 100%|██████████| 28/28 [00:00<00:00, 144.62it/s]\n",
            "scanning 4/30 weight - bert.encoder.layer.0.attention.self.key.weight:  17%|█▋        | 1/6 [00:00<00:02,  1.77it/s]"
          ]
        },
        {
          "output_type": "stream",
          "name": "stdout",
          "text": [
            "\r    sparsity=0.40: accuracy=88.88%"
          ]
        },
        {
          "output_type": "stream",
          "name": "stderr",
          "text": [
            "\n",
            "Evaluating:   0%|          | 0/28 [00:00<?, ?it/s]\u001b[A\n",
            "Evaluating: 100%|██████████| 28/28 [00:00<00:00, 144.91it/s]\n",
            "scanning 4/30 weight - bert.encoder.layer.0.attention.self.key.weight:  33%|███▎      | 2/6 [00:01<00:02,  1.78it/s]"
          ]
        },
        {
          "output_type": "stream",
          "name": "stdout",
          "text": [
            "\r    sparsity=0.50: accuracy=89.11%"
          ]
        },
        {
          "output_type": "stream",
          "name": "stderr",
          "text": [
            "\n",
            "Evaluating:   0%|          | 0/28 [00:00<?, ?it/s]\u001b[A\n",
            "Evaluating: 100%|██████████| 28/28 [00:00<00:00, 141.00it/s]\n",
            "scanning 4/30 weight - bert.encoder.layer.0.attention.self.key.weight:  50%|█████     | 3/6 [00:01<00:01,  1.78it/s]"
          ]
        },
        {
          "output_type": "stream",
          "name": "stdout",
          "text": [
            "\r    sparsity=0.60: accuracy=89.22%"
          ]
        },
        {
          "output_type": "stream",
          "name": "stderr",
          "text": [
            "\n",
            "Evaluating:   0%|          | 0/28 [00:00<?, ?it/s]\u001b[A\n",
            "Evaluating: 100%|██████████| 28/28 [00:00<00:00, 145.91it/s]\n",
            "scanning 4/30 weight - bert.encoder.layer.0.attention.self.key.weight:  67%|██████▋   | 4/6 [00:02<00:01,  1.78it/s]"
          ]
        },
        {
          "output_type": "stream",
          "name": "stdout",
          "text": [
            "\r    sparsity=0.70: accuracy=89.22%"
          ]
        },
        {
          "output_type": "stream",
          "name": "stderr",
          "text": [
            "\n",
            "Evaluating:   0%|          | 0/28 [00:00<?, ?it/s]\u001b[A\n",
            "Evaluating: 100%|██████████| 28/28 [00:00<00:00, 140.46it/s]\n",
            "scanning 4/30 weight - bert.encoder.layer.0.attention.self.key.weight:  83%|████████▎ | 5/6 [00:02<00:00,  1.78it/s]"
          ]
        },
        {
          "output_type": "stream",
          "name": "stdout",
          "text": [
            "\r    sparsity=0.80: accuracy=88.42%"
          ]
        },
        {
          "output_type": "stream",
          "name": "stderr",
          "text": [
            "\n",
            "Evaluating:   0%|          | 0/28 [00:00<?, ?it/s]\u001b[A\n",
            "Evaluating: 100%|██████████| 28/28 [00:00<00:00, 145.67it/s]\n",
            "scanning 4/30 weight - bert.encoder.layer.0.attention.self.key.weight: 100%|██████████| 6/6 [00:03<00:00,  1.78it/s]\n"
          ]
        },
        {
          "output_type": "stream",
          "name": "stdout",
          "text": [
            "\r    sparsity=0.90: accuracy=86.81%\r    sparsity=[0.40,0.50,0.60,0.70,0.80,0.90]: accuracy=[88.88%, 89.11%, 89.22%, 89.22%, 88.42%, 86.81%]"
          ]
        },
        {
          "output_type": "stream",
          "name": "stderr",
          "text": [
            "scanning 5/30 weight - bert.encoder.layer.0.attention.self.value.weight:   0%|          | 0/6 [00:00<?, ?it/s]\n",
            "Evaluating:   0%|          | 0/28 [00:00<?, ?it/s]\u001b[A\n",
            "Evaluating: 100%|██████████| 28/28 [00:00<00:00, 145.09it/s]\n",
            "scanning 5/30 weight - bert.encoder.layer.0.attention.self.value.weight:  17%|█▋        | 1/6 [00:00<00:02,  1.78it/s]"
          ]
        },
        {
          "output_type": "stream",
          "name": "stdout",
          "text": [
            "\r    sparsity=0.40: accuracy=88.53%"
          ]
        },
        {
          "output_type": "stream",
          "name": "stderr",
          "text": [
            "\n",
            "Evaluating:   0%|          | 0/28 [00:00<?, ?it/s]\u001b[A\n",
            "Evaluating: 100%|██████████| 28/28 [00:00<00:00, 145.39it/s]\n",
            "scanning 5/30 weight - bert.encoder.layer.0.attention.self.value.weight:  33%|███▎      | 2/6 [00:01<00:02,  1.78it/s]"
          ]
        },
        {
          "output_type": "stream",
          "name": "stdout",
          "text": [
            "\r    sparsity=0.50: accuracy=88.19%"
          ]
        },
        {
          "output_type": "stream",
          "name": "stderr",
          "text": [
            "\n",
            "Evaluating:   0%|          | 0/28 [00:00<?, ?it/s]\u001b[A\n",
            "Evaluating: 100%|██████████| 28/28 [00:00<00:00, 144.51it/s]\n",
            "scanning 5/30 weight - bert.encoder.layer.0.attention.self.value.weight:  50%|█████     | 3/6 [00:01<00:01,  1.78it/s]"
          ]
        },
        {
          "output_type": "stream",
          "name": "stdout",
          "text": [
            "\r    sparsity=0.60: accuracy=87.96%"
          ]
        },
        {
          "output_type": "stream",
          "name": "stderr",
          "text": [
            "\n",
            "Evaluating:   0%|          | 0/28 [00:00<?, ?it/s]\u001b[A\n",
            "Evaluating: 100%|██████████| 28/28 [00:00<00:00, 145.25it/s]\n",
            "scanning 5/30 weight - bert.encoder.layer.0.attention.self.value.weight:  67%|██████▋   | 4/6 [00:02<00:01,  1.79it/s]"
          ]
        },
        {
          "output_type": "stream",
          "name": "stdout",
          "text": [
            "\r    sparsity=0.70: accuracy=88.42%"
          ]
        },
        {
          "output_type": "stream",
          "name": "stderr",
          "text": [
            "\n",
            "Evaluating:   0%|          | 0/28 [00:00<?, ?it/s]\u001b[A\n",
            "Evaluating: 100%|██████████| 28/28 [00:00<00:00, 103.58it/s]\n",
            "scanning 5/30 weight - bert.encoder.layer.0.attention.self.value.weight:  83%|████████▎ | 5/6 [00:02<00:00,  1.70it/s]"
          ]
        },
        {
          "output_type": "stream",
          "name": "stdout",
          "text": [
            "\r    sparsity=0.80: accuracy=87.04%"
          ]
        },
        {
          "output_type": "stream",
          "name": "stderr",
          "text": [
            "\n",
            "Evaluating:   0%|          | 0/28 [00:00<?, ?it/s]\u001b[A\n",
            "Evaluating: 100%|██████████| 28/28 [00:00<00:00, 143.62it/s]\n",
            "scanning 5/30 weight - bert.encoder.layer.0.attention.self.value.weight: 100%|██████████| 6/6 [00:03<00:00,  1.74it/s]\n"
          ]
        },
        {
          "output_type": "stream",
          "name": "stdout",
          "text": [
            "\r    sparsity=0.90: accuracy=85.78%\r    sparsity=[0.40,0.50,0.60,0.70,0.80,0.90]: accuracy=[88.53%, 88.19%, 87.96%, 88.42%, 87.04%, 85.78%]"
          ]
        },
        {
          "output_type": "stream",
          "name": "stderr",
          "text": [
            "scanning 6/30 weight - bert.encoder.layer.0.attention.output.dense.weight:   0%|          | 0/6 [00:00<?, ?it/s]\n",
            "Evaluating:   0%|          | 0/28 [00:00<?, ?it/s]\u001b[A\n",
            "Evaluating: 100%|██████████| 28/28 [00:00<00:00, 144.55it/s]\n",
            "scanning 6/30 weight - bert.encoder.layer.0.attention.output.dense.weight:  17%|█▋        | 1/6 [00:00<00:02,  1.80it/s]"
          ]
        },
        {
          "output_type": "stream",
          "name": "stdout",
          "text": [
            "\r    sparsity=0.40: accuracy=88.76%"
          ]
        },
        {
          "output_type": "stream",
          "name": "stderr",
          "text": [
            "\n",
            "Evaluating:   0%|          | 0/28 [00:00<?, ?it/s]\u001b[A\n",
            "Evaluating: 100%|██████████| 28/28 [00:00<00:00, 145.22it/s]\n",
            "scanning 6/30 weight - bert.encoder.layer.0.attention.output.dense.weight:  33%|███▎      | 2/6 [00:01<00:02,  1.80it/s]"
          ]
        },
        {
          "output_type": "stream",
          "name": "stdout",
          "text": [
            "\r    sparsity=0.50: accuracy=88.42%"
          ]
        },
        {
          "output_type": "stream",
          "name": "stderr",
          "text": [
            "\n",
            "Evaluating:   0%|          | 0/28 [00:00<?, ?it/s]\u001b[A\n",
            "Evaluating: 100%|██████████| 28/28 [00:00<00:00, 145.42it/s]\n",
            "scanning 6/30 weight - bert.encoder.layer.0.attention.output.dense.weight:  50%|█████     | 3/6 [00:01<00:01,  1.80it/s]"
          ]
        },
        {
          "output_type": "stream",
          "name": "stdout",
          "text": [
            "\r    sparsity=0.60: accuracy=88.19%"
          ]
        },
        {
          "output_type": "stream",
          "name": "stderr",
          "text": [
            "\n",
            "Evaluating:   0%|          | 0/28 [00:00<?, ?it/s]\u001b[A\n",
            "Evaluating: 100%|██████████| 28/28 [00:00<00:00, 145.47it/s]\n",
            "scanning 6/30 weight - bert.encoder.layer.0.attention.output.dense.weight:  67%|██████▋   | 4/6 [00:02<00:01,  1.80it/s]"
          ]
        },
        {
          "output_type": "stream",
          "name": "stdout",
          "text": [
            "\r    sparsity=0.70: accuracy=87.61%"
          ]
        },
        {
          "output_type": "stream",
          "name": "stderr",
          "text": [
            "\n",
            "Evaluating:   0%|          | 0/28 [00:00<?, ?it/s]\u001b[A\n",
            "Evaluating: 100%|██████████| 28/28 [00:00<00:00, 143.46it/s]\n",
            "scanning 6/30 weight - bert.encoder.layer.0.attention.output.dense.weight:  83%|████████▎ | 5/6 [00:02<00:00,  1.79it/s]"
          ]
        },
        {
          "output_type": "stream",
          "name": "stdout",
          "text": [
            "\r    sparsity=0.80: accuracy=88.30%"
          ]
        },
        {
          "output_type": "stream",
          "name": "stderr",
          "text": [
            "\n",
            "Evaluating:   0%|          | 0/28 [00:00<?, ?it/s]\u001b[A\n",
            "Evaluating: 100%|██████████| 28/28 [00:00<00:00, 145.44it/s]\n",
            "scanning 6/30 weight - bert.encoder.layer.0.attention.output.dense.weight: 100%|██████████| 6/6 [00:03<00:00,  1.79it/s]\n"
          ]
        },
        {
          "output_type": "stream",
          "name": "stdout",
          "text": [
            "\r    sparsity=0.90: accuracy=87.04%\r    sparsity=[0.40,0.50,0.60,0.70,0.80,0.90]: accuracy=[88.76%, 88.42%, 88.19%, 87.61%, 88.30%, 87.04%]"
          ]
        },
        {
          "output_type": "stream",
          "name": "stderr",
          "text": [
            "scanning 7/30 weight - bert.encoder.layer.0.intermediate.dense.weight:   0%|          | 0/6 [00:00<?, ?it/s]\n",
            "Evaluating:   0%|          | 0/28 [00:00<?, ?it/s]\u001b[A\n",
            "Evaluating: 100%|██████████| 28/28 [00:00<00:00, 142.54it/s]\n",
            "scanning 7/30 weight - bert.encoder.layer.0.intermediate.dense.weight:  17%|█▋        | 1/6 [00:00<00:02,  1.75it/s]"
          ]
        },
        {
          "output_type": "stream",
          "name": "stdout",
          "text": [
            "\r    sparsity=0.40: accuracy=88.99%"
          ]
        },
        {
          "output_type": "stream",
          "name": "stderr",
          "text": [
            "\n",
            "Evaluating:   0%|          | 0/28 [00:00<?, ?it/s]\u001b[A\n",
            "Evaluating: 100%|██████████| 28/28 [00:00<00:00, 144.15it/s]\n",
            "scanning 7/30 weight - bert.encoder.layer.0.intermediate.dense.weight:  33%|███▎      | 2/6 [00:01<00:02,  1.77it/s]"
          ]
        },
        {
          "output_type": "stream",
          "name": "stdout",
          "text": [
            "\r    sparsity=0.50: accuracy=89.33%"
          ]
        },
        {
          "output_type": "stream",
          "name": "stderr",
          "text": [
            "\n",
            "Evaluating:   0%|          | 0/28 [00:00<?, ?it/s]\u001b[A\n",
            "Evaluating: 100%|██████████| 28/28 [00:00<00:00, 143.04it/s]\n",
            "scanning 7/30 weight - bert.encoder.layer.0.intermediate.dense.weight:  50%|█████     | 3/6 [00:01<00:01,  1.77it/s]"
          ]
        },
        {
          "output_type": "stream",
          "name": "stdout",
          "text": [
            "\r    sparsity=0.60: accuracy=88.53%"
          ]
        },
        {
          "output_type": "stream",
          "name": "stderr",
          "text": [
            "\n",
            "Evaluating:   0%|          | 0/28 [00:00<?, ?it/s]\u001b[A\n",
            "Evaluating: 100%|██████████| 28/28 [00:00<00:00, 145.40it/s]\n",
            "scanning 7/30 weight - bert.encoder.layer.0.intermediate.dense.weight:  67%|██████▋   | 4/6 [00:02<00:01,  1.77it/s]"
          ]
        },
        {
          "output_type": "stream",
          "name": "stdout",
          "text": [
            "\r    sparsity=0.70: accuracy=87.61%"
          ]
        },
        {
          "output_type": "stream",
          "name": "stderr",
          "text": [
            "\n",
            "Evaluating:   0%|          | 0/28 [00:00<?, ?it/s]\u001b[A\n",
            "Evaluating: 100%|██████████| 28/28 [00:00<00:00, 145.17it/s]\n",
            "scanning 7/30 weight - bert.encoder.layer.0.intermediate.dense.weight:  83%|████████▎ | 5/6 [00:02<00:00,  1.76it/s]"
          ]
        },
        {
          "output_type": "stream",
          "name": "stdout",
          "text": [
            "\r    sparsity=0.80: accuracy=87.16%"
          ]
        },
        {
          "output_type": "stream",
          "name": "stderr",
          "text": [
            "\n",
            "Evaluating:   0%|          | 0/28 [00:00<?, ?it/s]\u001b[A\n",
            "Evaluating: 100%|██████████| 28/28 [00:00<00:00, 144.57it/s]\n",
            "scanning 7/30 weight - bert.encoder.layer.0.intermediate.dense.weight: 100%|██████████| 6/6 [00:03<00:00,  1.77it/s]\n"
          ]
        },
        {
          "output_type": "stream",
          "name": "stdout",
          "text": [
            "\r    sparsity=0.90: accuracy=83.14%\r    sparsity=[0.40,0.50,0.60,0.70,0.80,0.90]: accuracy=[88.99%, 89.33%, 88.53%, 87.61%, 87.16%, 83.14%]"
          ]
        },
        {
          "output_type": "stream",
          "name": "stderr",
          "text": [
            "scanning 8/30 weight - bert.encoder.layer.0.output.dense.weight:   0%|          | 0/6 [00:00<?, ?it/s]\n",
            "Evaluating:   0%|          | 0/28 [00:00<?, ?it/s]\u001b[A\n",
            "Evaluating: 100%|██████████| 28/28 [00:00<00:00, 143.02it/s]\n",
            "scanning 8/30 weight - bert.encoder.layer.0.output.dense.weight:  17%|█▋        | 1/6 [00:00<00:02,  1.76it/s]"
          ]
        },
        {
          "output_type": "stream",
          "name": "stdout",
          "text": [
            "\r    sparsity=0.40: accuracy=89.22%"
          ]
        },
        {
          "output_type": "stream",
          "name": "stderr",
          "text": [
            "\n",
            "Evaluating:   0%|          | 0/28 [00:00<?, ?it/s]\u001b[A\n",
            "Evaluating: 100%|██████████| 28/28 [00:00<00:00, 145.77it/s]\n",
            "scanning 8/30 weight - bert.encoder.layer.0.output.dense.weight:  33%|███▎      | 2/6 [00:01<00:02,  1.78it/s]"
          ]
        },
        {
          "output_type": "stream",
          "name": "stdout",
          "text": [
            "\r    sparsity=0.50: accuracy=88.42%"
          ]
        },
        {
          "output_type": "stream",
          "name": "stderr",
          "text": [
            "\n",
            "Evaluating:   0%|          | 0/28 [00:00<?, ?it/s]\u001b[A\n",
            "Evaluating: 100%|██████████| 28/28 [00:00<00:00, 144.51it/s]\n",
            "scanning 8/30 weight - bert.encoder.layer.0.output.dense.weight:  50%|█████     | 3/6 [00:01<00:01,  1.78it/s]"
          ]
        },
        {
          "output_type": "stream",
          "name": "stdout",
          "text": [
            "\r    sparsity=0.60: accuracy=88.65%"
          ]
        },
        {
          "output_type": "stream",
          "name": "stderr",
          "text": [
            "\n",
            "Evaluating:   0%|          | 0/28 [00:00<?, ?it/s]\u001b[A\n",
            "Evaluating: 100%|██████████| 28/28 [00:00<00:00, 145.02it/s]\n",
            "scanning 8/30 weight - bert.encoder.layer.0.output.dense.weight:  67%|██████▋   | 4/6 [00:02<00:01,  1.78it/s]"
          ]
        },
        {
          "output_type": "stream",
          "name": "stdout",
          "text": [
            "\r    sparsity=0.70: accuracy=89.33%"
          ]
        },
        {
          "output_type": "stream",
          "name": "stderr",
          "text": [
            "\n",
            "Evaluating:   0%|          | 0/28 [00:00<?, ?it/s]\u001b[A\n",
            "Evaluating: 100%|██████████| 28/28 [00:00<00:00, 144.99it/s]\n",
            "scanning 8/30 weight - bert.encoder.layer.0.output.dense.weight:  83%|████████▎ | 5/6 [00:02<00:00,  1.79it/s]"
          ]
        },
        {
          "output_type": "stream",
          "name": "stdout",
          "text": [
            "\r    sparsity=0.80: accuracy=88.65%"
          ]
        },
        {
          "output_type": "stream",
          "name": "stderr",
          "text": [
            "\n",
            "Evaluating:   0%|          | 0/28 [00:00<?, ?it/s]\u001b[A\n",
            "Evaluating: 100%|██████████| 28/28 [00:00<00:00, 144.73it/s]\n",
            "scanning 8/30 weight - bert.encoder.layer.0.output.dense.weight: 100%|██████████| 6/6 [00:03<00:00,  1.78it/s]\n"
          ]
        },
        {
          "output_type": "stream",
          "name": "stdout",
          "text": [
            "\r    sparsity=0.90: accuracy=86.93%\r    sparsity=[0.40,0.50,0.60,0.70,0.80,0.90]: accuracy=[89.22%, 88.42%, 88.65%, 89.33%, 88.65%, 86.93%]"
          ]
        },
        {
          "output_type": "stream",
          "name": "stderr",
          "text": [
            "scanning 9/30 weight - bert.encoder.layer.1.attention.self.query.weight:   0%|          | 0/6 [00:00<?, ?it/s]\n",
            "Evaluating:   0%|          | 0/28 [00:00<?, ?it/s]\u001b[A\n",
            "Evaluating: 100%|██████████| 28/28 [00:00<00:00, 145.30it/s]\n",
            "scanning 9/30 weight - bert.encoder.layer.1.attention.self.query.weight:  17%|█▋        | 1/6 [00:00<00:02,  1.78it/s]"
          ]
        },
        {
          "output_type": "stream",
          "name": "stdout",
          "text": [
            "\r    sparsity=0.40: accuracy=89.11%"
          ]
        },
        {
          "output_type": "stream",
          "name": "stderr",
          "text": [
            "\n",
            "Evaluating:   0%|          | 0/28 [00:00<?, ?it/s]\u001b[A\n",
            "Evaluating: 100%|██████████| 28/28 [00:00<00:00, 144.03it/s]\n",
            "scanning 9/30 weight - bert.encoder.layer.1.attention.self.query.weight:  33%|███▎      | 2/6 [00:01<00:02,  1.78it/s]"
          ]
        },
        {
          "output_type": "stream",
          "name": "stdout",
          "text": [
            "\r    sparsity=0.50: accuracy=89.79%"
          ]
        },
        {
          "output_type": "stream",
          "name": "stderr",
          "text": [
            "\n",
            "Evaluating:   0%|          | 0/28 [00:00<?, ?it/s]\u001b[A\n",
            "Evaluating: 100%|██████████| 28/28 [00:00<00:00, 145.25it/s]\n",
            "scanning 9/30 weight - bert.encoder.layer.1.attention.self.query.weight:  50%|█████     | 3/6 [00:01<00:01,  1.78it/s]"
          ]
        },
        {
          "output_type": "stream",
          "name": "stdout",
          "text": [
            "\r    sparsity=0.60: accuracy=89.11%"
          ]
        },
        {
          "output_type": "stream",
          "name": "stderr",
          "text": [
            "\n",
            "Evaluating:   0%|          | 0/28 [00:00<?, ?it/s]\u001b[A\n",
            "Evaluating: 100%|██████████| 28/28 [00:00<00:00, 145.49it/s]\n",
            "scanning 9/30 weight - bert.encoder.layer.1.attention.self.query.weight:  67%|██████▋   | 4/6 [00:02<00:01,  1.79it/s]"
          ]
        },
        {
          "output_type": "stream",
          "name": "stdout",
          "text": [
            "\r    sparsity=0.70: accuracy=89.45%"
          ]
        },
        {
          "output_type": "stream",
          "name": "stderr",
          "text": [
            "\n",
            "Evaluating:   0%|          | 0/28 [00:00<?, ?it/s]\u001b[A\n",
            "Evaluating: 100%|██████████| 28/28 [00:00<00:00, 144.12it/s]\n",
            "scanning 9/30 weight - bert.encoder.layer.1.attention.self.query.weight:  83%|████████▎ | 5/6 [00:02<00:00,  1.79it/s]"
          ]
        },
        {
          "output_type": "stream",
          "name": "stdout",
          "text": [
            "\r    sparsity=0.80: accuracy=89.33%"
          ]
        },
        {
          "output_type": "stream",
          "name": "stderr",
          "text": [
            "\n",
            "Evaluating:   0%|          | 0/28 [00:00<?, ?it/s]\u001b[A\n",
            "Evaluating: 100%|██████████| 28/28 [00:00<00:00, 145.10it/s]\n",
            "scanning 9/30 weight - bert.encoder.layer.1.attention.self.query.weight: 100%|██████████| 6/6 [00:03<00:00,  1.79it/s]\n"
          ]
        },
        {
          "output_type": "stream",
          "name": "stdout",
          "text": [
            "\r    sparsity=0.90: accuracy=87.27%\r    sparsity=[0.40,0.50,0.60,0.70,0.80,0.90]: accuracy=[89.11%, 89.79%, 89.11%, 89.45%, 89.33%, 87.27%]"
          ]
        },
        {
          "output_type": "stream",
          "name": "stderr",
          "text": [
            "scanning 10/30 weight - bert.encoder.layer.1.attention.self.key.weight:   0%|          | 0/6 [00:00<?, ?it/s]\n",
            "Evaluating:   0%|          | 0/28 [00:00<?, ?it/s]\u001b[A\n",
            "Evaluating: 100%|██████████| 28/28 [00:00<00:00, 144.07it/s]\n",
            "scanning 10/30 weight - bert.encoder.layer.1.attention.self.key.weight:  17%|█▋        | 1/6 [00:00<00:02,  1.80it/s]"
          ]
        },
        {
          "output_type": "stream",
          "name": "stdout",
          "text": [
            "\r    sparsity=0.40: accuracy=89.33%"
          ]
        },
        {
          "output_type": "stream",
          "name": "stderr",
          "text": [
            "\n",
            "Evaluating:   0%|          | 0/28 [00:00<?, ?it/s]\u001b[A\n",
            "Evaluating: 100%|██████████| 28/28 [00:00<00:00, 145.37it/s]\n",
            "scanning 10/30 weight - bert.encoder.layer.1.attention.self.key.weight:  33%|███▎      | 2/6 [00:01<00:02,  1.80it/s]"
          ]
        },
        {
          "output_type": "stream",
          "name": "stdout",
          "text": [
            "\r    sparsity=0.50: accuracy=89.45%"
          ]
        },
        {
          "output_type": "stream",
          "name": "stderr",
          "text": [
            "\n",
            "Evaluating:   0%|          | 0/28 [00:00<?, ?it/s]\u001b[A\n",
            "Evaluating: 100%|██████████| 28/28 [00:00<00:00, 144.01it/s]\n",
            "scanning 10/30 weight - bert.encoder.layer.1.attention.self.key.weight:  50%|█████     | 3/6 [00:01<00:01,  1.80it/s]"
          ]
        },
        {
          "output_type": "stream",
          "name": "stdout",
          "text": [
            "\r    sparsity=0.60: accuracy=89.22%"
          ]
        },
        {
          "output_type": "stream",
          "name": "stderr",
          "text": [
            "\n",
            "Evaluating:   0%|          | 0/28 [00:00<?, ?it/s]\u001b[A\n",
            "Evaluating: 100%|██████████| 28/28 [00:00<00:00, 144.38it/s]\n",
            "scanning 10/30 weight - bert.encoder.layer.1.attention.self.key.weight:  67%|██████▋   | 4/6 [00:02<00:01,  1.80it/s]"
          ]
        },
        {
          "output_type": "stream",
          "name": "stdout",
          "text": [
            "\r    sparsity=0.70: accuracy=88.53%"
          ]
        },
        {
          "output_type": "stream",
          "name": "stderr",
          "text": [
            "\n",
            "Evaluating:   0%|          | 0/28 [00:00<?, ?it/s]\u001b[A\n",
            "Evaluating: 100%|██████████| 28/28 [00:00<00:00, 144.53it/s]\n",
            "scanning 10/30 weight - bert.encoder.layer.1.attention.self.key.weight:  83%|████████▎ | 5/6 [00:02<00:00,  1.79it/s]"
          ]
        },
        {
          "output_type": "stream",
          "name": "stdout",
          "text": [
            "\r    sparsity=0.80: accuracy=88.99%"
          ]
        },
        {
          "output_type": "stream",
          "name": "stderr",
          "text": [
            "\n",
            "Evaluating:   0%|          | 0/28 [00:00<?, ?it/s]\u001b[A\n",
            "Evaluating: 100%|██████████| 28/28 [00:00<00:00, 144.47it/s]\n",
            "scanning 10/30 weight - bert.encoder.layer.1.attention.self.key.weight: 100%|██████████| 6/6 [00:03<00:00,  1.79it/s]\n"
          ]
        },
        {
          "output_type": "stream",
          "name": "stdout",
          "text": [
            "\r    sparsity=0.90: accuracy=88.07%\r    sparsity=[0.40,0.50,0.60,0.70,0.80,0.90]: accuracy=[89.33%, 89.45%, 89.22%, 88.53%, 88.99%, 88.07%]"
          ]
        },
        {
          "output_type": "stream",
          "name": "stderr",
          "text": [
            "scanning 11/30 weight - bert.encoder.layer.1.attention.self.value.weight:   0%|          | 0/6 [00:00<?, ?it/s]\n",
            "Evaluating:   0%|          | 0/28 [00:00<?, ?it/s]\u001b[A\n",
            "Evaluating: 100%|██████████| 28/28 [00:00<00:00, 142.60it/s]\n",
            "scanning 11/30 weight - bert.encoder.layer.1.attention.self.value.weight:  17%|█▋        | 1/6 [00:00<00:02,  1.78it/s]"
          ]
        },
        {
          "output_type": "stream",
          "name": "stdout",
          "text": [
            "\r    sparsity=0.40: accuracy=89.33%"
          ]
        },
        {
          "output_type": "stream",
          "name": "stderr",
          "text": [
            "\n",
            "Evaluating:   0%|          | 0/28 [00:00<?, ?it/s]\u001b[A\n",
            "Evaluating: 100%|██████████| 28/28 [00:00<00:00, 138.82it/s]\n",
            "scanning 11/30 weight - bert.encoder.layer.1.attention.self.value.weight:  33%|███▎      | 2/6 [00:01<00:02,  1.75it/s]"
          ]
        },
        {
          "output_type": "stream",
          "name": "stdout",
          "text": [
            "\r    sparsity=0.50: accuracy=89.45%"
          ]
        },
        {
          "output_type": "stream",
          "name": "stderr",
          "text": [
            "\n",
            "Evaluating:   0%|          | 0/28 [00:00<?, ?it/s]\u001b[A\n",
            "Evaluating: 100%|██████████| 28/28 [00:00<00:00, 144.69it/s]\n",
            "scanning 11/30 weight - bert.encoder.layer.1.attention.self.value.weight:  50%|█████     | 3/6 [00:01<00:01,  1.77it/s]"
          ]
        },
        {
          "output_type": "stream",
          "name": "stdout",
          "text": [
            "\r    sparsity=0.60: accuracy=89.91%"
          ]
        },
        {
          "output_type": "stream",
          "name": "stderr",
          "text": [
            "\n",
            "Evaluating:   0%|          | 0/28 [00:00<?, ?it/s]\u001b[A\n",
            "Evaluating: 100%|██████████| 28/28 [00:00<00:00, 145.50it/s]\n",
            "scanning 11/30 weight - bert.encoder.layer.1.attention.self.value.weight:  67%|██████▋   | 4/6 [00:02<00:01,  1.78it/s]"
          ]
        },
        {
          "output_type": "stream",
          "name": "stdout",
          "text": [
            "\r    sparsity=0.70: accuracy=89.22%"
          ]
        },
        {
          "output_type": "stream",
          "name": "stderr",
          "text": [
            "\n",
            "Evaluating:   0%|          | 0/28 [00:00<?, ?it/s]\u001b[A\n",
            "Evaluating: 100%|██████████| 28/28 [00:00<00:00, 145.21it/s]\n",
            "scanning 11/30 weight - bert.encoder.layer.1.attention.self.value.weight:  83%|████████▎ | 5/6 [00:02<00:00,  1.78it/s]"
          ]
        },
        {
          "output_type": "stream",
          "name": "stdout",
          "text": [
            "\r    sparsity=0.80: accuracy=88.30%"
          ]
        },
        {
          "output_type": "stream",
          "name": "stderr",
          "text": [
            "\n",
            "Evaluating:   0%|          | 0/28 [00:00<?, ?it/s]\u001b[A\n",
            "Evaluating: 100%|██████████| 28/28 [00:00<00:00, 144.94it/s]\n",
            "scanning 11/30 weight - bert.encoder.layer.1.attention.self.value.weight: 100%|██████████| 6/6 [00:03<00:00,  1.78it/s]\n"
          ]
        },
        {
          "output_type": "stream",
          "name": "stdout",
          "text": [
            "\r    sparsity=0.90: accuracy=86.24%\r    sparsity=[0.40,0.50,0.60,0.70,0.80,0.90]: accuracy=[89.33%, 89.45%, 89.91%, 89.22%, 88.30%, 86.24%]"
          ]
        },
        {
          "output_type": "stream",
          "name": "stderr",
          "text": [
            "scanning 12/30 weight - bert.encoder.layer.1.attention.output.dense.weight:   0%|          | 0/6 [00:00<?, ?it/s]\n",
            "Evaluating:   0%|          | 0/28 [00:00<?, ?it/s]\u001b[A\n",
            "Evaluating: 100%|██████████| 28/28 [00:00<00:00, 146.16it/s]\n",
            "scanning 12/30 weight - bert.encoder.layer.1.attention.output.dense.weight:  17%|█▋        | 1/6 [00:00<00:02,  1.79it/s]"
          ]
        },
        {
          "output_type": "stream",
          "name": "stdout",
          "text": [
            "\r    sparsity=0.40: accuracy=89.68%"
          ]
        },
        {
          "output_type": "stream",
          "name": "stderr",
          "text": [
            "\n",
            "Evaluating:   0%|          | 0/28 [00:00<?, ?it/s]\u001b[A\n",
            "Evaluating: 100%|██████████| 28/28 [00:00<00:00, 145.19it/s]\n",
            "scanning 12/30 weight - bert.encoder.layer.1.attention.output.dense.weight:  33%|███▎      | 2/6 [00:01<00:02,  1.78it/s]"
          ]
        },
        {
          "output_type": "stream",
          "name": "stdout",
          "text": [
            "\r    sparsity=0.50: accuracy=89.33%"
          ]
        },
        {
          "output_type": "stream",
          "name": "stderr",
          "text": [
            "\n",
            "Evaluating:   0%|          | 0/28 [00:00<?, ?it/s]\u001b[A\n",
            "Evaluating: 100%|██████████| 28/28 [00:00<00:00, 145.19it/s]\n",
            "scanning 12/30 weight - bert.encoder.layer.1.attention.output.dense.weight:  50%|█████     | 3/6 [00:01<00:01,  1.79it/s]"
          ]
        },
        {
          "output_type": "stream",
          "name": "stdout",
          "text": [
            "\r    sparsity=0.60: accuracy=89.22%"
          ]
        },
        {
          "output_type": "stream",
          "name": "stderr",
          "text": [
            "\n",
            "Evaluating:   0%|          | 0/28 [00:00<?, ?it/s]\u001b[A\n",
            "Evaluating: 100%|██████████| 28/28 [00:00<00:00, 144.11it/s]\n",
            "scanning 12/30 weight - bert.encoder.layer.1.attention.output.dense.weight:  67%|██████▋   | 4/6 [00:02<00:01,  1.79it/s]"
          ]
        },
        {
          "output_type": "stream",
          "name": "stdout",
          "text": [
            "\r    sparsity=0.70: accuracy=89.33%"
          ]
        },
        {
          "output_type": "stream",
          "name": "stderr",
          "text": [
            "\n",
            "Evaluating:   0%|          | 0/28 [00:00<?, ?it/s]\u001b[A\n",
            "Evaluating: 100%|██████████| 28/28 [00:00<00:00, 144.89it/s]\n",
            "scanning 12/30 weight - bert.encoder.layer.1.attention.output.dense.weight:  83%|████████▎ | 5/6 [00:02<00:00,  1.79it/s]"
          ]
        },
        {
          "output_type": "stream",
          "name": "stdout",
          "text": [
            "\r    sparsity=0.80: accuracy=89.33%"
          ]
        },
        {
          "output_type": "stream",
          "name": "stderr",
          "text": [
            "\n",
            "Evaluating:   0%|          | 0/28 [00:00<?, ?it/s]\u001b[A\n",
            "Evaluating: 100%|██████████| 28/28 [00:00<00:00, 144.52it/s]\n",
            "scanning 12/30 weight - bert.encoder.layer.1.attention.output.dense.weight: 100%|██████████| 6/6 [00:03<00:00,  1.79it/s]\n"
          ]
        },
        {
          "output_type": "stream",
          "name": "stdout",
          "text": [
            "\r    sparsity=0.90: accuracy=88.30%\r    sparsity=[0.40,0.50,0.60,0.70,0.80,0.90]: accuracy=[89.68%, 89.33%, 89.22%, 89.33%, 89.33%, 88.30%]"
          ]
        },
        {
          "output_type": "stream",
          "name": "stderr",
          "text": [
            "scanning 13/30 weight - bert.encoder.layer.1.intermediate.dense.weight:   0%|          | 0/6 [00:00<?, ?it/s]\n",
            "Evaluating:   0%|          | 0/28 [00:00<?, ?it/s]\u001b[A\n",
            "Evaluating: 100%|██████████| 28/28 [00:00<00:00, 143.69it/s]\n",
            "scanning 13/30 weight - bert.encoder.layer.1.intermediate.dense.weight:  17%|█▋        | 1/6 [00:00<00:02,  1.75it/s]"
          ]
        },
        {
          "output_type": "stream",
          "name": "stdout",
          "text": [
            "\r    sparsity=0.40: accuracy=89.33%"
          ]
        },
        {
          "output_type": "stream",
          "name": "stderr",
          "text": [
            "\n",
            "Evaluating:   0%|          | 0/28 [00:00<?, ?it/s]\u001b[A\n",
            "Evaluating: 100%|██████████| 28/28 [00:00<00:00, 145.97it/s]\n",
            "scanning 13/30 weight - bert.encoder.layer.1.intermediate.dense.weight:  33%|███▎      | 2/6 [00:01<00:02,  1.77it/s]"
          ]
        },
        {
          "output_type": "stream",
          "name": "stdout",
          "text": [
            "\r    sparsity=0.50: accuracy=89.22%"
          ]
        },
        {
          "output_type": "stream",
          "name": "stderr",
          "text": [
            "\n",
            "Evaluating:   0%|          | 0/28 [00:00<?, ?it/s]\u001b[A\n",
            "Evaluating: 100%|██████████| 28/28 [00:00<00:00, 144.99it/s]\n",
            "scanning 13/30 weight - bert.encoder.layer.1.intermediate.dense.weight:  50%|█████     | 3/6 [00:01<00:01,  1.78it/s]"
          ]
        },
        {
          "output_type": "stream",
          "name": "stdout",
          "text": [
            "\r    sparsity=0.60: accuracy=88.53%"
          ]
        },
        {
          "output_type": "stream",
          "name": "stderr",
          "text": [
            "\n",
            "Evaluating:   0%|          | 0/28 [00:00<?, ?it/s]\u001b[A\n",
            "Evaluating: 100%|██████████| 28/28 [00:00<00:00, 145.44it/s]\n",
            "scanning 13/30 weight - bert.encoder.layer.1.intermediate.dense.weight:  67%|██████▋   | 4/6 [00:02<00:01,  1.78it/s]"
          ]
        },
        {
          "output_type": "stream",
          "name": "stdout",
          "text": [
            "\r    sparsity=0.70: accuracy=88.53%"
          ]
        },
        {
          "output_type": "stream",
          "name": "stderr",
          "text": [
            "\n",
            "Evaluating:   0%|          | 0/28 [00:00<?, ?it/s]\u001b[A\n",
            "Evaluating: 100%|██████████| 28/28 [00:00<00:00, 144.81it/s]\n",
            "scanning 13/30 weight - bert.encoder.layer.1.intermediate.dense.weight:  83%|████████▎ | 5/6 [00:02<00:00,  1.77it/s]"
          ]
        },
        {
          "output_type": "stream",
          "name": "stdout",
          "text": [
            "\r    sparsity=0.80: accuracy=88.65%"
          ]
        },
        {
          "output_type": "stream",
          "name": "stderr",
          "text": [
            "\n",
            "Evaluating:   0%|          | 0/28 [00:00<?, ?it/s]\u001b[A\n",
            "Evaluating:  25%|██▌       | 7/28 [00:00<00:00, 60.20it/s]\u001b[A\n",
            "Evaluating: 100%|██████████| 28/28 [00:00<00:00, 104.34it/s]\n",
            "scanning 13/30 weight - bert.encoder.layer.1.intermediate.dense.weight: 100%|██████████| 6/6 [00:03<00:00,  1.73it/s]\n"
          ]
        },
        {
          "output_type": "stream",
          "name": "stdout",
          "text": [
            "\r    sparsity=0.90: accuracy=86.01%\r    sparsity=[0.40,0.50,0.60,0.70,0.80,0.90]: accuracy=[89.33%, 89.22%, 88.53%, 88.53%, 88.65%, 86.01%]"
          ]
        },
        {
          "output_type": "stream",
          "name": "stderr",
          "text": [
            "scanning 14/30 weight - bert.encoder.layer.1.output.dense.weight:   0%|          | 0/6 [00:00<?, ?it/s]\n",
            "Evaluating:   0%|          | 0/28 [00:00<?, ?it/s]\u001b[A\n",
            "Evaluating: 100%|██████████| 28/28 [00:00<00:00, 139.03it/s]\n",
            "scanning 14/30 weight - bert.encoder.layer.1.output.dense.weight:  17%|█▋        | 1/6 [00:00<00:02,  1.76it/s]"
          ]
        },
        {
          "output_type": "stream",
          "name": "stdout",
          "text": [
            "\r    sparsity=0.40: accuracy=89.22%"
          ]
        },
        {
          "output_type": "stream",
          "name": "stderr",
          "text": [
            "\n",
            "Evaluating:   0%|          | 0/28 [00:00<?, ?it/s]\u001b[A\n",
            "Evaluating: 100%|██████████| 28/28 [00:00<00:00, 145.22it/s]\n",
            "scanning 14/30 weight - bert.encoder.layer.1.output.dense.weight:  33%|███▎      | 2/6 [00:01<00:02,  1.78it/s]"
          ]
        },
        {
          "output_type": "stream",
          "name": "stdout",
          "text": [
            "\r    sparsity=0.50: accuracy=89.11%"
          ]
        },
        {
          "output_type": "stream",
          "name": "stderr",
          "text": [
            "\n",
            "Evaluating:   0%|          | 0/28 [00:00<?, ?it/s]\u001b[A\n",
            "Evaluating: 100%|██████████| 28/28 [00:00<00:00, 143.09it/s]\n",
            "scanning 14/30 weight - bert.encoder.layer.1.output.dense.weight:  50%|█████     | 3/6 [00:01<00:01,  1.76it/s]"
          ]
        },
        {
          "output_type": "stream",
          "name": "stdout",
          "text": [
            "\r    sparsity=0.60: accuracy=89.22%"
          ]
        },
        {
          "output_type": "stream",
          "name": "stderr",
          "text": [
            "\n",
            "Evaluating:   0%|          | 0/28 [00:00<?, ?it/s]\u001b[A\n",
            "Evaluating: 100%|██████████| 28/28 [00:00<00:00, 143.82it/s]\n",
            "scanning 14/30 weight - bert.encoder.layer.1.output.dense.weight:  67%|██████▋   | 4/6 [00:02<00:01,  1.75it/s]"
          ]
        },
        {
          "output_type": "stream",
          "name": "stdout",
          "text": [
            "\r    sparsity=0.70: accuracy=89.68%"
          ]
        },
        {
          "output_type": "stream",
          "name": "stderr",
          "text": [
            "\n",
            "Evaluating:   0%|          | 0/28 [00:00<?, ?it/s]\u001b[A\n",
            "Evaluating: 100%|██████████| 28/28 [00:00<00:00, 141.75it/s]\n",
            "scanning 14/30 weight - bert.encoder.layer.1.output.dense.weight:  83%|████████▎ | 5/6 [00:02<00:00,  1.75it/s]"
          ]
        },
        {
          "output_type": "stream",
          "name": "stdout",
          "text": [
            "\r    sparsity=0.80: accuracy=88.76%"
          ]
        },
        {
          "output_type": "stream",
          "name": "stderr",
          "text": [
            "\n",
            "Evaluating:   0%|          | 0/28 [00:00<?, ?it/s]\u001b[A\n",
            "Evaluating:  46%|████▋     | 13/28 [00:00<00:00, 124.87it/s]\u001b[A\n",
            "Evaluating: 100%|██████████| 28/28 [00:00<00:00, 117.23it/s]\n",
            "scanning 14/30 weight - bert.encoder.layer.1.output.dense.weight: 100%|██████████| 6/6 [00:03<00:00,  1.72it/s]\n"
          ]
        },
        {
          "output_type": "stream",
          "name": "stdout",
          "text": [
            "\r    sparsity=0.90: accuracy=87.39%\r    sparsity=[0.40,0.50,0.60,0.70,0.80,0.90]: accuracy=[89.22%, 89.11%, 89.22%, 89.68%, 88.76%, 87.39%]"
          ]
        },
        {
          "output_type": "stream",
          "name": "stderr",
          "text": [
            "scanning 15/30 weight - bert.encoder.layer.2.attention.self.query.weight:   0%|          | 0/6 [00:00<?, ?it/s]\n",
            "Evaluating:   0%|          | 0/28 [00:00<?, ?it/s]\u001b[A\n",
            "Evaluating:  46%|████▋     | 13/28 [00:00<00:00, 125.97it/s]\u001b[A\n",
            "Evaluating: 100%|██████████| 28/28 [00:00<00:00, 124.18it/s]\n",
            "scanning 15/30 weight - bert.encoder.layer.2.attention.self.query.weight:  17%|█▋        | 1/6 [00:00<00:02,  1.67it/s]"
          ]
        },
        {
          "output_type": "stream",
          "name": "stdout",
          "text": [
            "\r    sparsity=0.40: accuracy=88.88%"
          ]
        },
        {
          "output_type": "stream",
          "name": "stderr",
          "text": [
            "\n",
            "Evaluating:   0%|          | 0/28 [00:00<?, ?it/s]\u001b[A\n",
            "Evaluating: 100%|██████████| 28/28 [00:00<00:00, 144.70it/s]\n",
            "scanning 15/30 weight - bert.encoder.layer.2.attention.self.query.weight:  33%|███▎      | 2/6 [00:01<00:02,  1.73it/s]"
          ]
        },
        {
          "output_type": "stream",
          "name": "stdout",
          "text": [
            "\r    sparsity=0.50: accuracy=88.99%"
          ]
        },
        {
          "output_type": "stream",
          "name": "stderr",
          "text": [
            "\n",
            "Evaluating:   0%|          | 0/28 [00:00<?, ?it/s]\u001b[A\n",
            "Evaluating: 100%|██████████| 28/28 [00:00<00:00, 144.41it/s]\n",
            "scanning 15/30 weight - bert.encoder.layer.2.attention.self.query.weight:  50%|█████     | 3/6 [00:01<00:01,  1.75it/s]"
          ]
        },
        {
          "output_type": "stream",
          "name": "stdout",
          "text": [
            "\r    sparsity=0.60: accuracy=88.99%"
          ]
        },
        {
          "output_type": "stream",
          "name": "stderr",
          "text": [
            "\n",
            "Evaluating:   0%|          | 0/28 [00:00<?, ?it/s]\u001b[A\n",
            "Evaluating: 100%|██████████| 28/28 [00:00<00:00, 144.81it/s]\n",
            "scanning 15/30 weight - bert.encoder.layer.2.attention.self.query.weight:  67%|██████▋   | 4/6 [00:02<00:01,  1.75it/s]"
          ]
        },
        {
          "output_type": "stream",
          "name": "stdout",
          "text": [
            "\r    sparsity=0.70: accuracy=88.65%"
          ]
        },
        {
          "output_type": "stream",
          "name": "stderr",
          "text": [
            "\n",
            "Evaluating:   0%|          | 0/28 [00:00<?, ?it/s]\u001b[A\n",
            "Evaluating: 100%|██████████| 28/28 [00:00<00:00, 135.37it/s]\n",
            "scanning 15/30 weight - bert.encoder.layer.2.attention.self.query.weight:  83%|████████▎ | 5/6 [00:02<00:00,  1.73it/s]"
          ]
        },
        {
          "output_type": "stream",
          "name": "stdout",
          "text": [
            "\r    sparsity=0.80: accuracy=88.30%"
          ]
        },
        {
          "output_type": "stream",
          "name": "stderr",
          "text": [
            "\n",
            "Evaluating:   0%|          | 0/28 [00:00<?, ?it/s]\u001b[A\n",
            "Evaluating: 100%|██████████| 28/28 [00:00<00:00, 143.56it/s]\n",
            "scanning 15/30 weight - bert.encoder.layer.2.attention.self.query.weight: 100%|██████████| 6/6 [00:03<00:00,  1.74it/s]\n"
          ]
        },
        {
          "output_type": "stream",
          "name": "stdout",
          "text": [
            "\r    sparsity=0.90: accuracy=88.76%\r    sparsity=[0.40,0.50,0.60,0.70,0.80,0.90]: accuracy=[88.88%, 88.99%, 88.99%, 88.65%, 88.30%, 88.76%]"
          ]
        },
        {
          "output_type": "stream",
          "name": "stderr",
          "text": [
            "scanning 16/30 weight - bert.encoder.layer.2.attention.self.key.weight:   0%|          | 0/6 [00:00<?, ?it/s]\n",
            "Evaluating:   0%|          | 0/28 [00:00<?, ?it/s]\u001b[A\n",
            "Evaluating: 100%|██████████| 28/28 [00:00<00:00, 142.74it/s]\n",
            "scanning 16/30 weight - bert.encoder.layer.2.attention.self.key.weight:  17%|█▋        | 1/6 [00:00<00:02,  1.79it/s]"
          ]
        },
        {
          "output_type": "stream",
          "name": "stdout",
          "text": [
            "\r    sparsity=0.40: accuracy=89.11%"
          ]
        },
        {
          "output_type": "stream",
          "name": "stderr",
          "text": [
            "\n",
            "Evaluating:   0%|          | 0/28 [00:00<?, ?it/s]\u001b[A\n",
            "Evaluating: 100%|██████████| 28/28 [00:00<00:00, 145.37it/s]\n",
            "scanning 16/30 weight - bert.encoder.layer.2.attention.self.key.weight:  33%|███▎      | 2/6 [00:01<00:02,  1.79it/s]"
          ]
        },
        {
          "output_type": "stream",
          "name": "stdout",
          "text": [
            "\r    sparsity=0.50: accuracy=89.33%"
          ]
        },
        {
          "output_type": "stream",
          "name": "stderr",
          "text": [
            "\n",
            "Evaluating:   0%|          | 0/28 [00:00<?, ?it/s]\u001b[A\n",
            "Evaluating: 100%|██████████| 28/28 [00:00<00:00, 144.51it/s]\n",
            "scanning 16/30 weight - bert.encoder.layer.2.attention.self.key.weight:  50%|█████     | 3/6 [00:01<00:01,  1.79it/s]"
          ]
        },
        {
          "output_type": "stream",
          "name": "stdout",
          "text": [
            "\r    sparsity=0.60: accuracy=89.45%"
          ]
        },
        {
          "output_type": "stream",
          "name": "stderr",
          "text": [
            "\n",
            "Evaluating:   0%|          | 0/28 [00:00<?, ?it/s]\u001b[A\n",
            "Evaluating: 100%|██████████| 28/28 [00:00<00:00, 143.94it/s]\n",
            "scanning 16/30 weight - bert.encoder.layer.2.attention.self.key.weight:  67%|██████▋   | 4/6 [00:02<00:01,  1.79it/s]"
          ]
        },
        {
          "output_type": "stream",
          "name": "stdout",
          "text": [
            "\r    sparsity=0.70: accuracy=89.22%"
          ]
        },
        {
          "output_type": "stream",
          "name": "stderr",
          "text": [
            "\n",
            "Evaluating:   0%|          | 0/28 [00:00<?, ?it/s]\u001b[A\n",
            "Evaluating: 100%|██████████| 28/28 [00:00<00:00, 145.50it/s]\n",
            "scanning 16/30 weight - bert.encoder.layer.2.attention.self.key.weight:  83%|████████▎ | 5/6 [00:02<00:00,  1.79it/s]"
          ]
        },
        {
          "output_type": "stream",
          "name": "stdout",
          "text": [
            "\r    sparsity=0.80: accuracy=89.33%"
          ]
        },
        {
          "output_type": "stream",
          "name": "stderr",
          "text": [
            "\n",
            "Evaluating:   0%|          | 0/28 [00:00<?, ?it/s]\u001b[A\n",
            "Evaluating: 100%|██████████| 28/28 [00:00<00:00, 145.23it/s]\n",
            "scanning 16/30 weight - bert.encoder.layer.2.attention.self.key.weight: 100%|██████████| 6/6 [00:03<00:00,  1.79it/s]\n"
          ]
        },
        {
          "output_type": "stream",
          "name": "stdout",
          "text": [
            "\r    sparsity=0.90: accuracy=87.84%\r    sparsity=[0.40,0.50,0.60,0.70,0.80,0.90]: accuracy=[89.11%, 89.33%, 89.45%, 89.22%, 89.33%, 87.84%]"
          ]
        },
        {
          "output_type": "stream",
          "name": "stderr",
          "text": [
            "scanning 17/30 weight - bert.encoder.layer.2.attention.self.value.weight:   0%|          | 0/6 [00:00<?, ?it/s]\n",
            "Evaluating:   0%|          | 0/28 [00:00<?, ?it/s]\u001b[A\n",
            "Evaluating: 100%|██████████| 28/28 [00:00<00:00, 143.89it/s]\n",
            "scanning 17/30 weight - bert.encoder.layer.2.attention.self.value.weight:  17%|█▋        | 1/6 [00:00<00:02,  1.78it/s]"
          ]
        },
        {
          "output_type": "stream",
          "name": "stdout",
          "text": [
            "\r    sparsity=0.40: accuracy=88.99%"
          ]
        },
        {
          "output_type": "stream",
          "name": "stderr",
          "text": [
            "\n",
            "Evaluating:   0%|          | 0/28 [00:00<?, ?it/s]\u001b[A\n",
            "Evaluating: 100%|██████████| 28/28 [00:00<00:00, 144.98it/s]\n",
            "scanning 17/30 weight - bert.encoder.layer.2.attention.self.value.weight:  33%|███▎      | 2/6 [00:01<00:02,  1.79it/s]"
          ]
        },
        {
          "output_type": "stream",
          "name": "stdout",
          "text": [
            "\r    sparsity=0.50: accuracy=89.11%"
          ]
        },
        {
          "output_type": "stream",
          "name": "stderr",
          "text": [
            "\n",
            "Evaluating:   0%|          | 0/28 [00:00<?, ?it/s]\u001b[A\n",
            "Evaluating: 100%|██████████| 28/28 [00:00<00:00, 144.75it/s]\n",
            "scanning 17/30 weight - bert.encoder.layer.2.attention.self.value.weight:  50%|█████     | 3/6 [00:01<00:01,  1.79it/s]"
          ]
        },
        {
          "output_type": "stream",
          "name": "stdout",
          "text": [
            "\r    sparsity=0.60: accuracy=89.22%"
          ]
        },
        {
          "output_type": "stream",
          "name": "stderr",
          "text": [
            "\n",
            "Evaluating:   0%|          | 0/28 [00:00<?, ?it/s]\u001b[A\n",
            "Evaluating: 100%|██████████| 28/28 [00:00<00:00, 144.70it/s]\n",
            "scanning 17/30 weight - bert.encoder.layer.2.attention.self.value.weight:  67%|██████▋   | 4/6 [00:02<00:01,  1.79it/s]"
          ]
        },
        {
          "output_type": "stream",
          "name": "stdout",
          "text": [
            "\r    sparsity=0.70: accuracy=88.76%"
          ]
        },
        {
          "output_type": "stream",
          "name": "stderr",
          "text": [
            "\n",
            "Evaluating:   0%|          | 0/28 [00:00<?, ?it/s]\u001b[A\n",
            "Evaluating: 100%|██████████| 28/28 [00:00<00:00, 144.25it/s]\n",
            "scanning 17/30 weight - bert.encoder.layer.2.attention.self.value.weight:  83%|████████▎ | 5/6 [00:02<00:00,  1.78it/s]"
          ]
        },
        {
          "output_type": "stream",
          "name": "stdout",
          "text": [
            "\r    sparsity=0.80: accuracy=89.68%"
          ]
        },
        {
          "output_type": "stream",
          "name": "stderr",
          "text": [
            "\n",
            "Evaluating:   0%|          | 0/28 [00:00<?, ?it/s]\u001b[A\n",
            "Evaluating: 100%|██████████| 28/28 [00:00<00:00, 140.62it/s]\n",
            "scanning 17/30 weight - bert.encoder.layer.2.attention.self.value.weight: 100%|██████████| 6/6 [00:03<00:00,  1.78it/s]\n"
          ]
        },
        {
          "output_type": "stream",
          "name": "stdout",
          "text": [
            "\r    sparsity=0.90: accuracy=88.65%\r    sparsity=[0.40,0.50,0.60,0.70,0.80,0.90]: accuracy=[88.99%, 89.11%, 89.22%, 88.76%, 89.68%, 88.65%]"
          ]
        },
        {
          "output_type": "stream",
          "name": "stderr",
          "text": [
            "scanning 18/30 weight - bert.encoder.layer.2.attention.output.dense.weight:   0%|          | 0/6 [00:00<?, ?it/s]\n",
            "Evaluating:   0%|          | 0/28 [00:00<?, ?it/s]\u001b[A\n",
            "Evaluating: 100%|██████████| 28/28 [00:00<00:00, 142.90it/s]\n",
            "scanning 18/30 weight - bert.encoder.layer.2.attention.output.dense.weight:  17%|█▋        | 1/6 [00:00<00:02,  1.76it/s]"
          ]
        },
        {
          "output_type": "stream",
          "name": "stdout",
          "text": [
            "\r    sparsity=0.40: accuracy=88.99%"
          ]
        },
        {
          "output_type": "stream",
          "name": "stderr",
          "text": [
            "\n",
            "Evaluating:   0%|          | 0/28 [00:00<?, ?it/s]\u001b[A\n",
            "Evaluating: 100%|██████████| 28/28 [00:00<00:00, 145.07it/s]\n",
            "scanning 18/30 weight - bert.encoder.layer.2.attention.output.dense.weight:  33%|███▎      | 2/6 [00:01<00:02,  1.77it/s]"
          ]
        },
        {
          "output_type": "stream",
          "name": "stdout",
          "text": [
            "\r    sparsity=0.50: accuracy=89.33%"
          ]
        },
        {
          "output_type": "stream",
          "name": "stderr",
          "text": [
            "\n",
            "Evaluating:   0%|          | 0/28 [00:00<?, ?it/s]\u001b[A\n",
            "Evaluating: 100%|██████████| 28/28 [00:00<00:00, 144.04it/s]\n",
            "scanning 18/30 weight - bert.encoder.layer.2.attention.output.dense.weight:  50%|█████     | 3/6 [00:01<00:01,  1.77it/s]"
          ]
        },
        {
          "output_type": "stream",
          "name": "stdout",
          "text": [
            "\r    sparsity=0.60: accuracy=89.22%"
          ]
        },
        {
          "output_type": "stream",
          "name": "stderr",
          "text": [
            "\n",
            "Evaluating:   0%|          | 0/28 [00:00<?, ?it/s]\u001b[A\n",
            "Evaluating: 100%|██████████| 28/28 [00:00<00:00, 144.39it/s]\n",
            "scanning 18/30 weight - bert.encoder.layer.2.attention.output.dense.weight:  67%|██████▋   | 4/6 [00:02<00:01,  1.78it/s]"
          ]
        },
        {
          "output_type": "stream",
          "name": "stdout",
          "text": [
            "\r    sparsity=0.70: accuracy=88.65%"
          ]
        },
        {
          "output_type": "stream",
          "name": "stderr",
          "text": [
            "\n",
            "Evaluating:   0%|          | 0/28 [00:00<?, ?it/s]\u001b[A\n",
            "Evaluating: 100%|██████████| 28/28 [00:00<00:00, 144.12it/s]\n",
            "scanning 18/30 weight - bert.encoder.layer.2.attention.output.dense.weight:  83%|████████▎ | 5/6 [00:02<00:00,  1.78it/s]"
          ]
        },
        {
          "output_type": "stream",
          "name": "stdout",
          "text": [
            "\r    sparsity=0.80: accuracy=88.76%"
          ]
        },
        {
          "output_type": "stream",
          "name": "stderr",
          "text": [
            "\n",
            "Evaluating:   0%|          | 0/28 [00:00<?, ?it/s]\u001b[A\n",
            "Evaluating: 100%|██████████| 28/28 [00:00<00:00, 145.71it/s]\n",
            "scanning 18/30 weight - bert.encoder.layer.2.attention.output.dense.weight: 100%|██████████| 6/6 [00:03<00:00,  1.78it/s]\n"
          ]
        },
        {
          "output_type": "stream",
          "name": "stdout",
          "text": [
            "\r    sparsity=0.90: accuracy=88.53%\r    sparsity=[0.40,0.50,0.60,0.70,0.80,0.90]: accuracy=[88.99%, 89.33%, 89.22%, 88.65%, 88.76%, 88.53%]"
          ]
        },
        {
          "output_type": "stream",
          "name": "stderr",
          "text": [
            "scanning 19/30 weight - bert.encoder.layer.2.intermediate.dense.weight:   0%|          | 0/6 [00:00<?, ?it/s]\n",
            "Evaluating:   0%|          | 0/28 [00:00<?, ?it/s]\u001b[A\n",
            "Evaluating: 100%|██████████| 28/28 [00:00<00:00, 145.86it/s]\n",
            "scanning 19/30 weight - bert.encoder.layer.2.intermediate.dense.weight:  17%|█▋        | 1/6 [00:00<00:02,  1.79it/s]"
          ]
        },
        {
          "output_type": "stream",
          "name": "stdout",
          "text": [
            "\r    sparsity=0.40: accuracy=89.11%"
          ]
        },
        {
          "output_type": "stream",
          "name": "stderr",
          "text": [
            "\n",
            "Evaluating:   0%|          | 0/28 [00:00<?, ?it/s]\u001b[A\n",
            "Evaluating: 100%|██████████| 28/28 [00:00<00:00, 143.76it/s]\n",
            "scanning 19/30 weight - bert.encoder.layer.2.intermediate.dense.weight:  33%|███▎      | 2/6 [00:01<00:02,  1.78it/s]"
          ]
        },
        {
          "output_type": "stream",
          "name": "stdout",
          "text": [
            "\r    sparsity=0.50: accuracy=88.99%"
          ]
        },
        {
          "output_type": "stream",
          "name": "stderr",
          "text": [
            "\n",
            "Evaluating:   0%|          | 0/28 [00:00<?, ?it/s]\u001b[A\n",
            "Evaluating: 100%|██████████| 28/28 [00:00<00:00, 144.58it/s]\n",
            "scanning 19/30 weight - bert.encoder.layer.2.intermediate.dense.weight:  50%|█████     | 3/6 [00:01<00:01,  1.78it/s]"
          ]
        },
        {
          "output_type": "stream",
          "name": "stdout",
          "text": [
            "\r    sparsity=0.60: accuracy=88.99%"
          ]
        },
        {
          "output_type": "stream",
          "name": "stderr",
          "text": [
            "\n",
            "Evaluating:   0%|          | 0/28 [00:00<?, ?it/s]\u001b[A\n",
            "Evaluating: 100%|██████████| 28/28 [00:00<00:00, 144.71it/s]\n",
            "scanning 19/30 weight - bert.encoder.layer.2.intermediate.dense.weight:  67%|██████▋   | 4/6 [00:02<00:01,  1.78it/s]"
          ]
        },
        {
          "output_type": "stream",
          "name": "stdout",
          "text": [
            "\r    sparsity=0.70: accuracy=89.22%"
          ]
        },
        {
          "output_type": "stream",
          "name": "stderr",
          "text": [
            "\n",
            "Evaluating:   0%|          | 0/28 [00:00<?, ?it/s]\u001b[A\n",
            "Evaluating: 100%|██████████| 28/28 [00:00<00:00, 144.41it/s]\n",
            "scanning 19/30 weight - bert.encoder.layer.2.intermediate.dense.weight:  83%|████████▎ | 5/6 [00:02<00:00,  1.78it/s]"
          ]
        },
        {
          "output_type": "stream",
          "name": "stdout",
          "text": [
            "\r    sparsity=0.80: accuracy=88.99%"
          ]
        },
        {
          "output_type": "stream",
          "name": "stderr",
          "text": [
            "\n",
            "Evaluating:   0%|          | 0/28 [00:00<?, ?it/s]\u001b[A\n",
            "Evaluating: 100%|██████████| 28/28 [00:00<00:00, 144.50it/s]\n",
            "scanning 19/30 weight - bert.encoder.layer.2.intermediate.dense.weight: 100%|██████████| 6/6 [00:03<00:00,  1.78it/s]\n"
          ]
        },
        {
          "output_type": "stream",
          "name": "stdout",
          "text": [
            "\r    sparsity=0.90: accuracy=89.33%\r    sparsity=[0.40,0.50,0.60,0.70,0.80,0.90]: accuracy=[89.11%, 88.99%, 88.99%, 89.22%, 88.99%, 89.33%]"
          ]
        },
        {
          "output_type": "stream",
          "name": "stderr",
          "text": [
            "scanning 20/30 weight - bert.encoder.layer.2.output.dense.weight:   0%|          | 0/6 [00:00<?, ?it/s]\n",
            "Evaluating:   0%|          | 0/28 [00:00<?, ?it/s]\u001b[A\n",
            "Evaluating: 100%|██████████| 28/28 [00:00<00:00, 143.86it/s]\n",
            "scanning 20/30 weight - bert.encoder.layer.2.output.dense.weight:  17%|█▋        | 1/6 [00:00<00:02,  1.80it/s]"
          ]
        },
        {
          "output_type": "stream",
          "name": "stdout",
          "text": [
            "\r    sparsity=0.40: accuracy=89.11%"
          ]
        },
        {
          "output_type": "stream",
          "name": "stderr",
          "text": [
            "\n",
            "Evaluating:   0%|          | 0/28 [00:00<?, ?it/s]\u001b[A\n",
            "Evaluating: 100%|██████████| 28/28 [00:00<00:00, 143.56it/s]\n",
            "scanning 20/30 weight - bert.encoder.layer.2.output.dense.weight:  33%|███▎      | 2/6 [00:01<00:02,  1.79it/s]"
          ]
        },
        {
          "output_type": "stream",
          "name": "stdout",
          "text": [
            "\r    sparsity=0.50: accuracy=89.11%"
          ]
        },
        {
          "output_type": "stream",
          "name": "stderr",
          "text": [
            "\n",
            "Evaluating:   0%|          | 0/28 [00:00<?, ?it/s]\u001b[A\n",
            "Evaluating: 100%|██████████| 28/28 [00:00<00:00, 142.54it/s]\n",
            "scanning 20/30 weight - bert.encoder.layer.2.output.dense.weight:  50%|█████     | 3/6 [00:01<00:01,  1.78it/s]"
          ]
        },
        {
          "output_type": "stream",
          "name": "stdout",
          "text": [
            "\r    sparsity=0.60: accuracy=89.45%"
          ]
        },
        {
          "output_type": "stream",
          "name": "stderr",
          "text": [
            "\n",
            "Evaluating:   0%|          | 0/28 [00:00<?, ?it/s]\u001b[A\n",
            "Evaluating: 100%|██████████| 28/28 [00:00<00:00, 145.40it/s]\n",
            "scanning 20/30 weight - bert.encoder.layer.2.output.dense.weight:  67%|██████▋   | 4/6 [00:02<00:01,  1.78it/s]"
          ]
        },
        {
          "output_type": "stream",
          "name": "stdout",
          "text": [
            "\r    sparsity=0.70: accuracy=89.56%"
          ]
        },
        {
          "output_type": "stream",
          "name": "stderr",
          "text": [
            "\n",
            "Evaluating:   0%|          | 0/28 [00:00<?, ?it/s]\u001b[A\n",
            "Evaluating: 100%|██████████| 28/28 [00:00<00:00, 145.18it/s]\n",
            "scanning 20/30 weight - bert.encoder.layer.2.output.dense.weight:  83%|████████▎ | 5/6 [00:02<00:00,  1.78it/s]"
          ]
        },
        {
          "output_type": "stream",
          "name": "stdout",
          "text": [
            "\r    sparsity=0.80: accuracy=89.56%"
          ]
        },
        {
          "output_type": "stream",
          "name": "stderr",
          "text": [
            "\n",
            "Evaluating:   0%|          | 0/28 [00:00<?, ?it/s]\u001b[A\n",
            "Evaluating: 100%|██████████| 28/28 [00:00<00:00, 136.34it/s]\n",
            "scanning 20/30 weight - bert.encoder.layer.2.output.dense.weight: 100%|██████████| 6/6 [00:03<00:00,  1.77it/s]\n"
          ]
        },
        {
          "output_type": "stream",
          "name": "stdout",
          "text": [
            "\r    sparsity=0.90: accuracy=89.45%\r    sparsity=[0.40,0.50,0.60,0.70,0.80,0.90]: accuracy=[89.11%, 89.11%, 89.45%, 89.56%, 89.56%, 89.45%]"
          ]
        },
        {
          "output_type": "stream",
          "name": "stderr",
          "text": [
            "scanning 21/30 weight - bert.encoder.layer.3.attention.self.query.weight:   0%|          | 0/6 [00:00<?, ?it/s]\n",
            "Evaluating:   0%|          | 0/28 [00:00<?, ?it/s]\u001b[A\n",
            "Evaluating:  50%|█████     | 14/28 [00:00<00:00, 137.55it/s]\u001b[A\n",
            "Evaluating: 100%|██████████| 28/28 [00:00<00:00, 134.97it/s]\n",
            "scanning 21/30 weight - bert.encoder.layer.3.attention.self.query.weight:  17%|█▋        | 1/6 [00:00<00:03,  1.64it/s]"
          ]
        },
        {
          "output_type": "stream",
          "name": "stdout",
          "text": [
            "\r    sparsity=0.40: accuracy=89.22%"
          ]
        },
        {
          "output_type": "stream",
          "name": "stderr",
          "text": [
            "\n",
            "Evaluating:   0%|          | 0/28 [00:00<?, ?it/s]\u001b[A\n",
            "Evaluating: 100%|██████████| 28/28 [00:00<00:00, 137.06it/s]\n",
            "scanning 21/30 weight - bert.encoder.layer.3.attention.self.query.weight:  33%|███▎      | 2/6 [00:01<00:02,  1.67it/s]"
          ]
        },
        {
          "output_type": "stream",
          "name": "stdout",
          "text": [
            "\r    sparsity=0.50: accuracy=89.22%"
          ]
        },
        {
          "output_type": "stream",
          "name": "stderr",
          "text": [
            "\n",
            "Evaluating:   0%|          | 0/28 [00:00<?, ?it/s]\u001b[A\n",
            "Evaluating: 100%|██████████| 28/28 [00:00<00:00, 145.80it/s]\n",
            "scanning 21/30 weight - bert.encoder.layer.3.attention.self.query.weight:  50%|█████     | 3/6 [00:01<00:01,  1.71it/s]"
          ]
        },
        {
          "output_type": "stream",
          "name": "stdout",
          "text": [
            "\r    sparsity=0.60: accuracy=89.22%"
          ]
        },
        {
          "output_type": "stream",
          "name": "stderr",
          "text": [
            "\n",
            "Evaluating:   0%|          | 0/28 [00:00<?, ?it/s]\u001b[A\n",
            "Evaluating: 100%|██████████| 28/28 [00:00<00:00, 142.46it/s]\n",
            "scanning 21/30 weight - bert.encoder.layer.3.attention.self.query.weight:  67%|██████▋   | 4/6 [00:02<00:01,  1.71it/s]"
          ]
        },
        {
          "output_type": "stream",
          "name": "stdout",
          "text": [
            "\r    sparsity=0.70: accuracy=89.45%"
          ]
        },
        {
          "output_type": "stream",
          "name": "stderr",
          "text": [
            "\n",
            "Evaluating:   0%|          | 0/28 [00:00<?, ?it/s]\u001b[A\n",
            "Evaluating: 100%|██████████| 28/28 [00:00<00:00, 141.02it/s]\n",
            "scanning 21/30 weight - bert.encoder.layer.3.attention.self.query.weight:  83%|████████▎ | 5/6 [00:03<00:00,  1.60it/s]"
          ]
        },
        {
          "output_type": "stream",
          "name": "stdout",
          "text": [
            "\r    sparsity=0.80: accuracy=89.45%"
          ]
        },
        {
          "output_type": "stream",
          "name": "stderr",
          "text": [
            "\n",
            "Evaluating:   0%|          | 0/28 [00:00<?, ?it/s]\u001b[A\n",
            "Evaluating: 100%|██████████| 28/28 [00:00<00:00, 142.27it/s]\n",
            "scanning 21/30 weight - bert.encoder.layer.3.attention.self.query.weight: 100%|██████████| 6/6 [00:03<00:00,  1.66it/s]\n"
          ]
        },
        {
          "output_type": "stream",
          "name": "stdout",
          "text": [
            "\r    sparsity=0.90: accuracy=89.33%\r    sparsity=[0.40,0.50,0.60,0.70,0.80,0.90]: accuracy=[89.22%, 89.22%, 89.22%, 89.45%, 89.45%, 89.33%]"
          ]
        },
        {
          "output_type": "stream",
          "name": "stderr",
          "text": [
            "scanning 22/30 weight - bert.encoder.layer.3.attention.self.key.weight:   0%|          | 0/6 [00:00<?, ?it/s]\n",
            "Evaluating:   0%|          | 0/28 [00:00<?, ?it/s]\u001b[A\n",
            "Evaluating: 100%|██████████| 28/28 [00:00<00:00, 142.98it/s]\n",
            "scanning 22/30 weight - bert.encoder.layer.3.attention.self.key.weight:  17%|█▋        | 1/6 [00:00<00:02,  1.73it/s]"
          ]
        },
        {
          "output_type": "stream",
          "name": "stdout",
          "text": [
            "\r    sparsity=0.40: accuracy=89.22%"
          ]
        },
        {
          "output_type": "stream",
          "name": "stderr",
          "text": [
            "\n",
            "Evaluating:   0%|          | 0/28 [00:00<?, ?it/s]\u001b[A\n",
            "Evaluating: 100%|██████████| 28/28 [00:00<00:00, 144.55it/s]\n",
            "scanning 22/30 weight - bert.encoder.layer.3.attention.self.key.weight:  33%|███▎      | 2/6 [00:01<00:02,  1.75it/s]"
          ]
        },
        {
          "output_type": "stream",
          "name": "stdout",
          "text": [
            "\r    sparsity=0.50: accuracy=89.22%"
          ]
        },
        {
          "output_type": "stream",
          "name": "stderr",
          "text": [
            "\n",
            "Evaluating:   0%|          | 0/28 [00:00<?, ?it/s]\u001b[A\n",
            "Evaluating: 100%|██████████| 28/28 [00:00<00:00, 143.84it/s]\n",
            "scanning 22/30 weight - bert.encoder.layer.3.attention.self.key.weight:  50%|█████     | 3/6 [00:01<00:01,  1.75it/s]"
          ]
        },
        {
          "output_type": "stream",
          "name": "stdout",
          "text": [
            "\r    sparsity=0.60: accuracy=89.45%"
          ]
        },
        {
          "output_type": "stream",
          "name": "stderr",
          "text": [
            "\n",
            "Evaluating:   0%|          | 0/28 [00:00<?, ?it/s]\u001b[A\n",
            "Evaluating: 100%|██████████| 28/28 [00:00<00:00, 143.71it/s]\n",
            "scanning 22/30 weight - bert.encoder.layer.3.attention.self.key.weight:  67%|██████▋   | 4/6 [00:02<00:01,  1.76it/s]"
          ]
        },
        {
          "output_type": "stream",
          "name": "stdout",
          "text": [
            "\r    sparsity=0.70: accuracy=89.33%"
          ]
        },
        {
          "output_type": "stream",
          "name": "stderr",
          "text": [
            "\n",
            "Evaluating:   0%|          | 0/28 [00:00<?, ?it/s]\u001b[A\n",
            "Evaluating: 100%|██████████| 28/28 [00:00<00:00, 143.40it/s]\n",
            "scanning 22/30 weight - bert.encoder.layer.3.attention.self.key.weight:  83%|████████▎ | 5/6 [00:02<00:00,  1.76it/s]"
          ]
        },
        {
          "output_type": "stream",
          "name": "stdout",
          "text": [
            "\r    sparsity=0.80: accuracy=89.45%"
          ]
        },
        {
          "output_type": "stream",
          "name": "stderr",
          "text": [
            "\n",
            "Evaluating:   0%|          | 0/28 [00:00<?, ?it/s]\u001b[A\n",
            "Evaluating: 100%|██████████| 28/28 [00:00<00:00, 143.44it/s]\n",
            "scanning 22/30 weight - bert.encoder.layer.3.attention.self.key.weight: 100%|██████████| 6/6 [00:03<00:00,  1.75it/s]\n"
          ]
        },
        {
          "output_type": "stream",
          "name": "stdout",
          "text": [
            "\r    sparsity=0.90: accuracy=89.91%\r    sparsity=[0.40,0.50,0.60,0.70,0.80,0.90]: accuracy=[89.22%, 89.22%, 89.45%, 89.33%, 89.45%, 89.91%]"
          ]
        },
        {
          "output_type": "stream",
          "name": "stderr",
          "text": [
            "scanning 23/30 weight - bert.encoder.layer.3.attention.self.value.weight:   0%|          | 0/6 [00:00<?, ?it/s]\n",
            "Evaluating:   0%|          | 0/28 [00:00<?, ?it/s]\u001b[A\n",
            "Evaluating: 100%|██████████| 28/28 [00:00<00:00, 142.99it/s]\n",
            "scanning 23/30 weight - bert.encoder.layer.3.attention.self.value.weight:  17%|█▋        | 1/6 [00:00<00:02,  1.75it/s]"
          ]
        },
        {
          "output_type": "stream",
          "name": "stdout",
          "text": [
            "\r    sparsity=0.40: accuracy=89.11%"
          ]
        },
        {
          "output_type": "stream",
          "name": "stderr",
          "text": [
            "\n",
            "Evaluating:   0%|          | 0/28 [00:00<?, ?it/s]\u001b[A\n",
            "Evaluating:  46%|████▋     | 13/28 [00:00<00:00, 120.86it/s]\u001b[A\n",
            "Evaluating: 100%|██████████| 28/28 [00:00<00:00, 123.47it/s]\n",
            "scanning 23/30 weight - bert.encoder.layer.3.attention.self.value.weight:  33%|███▎      | 2/6 [00:01<00:02,  1.67it/s]"
          ]
        },
        {
          "output_type": "stream",
          "name": "stdout",
          "text": [
            "\r    sparsity=0.50: accuracy=89.11%"
          ]
        },
        {
          "output_type": "stream",
          "name": "stderr",
          "text": [
            "\n",
            "Evaluating:   0%|          | 0/28 [00:00<?, ?it/s]\u001b[A\n",
            "Evaluating: 100%|██████████| 28/28 [00:00<00:00, 145.64it/s]\n",
            "scanning 23/30 weight - bert.encoder.layer.3.attention.self.value.weight:  50%|█████     | 3/6 [00:01<00:01,  1.72it/s]"
          ]
        },
        {
          "output_type": "stream",
          "name": "stdout",
          "text": [
            "\r    sparsity=0.60: accuracy=88.99%"
          ]
        },
        {
          "output_type": "stream",
          "name": "stderr",
          "text": [
            "\n",
            "Evaluating:   0%|          | 0/28 [00:00<?, ?it/s]\u001b[A\n",
            "Evaluating: 100%|██████████| 28/28 [00:00<00:00, 145.10it/s]\n",
            "scanning 23/30 weight - bert.encoder.layer.3.attention.self.value.weight:  67%|██████▋   | 4/6 [00:02<00:01,  1.73it/s]"
          ]
        },
        {
          "output_type": "stream",
          "name": "stdout",
          "text": [
            "\r    sparsity=0.70: accuracy=88.88%"
          ]
        },
        {
          "output_type": "stream",
          "name": "stderr",
          "text": [
            "\n",
            "Evaluating:   0%|          | 0/28 [00:00<?, ?it/s]\u001b[A\n",
            "Evaluating: 100%|██████████| 28/28 [00:00<00:00, 144.49it/s]\n",
            "scanning 23/30 weight - bert.encoder.layer.3.attention.self.value.weight:  83%|████████▎ | 5/6 [00:02<00:00,  1.75it/s]"
          ]
        },
        {
          "output_type": "stream",
          "name": "stdout",
          "text": [
            "\r    sparsity=0.80: accuracy=88.99%"
          ]
        },
        {
          "output_type": "stream",
          "name": "stderr",
          "text": [
            "\n",
            "Evaluating:   0%|          | 0/28 [00:00<?, ?it/s]\u001b[A\n",
            "Evaluating: 100%|██████████| 28/28 [00:00<00:00, 143.26it/s]\n",
            "scanning 23/30 weight - bert.encoder.layer.3.attention.self.value.weight: 100%|██████████| 6/6 [00:03<00:00,  1.73it/s]\n"
          ]
        },
        {
          "output_type": "stream",
          "name": "stdout",
          "text": [
            "\r    sparsity=0.90: accuracy=89.22%\r    sparsity=[0.40,0.50,0.60,0.70,0.80,0.90]: accuracy=[89.11%, 89.11%, 88.99%, 88.88%, 88.99%, 89.22%]"
          ]
        },
        {
          "output_type": "stream",
          "name": "stderr",
          "text": [
            "scanning 24/30 weight - bert.encoder.layer.3.attention.output.dense.weight:   0%|          | 0/6 [00:00<?, ?it/s]\n",
            "Evaluating:   0%|          | 0/28 [00:00<?, ?it/s]\u001b[A\n",
            "Evaluating: 100%|██████████| 28/28 [00:00<00:00, 143.91it/s]\n",
            "scanning 24/30 weight - bert.encoder.layer.3.attention.output.dense.weight:  17%|█▋        | 1/6 [00:00<00:02,  1.78it/s]"
          ]
        },
        {
          "output_type": "stream",
          "name": "stdout",
          "text": [
            "\r    sparsity=0.40: accuracy=89.33%"
          ]
        },
        {
          "output_type": "stream",
          "name": "stderr",
          "text": [
            "\n",
            "Evaluating:   0%|          | 0/28 [00:00<?, ?it/s]\u001b[A\n",
            "Evaluating: 100%|██████████| 28/28 [00:00<00:00, 142.99it/s]\n",
            "scanning 24/30 weight - bert.encoder.layer.3.attention.output.dense.weight:  33%|███▎      | 2/6 [00:01<00:02,  1.78it/s]"
          ]
        },
        {
          "output_type": "stream",
          "name": "stdout",
          "text": [
            "\r    sparsity=0.50: accuracy=89.22%"
          ]
        },
        {
          "output_type": "stream",
          "name": "stderr",
          "text": [
            "\n",
            "Evaluating:   0%|          | 0/28 [00:00<?, ?it/s]\u001b[A\n",
            "Evaluating: 100%|██████████| 28/28 [00:00<00:00, 145.12it/s]\n",
            "scanning 24/30 weight - bert.encoder.layer.3.attention.output.dense.weight:  50%|█████     | 3/6 [00:01<00:01,  1.79it/s]"
          ]
        },
        {
          "output_type": "stream",
          "name": "stdout",
          "text": [
            "\r    sparsity=0.60: accuracy=89.22%"
          ]
        },
        {
          "output_type": "stream",
          "name": "stderr",
          "text": [
            "\n",
            "Evaluating:   0%|          | 0/28 [00:00<?, ?it/s]\u001b[A\n",
            "Evaluating: 100%|██████████| 28/28 [00:00<00:00, 144.50it/s]\n",
            "scanning 24/30 weight - bert.encoder.layer.3.attention.output.dense.weight:  67%|██████▋   | 4/6 [00:02<00:01,  1.77it/s]"
          ]
        },
        {
          "output_type": "stream",
          "name": "stdout",
          "text": [
            "\r    sparsity=0.70: accuracy=89.11%"
          ]
        },
        {
          "output_type": "stream",
          "name": "stderr",
          "text": [
            "\n",
            "Evaluating:   0%|          | 0/28 [00:00<?, ?it/s]\u001b[A\n",
            "Evaluating: 100%|██████████| 28/28 [00:00<00:00, 143.20it/s]\n",
            "scanning 24/30 weight - bert.encoder.layer.3.attention.output.dense.weight:  83%|████████▎ | 5/6 [00:02<00:00,  1.76it/s]"
          ]
        },
        {
          "output_type": "stream",
          "name": "stdout",
          "text": [
            "\r    sparsity=0.80: accuracy=89.11%"
          ]
        },
        {
          "output_type": "stream",
          "name": "stderr",
          "text": [
            "\n",
            "Evaluating:   0%|          | 0/28 [00:00<?, ?it/s]\u001b[A\n",
            "Evaluating: 100%|██████████| 28/28 [00:00<00:00, 144.29it/s]\n",
            "scanning 24/30 weight - bert.encoder.layer.3.attention.output.dense.weight: 100%|██████████| 6/6 [00:03<00:00,  1.77it/s]\n"
          ]
        },
        {
          "output_type": "stream",
          "name": "stdout",
          "text": [
            "\r    sparsity=0.90: accuracy=88.99%\r    sparsity=[0.40,0.50,0.60,0.70,0.80,0.90]: accuracy=[89.33%, 89.22%, 89.22%, 89.11%, 89.11%, 88.99%]"
          ]
        },
        {
          "output_type": "stream",
          "name": "stderr",
          "text": [
            "scanning 25/30 weight - bert.encoder.layer.3.intermediate.dense.weight:   0%|          | 0/6 [00:00<?, ?it/s]\n",
            "Evaluating:   0%|          | 0/28 [00:00<?, ?it/s]\u001b[A\n",
            "Evaluating: 100%|██████████| 28/28 [00:00<00:00, 143.78it/s]\n",
            "scanning 25/30 weight - bert.encoder.layer.3.intermediate.dense.weight:  17%|█▋        | 1/6 [00:00<00:02,  1.74it/s]"
          ]
        },
        {
          "output_type": "stream",
          "name": "stdout",
          "text": [
            "\r    sparsity=0.40: accuracy=89.11%"
          ]
        },
        {
          "output_type": "stream",
          "name": "stderr",
          "text": [
            "\n",
            "Evaluating:   0%|          | 0/28 [00:00<?, ?it/s]\u001b[A\n",
            "Evaluating: 100%|██████████| 28/28 [00:00<00:00, 144.03it/s]\n",
            "scanning 25/30 weight - bert.encoder.layer.3.intermediate.dense.weight:  33%|███▎      | 2/6 [00:01<00:02,  1.72it/s]"
          ]
        },
        {
          "output_type": "stream",
          "name": "stdout",
          "text": [
            "\r    sparsity=0.50: accuracy=89.33%"
          ]
        },
        {
          "output_type": "stream",
          "name": "stderr",
          "text": [
            "\n",
            "Evaluating:   0%|          | 0/28 [00:00<?, ?it/s]\u001b[A\n",
            "Evaluating: 100%|██████████| 28/28 [00:00<00:00, 136.36it/s]\n",
            "scanning 25/30 weight - bert.encoder.layer.3.intermediate.dense.weight:  50%|█████     | 3/6 [00:01<00:01,  1.71it/s]"
          ]
        },
        {
          "output_type": "stream",
          "name": "stdout",
          "text": [
            "\r    sparsity=0.60: accuracy=89.45%"
          ]
        },
        {
          "output_type": "stream",
          "name": "stderr",
          "text": [
            "\n",
            "Evaluating:   0%|          | 0/28 [00:00<?, ?it/s]\u001b[A\n",
            "Evaluating: 100%|██████████| 28/28 [00:00<00:00, 142.73it/s]\n",
            "scanning 25/30 weight - bert.encoder.layer.3.intermediate.dense.weight:  67%|██████▋   | 4/6 [00:02<00:01,  1.72it/s]"
          ]
        },
        {
          "output_type": "stream",
          "name": "stdout",
          "text": [
            "\r    sparsity=0.70: accuracy=89.33%"
          ]
        },
        {
          "output_type": "stream",
          "name": "stderr",
          "text": [
            "\n",
            "Evaluating:   0%|          | 0/28 [00:00<?, ?it/s]\u001b[A\n",
            "Evaluating: 100%|██████████| 28/28 [00:00<00:00, 141.90it/s]\n",
            "scanning 25/30 weight - bert.encoder.layer.3.intermediate.dense.weight:  83%|████████▎ | 5/6 [00:02<00:00,  1.71it/s]"
          ]
        },
        {
          "output_type": "stream",
          "name": "stdout",
          "text": [
            "\r    sparsity=0.80: accuracy=89.33%"
          ]
        },
        {
          "output_type": "stream",
          "name": "stderr",
          "text": [
            "\n",
            "Evaluating:   0%|          | 0/28 [00:00<?, ?it/s]\u001b[A\n",
            "Evaluating: 100%|██████████| 28/28 [00:00<00:00, 143.07it/s]\n",
            "scanning 25/30 weight - bert.encoder.layer.3.intermediate.dense.weight: 100%|██████████| 6/6 [00:03<00:00,  1.72it/s]\n"
          ]
        },
        {
          "output_type": "stream",
          "name": "stdout",
          "text": [
            "\r    sparsity=0.90: accuracy=89.22%\r    sparsity=[0.40,0.50,0.60,0.70,0.80,0.90]: accuracy=[89.11%, 89.33%, 89.45%, 89.33%, 89.33%, 89.22%]"
          ]
        },
        {
          "output_type": "stream",
          "name": "stderr",
          "text": [
            "scanning 26/30 weight - bert.encoder.layer.3.output.dense.weight:   0%|          | 0/6 [00:00<?, ?it/s]\n",
            "Evaluating:   0%|          | 0/28 [00:00<?, ?it/s]\u001b[A\n",
            "Evaluating: 100%|██████████| 28/28 [00:00<00:00, 144.54it/s]\n",
            "scanning 26/30 weight - bert.encoder.layer.3.output.dense.weight:  17%|█▋        | 1/6 [00:01<00:05,  1.06s/it]"
          ]
        },
        {
          "output_type": "stream",
          "name": "stdout",
          "text": [
            "\r    sparsity=0.40: accuracy=89.22%"
          ]
        },
        {
          "output_type": "stream",
          "name": "stderr",
          "text": [
            "\n",
            "Evaluating:   0%|          | 0/28 [00:00<?, ?it/s]\u001b[A\n",
            "Evaluating: 100%|██████████| 28/28 [00:00<00:00, 143.43it/s]\n",
            "scanning 26/30 weight - bert.encoder.layer.3.output.dense.weight:  33%|███▎      | 2/6 [00:01<00:03,  1.30it/s]"
          ]
        },
        {
          "output_type": "stream",
          "name": "stdout",
          "text": [
            "\r    sparsity=0.50: accuracy=89.33%"
          ]
        },
        {
          "output_type": "stream",
          "name": "stderr",
          "text": [
            "\n",
            "Evaluating:   0%|          | 0/28 [00:00<?, ?it/s]\u001b[A\n",
            "Evaluating: 100%|██████████| 28/28 [00:00<00:00, 143.19it/s]\n",
            "scanning 26/30 weight - bert.encoder.layer.3.output.dense.weight:  50%|█████     | 3/6 [00:02<00:02,  1.48it/s]"
          ]
        },
        {
          "output_type": "stream",
          "name": "stdout",
          "text": [
            "\r    sparsity=0.60: accuracy=89.22%"
          ]
        },
        {
          "output_type": "stream",
          "name": "stderr",
          "text": [
            "\n",
            "Evaluating:   0%|          | 0/28 [00:00<?, ?it/s]\u001b[A\n",
            "Evaluating: 100%|██████████| 28/28 [00:00<00:00, 144.69it/s]\n",
            "scanning 26/30 weight - bert.encoder.layer.3.output.dense.weight:  67%|██████▋   | 4/6 [00:02<00:01,  1.58it/s]"
          ]
        },
        {
          "output_type": "stream",
          "name": "stdout",
          "text": [
            "\r    sparsity=0.70: accuracy=89.11%"
          ]
        },
        {
          "output_type": "stream",
          "name": "stderr",
          "text": [
            "\n",
            "Evaluating:   0%|          | 0/28 [00:00<?, ?it/s]\u001b[A\n",
            "Evaluating: 100%|██████████| 28/28 [00:00<00:00, 144.35it/s]\n",
            "scanning 26/30 weight - bert.encoder.layer.3.output.dense.weight:  83%|████████▎ | 5/6 [00:03<00:00,  1.65it/s]"
          ]
        },
        {
          "output_type": "stream",
          "name": "stdout",
          "text": [
            "\r    sparsity=0.80: accuracy=89.11%"
          ]
        },
        {
          "output_type": "stream",
          "name": "stderr",
          "text": [
            "\n",
            "Evaluating:   0%|          | 0/28 [00:00<?, ?it/s]\u001b[A\n",
            "Evaluating: 100%|██████████| 28/28 [00:00<00:00, 142.76it/s]\n",
            "scanning 26/30 weight - bert.encoder.layer.3.output.dense.weight: 100%|██████████| 6/6 [00:03<00:00,  1.55it/s]\n"
          ]
        },
        {
          "output_type": "stream",
          "name": "stdout",
          "text": [
            "\r    sparsity=0.90: accuracy=89.33%\r    sparsity=[0.40,0.50,0.60,0.70,0.80,0.90]: accuracy=[89.22%, 89.33%, 89.22%, 89.11%, 89.11%, 89.33%]"
          ]
        },
        {
          "output_type": "stream",
          "name": "stderr",
          "text": [
            "scanning 27/30 weight - bert.pooler.dense.weight:   0%|          | 0/6 [00:00<?, ?it/s]\n",
            "Evaluating:   0%|          | 0/28 [00:00<?, ?it/s]\u001b[A\n",
            "Evaluating: 100%|██████████| 28/28 [00:00<00:00, 144.75it/s]\n",
            "scanning 27/30 weight - bert.pooler.dense.weight:  17%|█▋        | 1/6 [00:00<00:02,  1.79it/s]"
          ]
        },
        {
          "output_type": "stream",
          "name": "stdout",
          "text": [
            "\r    sparsity=0.40: accuracy=89.22%"
          ]
        },
        {
          "output_type": "stream",
          "name": "stderr",
          "text": [
            "\n",
            "Evaluating:   0%|          | 0/28 [00:00<?, ?it/s]\u001b[A\n",
            "Evaluating: 100%|██████████| 28/28 [00:00<00:00, 144.63it/s]\n",
            "scanning 27/30 weight - bert.pooler.dense.weight:  33%|███▎      | 2/6 [00:01<00:02,  1.77it/s]"
          ]
        },
        {
          "output_type": "stream",
          "name": "stdout",
          "text": [
            "\r    sparsity=0.50: accuracy=89.22%"
          ]
        },
        {
          "output_type": "stream",
          "name": "stderr",
          "text": [
            "\n",
            "Evaluating:   0%|          | 0/28 [00:00<?, ?it/s]\u001b[A\n",
            "Evaluating: 100%|██████████| 28/28 [00:00<00:00, 142.96it/s]\n",
            "scanning 27/30 weight - bert.pooler.dense.weight:  50%|█████     | 3/6 [00:01<00:01,  1.77it/s]"
          ]
        },
        {
          "output_type": "stream",
          "name": "stdout",
          "text": [
            "\r    sparsity=0.60: accuracy=88.99%"
          ]
        },
        {
          "output_type": "stream",
          "name": "stderr",
          "text": [
            "\n",
            "Evaluating:   0%|          | 0/28 [00:00<?, ?it/s]\u001b[A\n",
            "Evaluating: 100%|██████████| 28/28 [00:00<00:00, 143.23it/s]\n",
            "scanning 27/30 weight - bert.pooler.dense.weight:  67%|██████▋   | 4/6 [00:02<00:01,  1.77it/s]"
          ]
        },
        {
          "output_type": "stream",
          "name": "stdout",
          "text": [
            "\r    sparsity=0.70: accuracy=89.22%"
          ]
        },
        {
          "output_type": "stream",
          "name": "stderr",
          "text": [
            "\n",
            "Evaluating:   0%|          | 0/28 [00:00<?, ?it/s]\u001b[A\n",
            "Evaluating: 100%|██████████| 28/28 [00:00<00:00, 139.46it/s]\n",
            "scanning 27/30 weight - bert.pooler.dense.weight:  83%|████████▎ | 5/6 [00:02<00:00,  1.77it/s]"
          ]
        },
        {
          "output_type": "stream",
          "name": "stdout",
          "text": [
            "\r    sparsity=0.80: accuracy=89.22%"
          ]
        },
        {
          "output_type": "stream",
          "name": "stderr",
          "text": [
            "\n",
            "Evaluating:   0%|          | 0/28 [00:00<?, ?it/s]\u001b[A\n",
            "Evaluating: 100%|██████████| 28/28 [00:00<00:00, 136.08it/s]\n",
            "scanning 27/30 weight - bert.pooler.dense.weight: 100%|██████████| 6/6 [00:03<00:00,  1.77it/s]\n"
          ]
        },
        {
          "output_type": "stream",
          "name": "stdout",
          "text": [
            "\r    sparsity=0.90: accuracy=89.22%\r    sparsity=[0.40,0.50,0.60,0.70,0.80,0.90]: accuracy=[89.22%, 89.22%, 88.99%, 89.22%, 89.22%, 89.22%]"
          ]
        },
        {
          "output_type": "stream",
          "name": "stderr",
          "text": [
            "scanning 28/30 weight - classifier.weight:   0%|          | 0/6 [00:00<?, ?it/s]\n",
            "Evaluating:   0%|          | 0/28 [00:00<?, ?it/s]\u001b[A\n",
            "Evaluating:  46%|████▋     | 13/28 [00:00<00:00, 125.86it/s]\u001b[A\n",
            "Evaluating: 100%|██████████| 28/28 [00:00<00:00, 133.22it/s]\n",
            "scanning 28/30 weight - classifier.weight:  17%|█▋        | 1/6 [00:00<00:02,  1.72it/s]"
          ]
        },
        {
          "output_type": "stream",
          "name": "stdout",
          "text": [
            "\r    sparsity=0.40: accuracy=89.22%"
          ]
        },
        {
          "output_type": "stream",
          "name": "stderr",
          "text": [
            "\n",
            "Evaluating:   0%|          | 0/28 [00:00<?, ?it/s]\u001b[A\n",
            "Evaluating:  46%|████▋     | 13/28 [00:00<00:00, 125.46it/s]\u001b[A\n",
            "Evaluating: 100%|██████████| 28/28 [00:00<00:00, 133.67it/s]\n",
            "scanning 28/30 weight - classifier.weight:  33%|███▎      | 2/6 [00:01<00:02,  1.72it/s]"
          ]
        },
        {
          "output_type": "stream",
          "name": "stdout",
          "text": [
            "\r    sparsity=0.50: accuracy=89.11%"
          ]
        },
        {
          "output_type": "stream",
          "name": "stderr",
          "text": [
            "\n",
            "Evaluating:   0%|          | 0/28 [00:00<?, ?it/s]\u001b[A\n",
            "Evaluating: 100%|██████████| 28/28 [00:00<00:00, 142.71it/s]\n",
            "scanning 28/30 weight - classifier.weight:  50%|█████     | 3/6 [00:01<00:01,  1.73it/s]"
          ]
        },
        {
          "output_type": "stream",
          "name": "stdout",
          "text": [
            "\r    sparsity=0.60: accuracy=89.56%"
          ]
        },
        {
          "output_type": "stream",
          "name": "stderr",
          "text": [
            "\n",
            "Evaluating:   0%|          | 0/28 [00:00<?, ?it/s]\u001b[A\n",
            "Evaluating: 100%|██████████| 28/28 [00:00<00:00, 143.31it/s]\n",
            "scanning 28/30 weight - classifier.weight:  67%|██████▋   | 4/6 [00:02<00:01,  1.75it/s]"
          ]
        },
        {
          "output_type": "stream",
          "name": "stdout",
          "text": [
            "\r    sparsity=0.70: accuracy=89.22%"
          ]
        },
        {
          "output_type": "stream",
          "name": "stderr",
          "text": [
            "\n",
            "Evaluating:   0%|          | 0/28 [00:00<?, ?it/s]\u001b[A\n",
            "Evaluating: 100%|██████████| 28/28 [00:00<00:00, 140.74it/s]\n",
            "scanning 28/30 weight - classifier.weight:  83%|████████▎ | 5/6 [00:02<00:00,  1.75it/s]"
          ]
        },
        {
          "output_type": "stream",
          "name": "stdout",
          "text": [
            "\r    sparsity=0.80: accuracy=89.45%"
          ]
        },
        {
          "output_type": "stream",
          "name": "stderr",
          "text": [
            "\n",
            "Evaluating:   0%|          | 0/28 [00:00<?, ?it/s]\u001b[A\n",
            "Evaluating: 100%|██████████| 28/28 [00:00<00:00, 141.58it/s]\n",
            "scanning 28/30 weight - classifier.weight: 100%|██████████| 6/6 [00:03<00:00,  1.73it/s]\n"
          ]
        },
        {
          "output_type": "stream",
          "name": "stdout",
          "text": [
            "\r    sparsity=0.90: accuracy=89.33%\r    sparsity=[0.40,0.50,0.60,0.70,0.80,0.90]: accuracy=[89.22%, 89.11%, 89.56%, 89.22%, 89.45%, 89.33%]"
          ]
        },
        {
          "output_type": "stream",
          "name": "stderr",
          "text": [
            "scanning 29/30 weight - fit_dense.weight:   0%|          | 0/6 [00:00<?, ?it/s]\n",
            "Evaluating:   0%|          | 0/28 [00:00<?, ?it/s]\u001b[A\n",
            "Evaluating:  50%|█████     | 14/28 [00:00<00:00, 135.02it/s]\u001b[A\n",
            "Evaluating: 100%|██████████| 28/28 [00:00<00:00, 133.11it/s]\n",
            "scanning 29/30 weight - fit_dense.weight:  17%|█▋        | 1/6 [00:00<00:02,  1.70it/s]"
          ]
        },
        {
          "output_type": "stream",
          "name": "stdout",
          "text": [
            "\r    sparsity=0.40: accuracy=89.22%"
          ]
        },
        {
          "output_type": "stream",
          "name": "stderr",
          "text": [
            "\n",
            "Evaluating:   0%|          | 0/28 [00:00<?, ?it/s]\u001b[A\n",
            "Evaluating: 100%|██████████| 28/28 [00:00<00:00, 143.98it/s]\n",
            "scanning 29/30 weight - fit_dense.weight:  33%|███▎      | 2/6 [00:01<00:02,  1.73it/s]"
          ]
        },
        {
          "output_type": "stream",
          "name": "stdout",
          "text": [
            "\r    sparsity=0.50: accuracy=89.22%"
          ]
        },
        {
          "output_type": "stream",
          "name": "stderr",
          "text": [
            "\n",
            "Evaluating:   0%|          | 0/28 [00:00<?, ?it/s]\u001b[A\n",
            "Evaluating: 100%|██████████| 28/28 [00:00<00:00, 143.84it/s]\n",
            "scanning 29/30 weight - fit_dense.weight:  50%|█████     | 3/6 [00:01<00:01,  1.74it/s]"
          ]
        },
        {
          "output_type": "stream",
          "name": "stdout",
          "text": [
            "\r    sparsity=0.60: accuracy=89.22%"
          ]
        },
        {
          "output_type": "stream",
          "name": "stderr",
          "text": [
            "\n",
            "Evaluating:   0%|          | 0/28 [00:00<?, ?it/s]\u001b[A\n",
            "Evaluating: 100%|██████████| 28/28 [00:00<00:00, 141.88it/s]\n",
            "scanning 29/30 weight - fit_dense.weight:  67%|██████▋   | 4/6 [00:02<00:01,  1.74it/s]"
          ]
        },
        {
          "output_type": "stream",
          "name": "stdout",
          "text": [
            "\r    sparsity=0.70: accuracy=89.22%"
          ]
        },
        {
          "output_type": "stream",
          "name": "stderr",
          "text": [
            "\n",
            "Evaluating:   0%|          | 0/28 [00:00<?, ?it/s]\u001b[A\n",
            "Evaluating: 100%|██████████| 28/28 [00:00<00:00, 139.63it/s]\n",
            "scanning 29/30 weight - fit_dense.weight:  83%|████████▎ | 5/6 [00:02<00:00,  1.74it/s]"
          ]
        },
        {
          "output_type": "stream",
          "name": "stdout",
          "text": [
            "\r    sparsity=0.80: accuracy=89.22%"
          ]
        },
        {
          "output_type": "stream",
          "name": "stderr",
          "text": [
            "\n",
            "Evaluating:   0%|          | 0/28 [00:00<?, ?it/s]\u001b[A\n",
            "Evaluating: 100%|██████████| 28/28 [00:00<00:00, 144.24it/s]\n",
            "scanning 29/30 weight - fit_dense.weight: 100%|██████████| 6/6 [00:03<00:00,  1.74it/s]"
          ]
        },
        {
          "output_type": "stream",
          "name": "stdout",
          "text": [
            "\r    sparsity=0.90: accuracy=89.22%\r    sparsity=[0.40,0.50,0.60,0.70,0.80,0.90]: accuracy=[89.22%, 89.22%, 89.22%, 89.22%, 89.22%, 89.22%]"
          ]
        },
        {
          "output_type": "stream",
          "name": "stderr",
          "text": [
            "\n"
          ]
        }
      ]
    },
    {
      "cell_type": "code",
      "source": [
        "# save sparsities and accuracies in a pickle file\n",
        "import pickle\n",
        "res_dict = {'sparsities': sparsities, 'accuracies': accuracies}\n",
        "file_name = \"distilled_pruned_sparsity_sensitivity_scan.pkl\"\n",
        "with open(f'/content/{file_name}', 'wb') as f:\n",
        "    pickle.dump(res_dict, f)"
      ],
      "metadata": {
        "id": "J0EqcpmG0RUN"
      },
      "execution_count": null,
      "outputs": []
    },
    {
      "cell_type": "code",
      "source": [
        "import math\n",
        "def plot_sensitivity_scan(sparsities, accuracies, dense_model_accuracy):\n",
        "    #lower_bound_accuracy = 100 - (100 - dense_model_accuracy) * 1.5\n",
        "    lower_bound_accuracy = dense_model_accuracy # show dense model accuracy rather than a lower bound\n",
        "    fig, axes = plt.subplots(6, int(math.ceil(len(accuracies) / 6)),figsize=(15,20), constrained_layout=True)\n",
        "    axes = axes.ravel()\n",
        "    plot_index = 0\n",
        "    for name, param in student_model.named_parameters():\n",
        "        if param.dim() > 1:\n",
        "            ax = axes[plot_index]\n",
        "            curve = ax.plot(sparsities, accuracies[plot_index])\n",
        "            line = ax.plot(sparsities, [lower_bound_accuracy] * len(sparsities))\n",
        "            ax.set_xticks(np.arange(start=0.4, stop=1.0, step=0.1))\n",
        "            ax.set_ylim(60, 95)\n",
        "            ax.set_title(\"\")\n",
        "            # # format layer names for graph titles\n",
        "            title = name.replace(\"bert.\", \"\")\n",
        "            title = title.replace(\"embeddings.word_embeddings\", \"word embeddings\")\n",
        "            title = title.replace(\"embeddings.position_embeddings\", \"position embeddings\")\n",
        "            title = title.replace(\"embeddings.token_type_embeddings\", \"token type embeddings\")\n",
        "            title = title.replace(\"encoder.layer.\", \"layer\")\n",
        "            title = title.replace(\"attention.self.query\", \"query\")\n",
        "            title = title.replace(\"attention.self.key\", \"key\")\n",
        "            title = title.replace(\"attention.self.value\", \"value\")\n",
        "            title = title.replace(\".weight\", \"\")\n",
        "            ax.set_title(title)\n",
        "            ax.set_xlabel('sparsity')\n",
        "            ax.set_ylabel('top-1 accuracy')\n",
        "            ax.legend([\n",
        "                'accuracy after pruning',\n",
        "                f'dense model accuracy'\n",
        "            ])\n",
        "            ax.grid(axis='x')\n",
        "            plot_index += 1\n",
        "    fig.suptitle('DISTILLED MODEL Sensitivity Curves: Validation Accuracy vs. Pruning Sparsity (for each layer with dims > 1)', fontsize = 16)\n",
        "    fig.subplots_adjust(top=0.96)\n",
        "    # fig.tight_layout()\n",
        "    plt.show()\n",
        "\n",
        "plot_sensitivity_scan(sparsities, accuracies, dense_model_accuracy)"
      ],
      "metadata": {
        "id": "w5PFoLalSzLR",
        "colab": {
          "base_uri": "https://localhost:8080/",
          "height": 1000
        },
        "outputId": "42b6b129-820f-4d1a-fa8a-31e25fe0715c"
      },
      "execution_count": null,
      "outputs": [
        {
          "output_type": "stream",
          "name": "stderr",
          "text": [
            "<ipython-input-69-7ba443877cb0>:36: UserWarning: This figure was using a layout engine that is incompatible with subplots_adjust and/or tight_layout; not calling subplots_adjust.\n",
            "  fig.subplots_adjust(top=0.96)\n"
          ]
        },
        {
          "output_type": "display_data",
          "data": {
            "text/plain": [
              "<Figure size 1500x2000 with 30 Axes>"
            ],
            "image/png": "[encoded data removed]"
          },
          "metadata": {}
        }
      ]
    },
    {
      "cell_type": "markdown",
      "source": [
        "## Optimal Pruned Model"
      ],
      "metadata": {
        "id": "E8bvJnG5S6KH"
      }
    },
    {
      "cell_type": "code",
      "source": [
        "dense_model = copy.deepcopy(student_model)"
      ],
      "metadata": {
        "id": "i7CMFU7GS71S"
      },
      "execution_count": null,
      "outputs": []
    },
    {
      "cell_type": "code",
      "source": [
        "# build sparsity dictionary\n",
        "# TODO: fill in values based on results of sensitivity testing\n",
        "sparsity_dict = {\n",
        "'bert.embeddings.word_embeddings.weight':0.5,\n",
        "'bert.embeddings.position_embeddings.weight':0.8,\n",
        "'bert.embeddings.token_type_embeddings.weight':0.7,\n",
        "'bert.encoder.layer.0.attention.self.query.weight':0.8,\n",
        "'bert.encoder.layer.0.attention.self.key.weight':0.7,\n",
        "'bert.encoder.layer.0.attention.self.value.weight':0.7,\n",
        "'bert.encoder.layer.0.attention.output.dense.weight':0.8,\n",
        "'bert.encoder.layer.0.intermediate.dense.weight':0.5,\n",
        "'bert.encoder.layer.0.output.dense.weight':0.8,\n",
        "'bert.encoder.layer.1.attention.self.query.weight':0.8,\n",
        "'bert.encoder.layer.1.attention.self.key.weight':0.8,\n",
        "'bert.encoder.layer.1.attention.self.value.weight':0.6,\n",
        "'bert.encoder.layer.1.attention.output.dense.weight':0.8,\n",
        "'bert.encoder.layer.1.intermediate.dense.weight':0.8,\n",
        "'bert.encoder.layer.1.output.dense.weight':0.7,\n",
        "'bert.encoder.layer.2.attention.self.query.weight':0.9,\n",
        "'bert.encoder.layer.2.attention.self.key.weight':0.8,\n",
        "'bert.encoder.layer.2.attention.self.value.weight':0.9,\n",
        "'bert.encoder.layer.2.attention.output.dense.weight':0.9,\n",
        "'bert.encoder.layer.2.intermediate.dense.weight':0.9,\n",
        "'bert.encoder.layer.2.output.dense.weight':0.9,\n",
        "'bert.encoder.layer.3.attention.self.query.weight':0.9,\n",
        "'bert.encoder.layer.3.attention.self.key.weight':0.9,\n",
        "'bert.encoder.layer.3.attention.self.value.weight':0.9,\n",
        "'bert.encoder.layer.3.attention.output.dense.weight':0.9,\n",
        "'bert.encoder.layer.3.intermediate.dense.weight':0.9,\n",
        "'bert.encoder.layer.3.output.dense.weight':0.9,\n",
        "'bert.pooler.dense.weight':0.9,\n",
        "'classifier.weight':0.9,\n",
        "'fit_dense.weight':0.9,\n",
        "}"
      ],
      "metadata": {
        "id": "PrZRQszLS89D"
      },
      "execution_count": null,
      "outputs": []
    },
    {
      "cell_type": "code",
      "source": [
        "pruner = FineGrainedPruner(student_model, sparsity_dict)\n",
        "\n",
        "sparse_model_size = get_model_size(student_model, count_nonzero_only=True)\n",
        "print(f\"Sparse model has size={sparse_model_size / MiB:.2f} MiB = {sparse_model_size / dense_model_size * 100:.2f}% of dense model size\")\n",
        "sparse_model_accuracy = evaluate(student_model)['acc']*100\n",
        "print(\"\\n\")\n",
        "print(f\"Sparse model has accuracy={sparse_model_accuracy:.2f}% before fintuning\")\n",
        "\n"
      ],
      "metadata": {
        "colab": {
          "base_uri": "https://localhost:8080/"
        },
        "id": "bAPNXhZRS_hb",
        "outputId": "c9e912f5-cb5c-4558-c9ce-5fade66cc90b"
      },
      "execution_count": null,
      "outputs": [
        {
          "output_type": "stream",
          "name": "stdout",
          "text": [
            "Sparse model has size=21.84 MiB = 39.24% of dense model size\n"
          ]
        },
        {
          "output_type": "stream",
          "name": "stderr",
          "text": [
            "Evaluating: 100%|██████████| 28/28 [00:00<00:00, 147.03it/s]"
          ]
        },
        {
          "output_type": "stream",
          "name": "stdout",
          "text": [
            "\n",
            "\n",
            "Sparse model has accuracy=49.08% before fintuning\n"
          ]
        },
        {
          "output_type": "stream",
          "name": "stderr",
          "text": [
            "\n"
          ]
        }
      ]
    },
    {
      "cell_type": "markdown",
      "source": [
        "## Fine-tuning the fine-grain pruned model"
      ],
      "metadata": {
        "id": "UQKxR5n2TMnK"
      }
    },
    {
      "cell_type": "code",
      "source": [
        "student_model = train_tinybert_sst2(student_model)"
      ],
      "metadata": {
        "colab": {
          "base_uri": "https://localhost:8080/"
        },
        "id": "C8a8aTDdTAKu",
        "outputId": "ad369d8f-0161-41e1-c4d1-d6c3c25c0157"
      },
      "execution_count": null,
      "outputs": [
        {
          "output_type": "stream",
          "name": "stderr",
          "text": [
            "/usr/local/lib/python3.10/dist-packages/transformers/optimization.py:591: FutureWarning: This implementation of AdamW is deprecated and will be removed in a future version. Use the PyTorch implementation torch.optim.AdamW instead, or set `no_deprecation_warning=True` to disable this warning\n",
            "  warnings.warn(\n"
          ]
        },
        {
          "output_type": "stream",
          "name": "stdout",
          "text": [
            "Epoch 1/1\n"
          ]
        },
        {
          "output_type": "stream",
          "name": "stderr",
          "text": [
            "Training: 100%|██████████| 2105/2105 [00:49<00:00, 42.63it/s]\n"
          ]
        },
        {
          "output_type": "stream",
          "name": "stdout",
          "text": [
            "Training loss: 0.3304\n",
            "Training accuracy: 0.8540\n"
          ]
        },
        {
          "output_type": "stream",
          "name": "stderr",
          "text": [
            "Evaluating: 100%|██████████| 28/28 [00:00<00:00, 145.05it/s]\n"
          ]
        },
        {
          "output_type": "stream",
          "name": "stdout",
          "text": [
            "Validation loss: 0.3709\n",
            "Validation accuracy: 0.8406\n"
          ]
        }
      ]
    },
    {
      "cell_type": "markdown",
      "source": [
        "## Plots for finegrain pruning - TODO"
      ],
      "metadata": {
        "id": "uT62Cv-dUUzZ"
      }
    },
    {
      "cell_type": "markdown",
      "source": [
        "# Channel Pruning - TODO"
      ],
      "metadata": {
        "id": "CQKPBBPIT_g4"
      }
    },
    {
      "cell_type": "code",
      "source": [],
      "metadata": {
        "id": "v6qniuz5T3ir"
      },
      "execution_count": null,
      "outputs": []
    },
    {
      "cell_type": "markdown",
      "source": [
        "# K-means quantization"
      ],
      "metadata": {
        "id": "psAo7go4UDg5"
      }
    },
    {
      "cell_type": "markdown",
      "source": [
        "## k-means quantization functions"
      ],
      "metadata": {
        "id": "bytVEtQ1Ugox"
      }
    },
    {
      "cell_type": "code",
      "source": [
        "from collections import namedtuple\n",
        "\n",
        "Codebook = namedtuple('Codebook', ['centroids', 'labels'])"
      ],
      "metadata": {
        "id": "PaS374v5Udbh"
      },
      "execution_count": null,
      "outputs": []
    },
    {
      "cell_type": "code",
      "source": [
        "from fast_pytorch_kmeans import KMeans\n",
        "\n",
        "def k_means_quantize(fp32_tensor: torch.Tensor, bitwidth=4, codebook=None):\n",
        "    \"\"\"\n",
        "    quantize tensor using k-means clustering\n",
        "    :param fp32_tensor:\n",
        "    :param bitwidth: [int] quantization bit width, default=4\n",
        "    :param codebook: [Codebook] (the cluster centroids, the cluster label tensor)\n",
        "    :return:\n",
        "        [Codebook = (centroids, labels)]\n",
        "            centroids: [torch.(cuda.)FloatTensor] the cluster centroids\n",
        "            labels: [torch.(cuda.)LongTensor] cluster label tensor\n",
        "    \"\"\"\n",
        "    if codebook is None:\n",
        "        ############### YOUR CODE STARTS HERE ###############\n",
        "        # get number of clusters based on the quantization precision\n",
        "        # hint: one line of code\n",
        "        n_clusters = 2**bitwidth\n",
        "        ############### YOUR CODE ENDS HERE #################\n",
        "        # use k-means to get the quantization centroids\n",
        "        kmeans = KMeans(n_clusters=n_clusters, mode='euclidean', verbose=0)\n",
        "        labels = kmeans.fit_predict(fp32_tensor.view(-1, 1)).to(torch.long)\n",
        "        centroids = kmeans.centroids.to(torch.float).view(-1)\n",
        "        codebook = Codebook(centroids, labels)\n",
        "    ############### YOUR CODE STARTS HERE ###############\n",
        "    # decode the codebook into k-means quantized tensor for inference\n",
        "    # hint: one line of code\n",
        "    quantized_tensor = codebook.centroids[codebook.labels].view_as(fp32_tensor)\n",
        "    ############### YOUR CODE ENDS HERE #################\n",
        "    fp32_tensor.set_(quantized_tensor.view_as(fp32_tensor))\n",
        "    return codebook"
      ],
      "metadata": {
        "id": "1sZX-fC2Ul-5"
      },
      "execution_count": null,
      "outputs": []
    },
    {
      "cell_type": "code",
      "source": [
        "def update_codebook(fp32_tensor: torch.Tensor, codebook: Codebook):\n",
        "    \"\"\"\n",
        "    update the centroids in the codebook using updated fp32_tensor\n",
        "    :param fp32_tensor: [torch.(cuda.)Tensor]\n",
        "    :param codebook: [Codebook] (the cluster centroids, the cluster label tensor)\n",
        "    \"\"\"\n",
        "    n_clusters = codebook.centroids.numel()\n",
        "    fp32_tensor = fp32_tensor.view(-1)\n",
        "    for k in range(n_clusters):\n",
        "    ############### YOUR CODE STARTS HERE ###############\n",
        "        # hint: one line of code\n",
        "        # codebook.centroids[k] = torch.mean(fp32_tensor)\n",
        "        # print(\"length of codebook labels:\", len(codebook.labels))\n",
        "        # print(\"length of fp32_tensor:\", len(fp32_tensor))\n",
        "        codebook.centroids[k] = torch.mean(fp32_tensor[codebook.labels == k])\n",
        "    ############### YOUR CODE ENDS HERE #################"
      ],
      "metadata": {
        "id": "Eg1LtlG6Un5n"
      },
      "execution_count": null,
      "outputs": []
    },
    {
      "cell_type": "code",
      "source": [
        "from torch.nn import parameter\n",
        "class KMeansQuantizer:\n",
        "    def __init__(self, model : nn.Module, bitwidth=4):\n",
        "        self.codebook = KMeansQuantizer.quantize(model, bitwidth)\n",
        "\n",
        "    @torch.no_grad()\n",
        "    def apply(self, model, update_centroids):\n",
        "        for name, param in model.named_parameters():\n",
        "            if name in self.codebook:\n",
        "                if update_centroids:\n",
        "                    update_codebook(param, codebook=self.codebook[name])\n",
        "                self.codebook[name] = k_means_quantize(\n",
        "                    param, codebook=self.codebook[name])\n",
        "\n",
        "    @staticmethod\n",
        "    @torch.no_grad()\n",
        "    def quantize(model: nn.Module, bitwidth=4):\n",
        "        codebook = dict()\n",
        "        if isinstance(bitwidth, dict):\n",
        "            for name, param in model.named_parameters():\n",
        "                if name in bitwidth:\n",
        "                    codebook[name] = k_means_quantize(param, bitwidth=bitwidth[name])\n",
        "        else:\n",
        "            for name, param in model.named_parameters():\n",
        "                if param.dim() > 1:\n",
        "                    codebook[name] = k_means_quantize(param, bitwidth=bitwidth)\n",
        "        return codebook"
      ],
      "metadata": {
        "id": "DiS6sZ3SUqsA"
      },
      "execution_count": null,
      "outputs": []
    },
    {
      "cell_type": "markdown",
      "source": [
        "## Test k-means quantization"
      ],
      "metadata": {
        "id": "9KXkNIKSUy09"
      }
    },
    {
      "cell_type": "code",
      "source": [
        "device = torch.device(\"cuda\" if torch.cuda.is_available() else \"cpu\")\n",
        "quantizers = dict()\n",
        "bitwidths = [8, 4, 2]\n",
        "accs = []\n",
        "sizes = []\n",
        "for bitwidth in bitwidths:\n",
        "\n",
        "    student_model = TinyBertForSequenceClassification.from_pretrained(DISTILLED_CONFIG_DIR, num_labels=num_labels)\n",
        "\n",
        "    print(f'k-means quantizing model into {bitwidth} bits')\n",
        "    quantizer = KMeansQuantizer(student_model, bitwidth)\n",
        "    quantized_model_size = get_model_size(student_model, bitwidth)\n",
        "    print(f\"    {bitwidth}-bit k-means quantized model has size={quantized_model_size/MiB:.2f} MiB\")\n",
        "    sizes.append(quantized_model_size)\n",
        "    quantized_model_accuracy = evaluate(student_model)['acc'] *100\n",
        "    accs.append(quantized_model_accuracy)\n",
        "    print(f\"    {bitwidth}-bit k-means quantized model has accuracy={quantized_model_accuracy:.2f}%\")\n",
        "    quantizers[bitwidth] = quantizer\n",
        "\n",
        "plt.plot(bitwidths, accs)\n",
        "plt.xlabel('bitwidth')\n",
        "plt.ylabel('accuracy')\n",
        "plt.show()"
      ],
      "metadata": {
        "colab": {
          "base_uri": "https://localhost:8080/",
          "height": 715
        },
        "id": "eNKFPDoQUrAE",
        "outputId": "94379709-3987-4808-be10-a9805cbcba3c"
      },
      "execution_count": null,
      "outputs": [
        {
          "output_type": "stream",
          "name": "stderr",
          "text": [
            "/content/Pretrained-Language-Model/TinyBERT/transformer/modeling.py:696: FutureWarning: You are using `torch.load` with `weights_only=False` (the current default value), which uses the default pickle module implicitly. It is possible to construct malicious pickle data which will execute arbitrary code during unpickling (See https://github.com/pytorch/pytorch/blob/main/SECURITY.md#untrusted-models for more details). In a future release, the default value for `weights_only` will be flipped to `True`. This limits the functions that could be executed during unpickling. Arbitrary objects will no longer be allowed to be loaded via this mode unless they are explicitly allowlisted by the user via `torch.serialization.add_safe_globals`. We recommend you start setting `weights_only=True` for any use case where you don't have full control of the loaded file. Please open an issue on GitHub for any issues related to this experimental feature.\n",
            "  state_dict = torch.load(weights_path, map_location='cpu')\n"
          ]
        },
        {
          "output_type": "stream",
          "name": "stdout",
          "text": [
            "k-means quantizing model into 8 bits\n",
            "    8-bit k-means quantized model has size=13.92 MiB\n"
          ]
        },
        {
          "output_type": "stream",
          "name": "stderr",
          "text": [
            "Evaluating: 100%|██████████| 28/28 [00:00<00:00, 127.10it/s]\n"
          ]
        },
        {
          "output_type": "stream",
          "name": "stdout",
          "text": [
            "    8-bit k-means quantized model has accuracy=50.92%\n",
            "k-means quantizing model into 4 bits\n",
            "    4-bit k-means quantized model has size=6.96 MiB\n"
          ]
        },
        {
          "output_type": "stream",
          "name": "stderr",
          "text": [
            "Evaluating: 100%|██████████| 28/28 [00:00<00:00, 122.33it/s]\n"
          ]
        },
        {
          "output_type": "stream",
          "name": "stdout",
          "text": [
            "    4-bit k-means quantized model has accuracy=50.92%\n",
            "k-means quantizing model into 2 bits\n",
            "    2-bit k-means quantized model has size=3.48 MiB\n"
          ]
        },
        {
          "output_type": "stream",
          "name": "stderr",
          "text": [
            "Evaluating: 100%|██████████| 28/28 [00:00<00:00, 128.03it/s]\n"
          ]
        },
        {
          "output_type": "stream",
          "name": "stdout",
          "text": [
            "    2-bit k-means quantized model has accuracy=48.97%\n"
          ]
        },
        {
          "output_type": "display_data",
          "data": {
            "text/plain": [
              "<Figure size 640x480 with 1 Axes>"
            ],
            "image/png": "[encoded data removed]"
          },
          "metadata": {}
        }
      ]
    },
    {
      "cell_type": "code",
      "source": [
        "# save accs, sizes, and bitwidths to a pickle file\n",
        "import pickle\n",
        "res_dict = {'accs': accs, 'sizes': sizes, 'bitwidths': bitwidths}\n",
        "file_name = \"DISTILLED_quant_no_finetuning_data.pkl\"\n",
        "with open(f'/content/{file_name}', 'wb') as f:\n",
        "    pickle.dump(res_dict, f)"
      ],
      "metadata": {
        "id": "W4MBCpQxX-6U"
      },
      "execution_count": null,
      "outputs": []
    },
    {
      "cell_type": "markdown",
      "source": [
        "## Finetuning quantized model"
      ],
      "metadata": {
        "id": "Yw9V41ZZVCeW"
      }
    },
    {
      "cell_type": "markdown",
      "source": [
        "We need a new training function for finetuning the quantized model because after each epoch we have to re-quantize the weights. The new method is modified only by additionally taking in the `quantizer` as a parameter and calling `quantizer.apply` after each epoch."
      ],
      "metadata": {
        "id": "Pk4rbsHkXZDs"
      }
    },
    {
      "cell_type": "markdown",
      "source": [
        "### finetuning quantized model methods"
      ],
      "metadata": {
        "id": "dZ6ZDEGvaFIz"
      }
    },
    {
      "cell_type": "code",
      "source": [
        "def train_quantized_tinybert(\n",
        "    model,\n",
        "    quantizer,\n",
        "    task_name,\n",
        "    train_dataloader,\n",
        "    eval_dataloader,\n",
        "    device,\n",
        "    output_mode,\n",
        "    num_labels,\n",
        "    eval_labels,\n",
        "    optimizer=None,\n",
        "    scheduler=None,\n",
        "    epochs=3\n",
        "):\n",
        "    \"\"\"\n",
        "    Fine-tune a TinyBERT model with training and validation metrics history.\n",
        "\n",
        "    Args:\n",
        "        model: The TinyBERT model to be fine-tuned.\n",
        "        task_name: Name of the task (used for metric computation).\n",
        "        train_dataloader: DataLoader for training data.\n",
        "        eval_dataloader: DataLoader for evaluation data.\n",
        "        device: Device to train on (e.g., 'cpu' or 'cuda').\n",
        "        output_mode: Output mode for the task ('classification' or 'regression').\n",
        "        num_labels: Number of labels for classification tasks.\n",
        "        eval_labels: Ground truth labels for the evaluation set.\n",
        "        optimizer: Optimizer for training (default is AdamW).\n",
        "        scheduler: Learning rate scheduler (optional).\n",
        "        epochs: Number of training epochs.\n",
        "\n",
        "    Returns:\n",
        "        model: The fine-tuned model with a `history` attribute.\n",
        "    \"\"\"\n",
        "    # Initialize optimizer if none is provided\n",
        "    if optimizer is None:\n",
        "        optimizer = AdamW(model.parameters(), lr=5e-5)\n",
        "\n",
        "    # Initialize or extend model's history attribute\n",
        "    if not hasattr(model, 'history'):\n",
        "        model.history = {'train_loss': [], 'val_loss': [], 'train_acc': [], 'val_acc': []}\n",
        "\n",
        "    # Move model to the specified device\n",
        "    model.to(device)\n",
        "\n",
        "    # Training loop\n",
        "    for epoch in range(epochs):\n",
        "        model.train()\n",
        "        total_loss = 0  # To track total training loss\n",
        "        nb_train_steps = 0  # To count the number of training steps\n",
        "        correct_predictions = 0\n",
        "        total_predictions = 0\n",
        "\n",
        "        print(f\"Epoch {epoch + 1}/{epochs}\")\n",
        "\n",
        "        # Training step\n",
        "        for step, batch in enumerate(tqdm(train_dataloader, desc=\"Training\")):\n",
        "            # Move each tensor in the batch to the device\n",
        "            batch = tuple(t.to(device) for t in batch)\n",
        "            input_ids, input_mask, segment_ids, label_ids, seq_lengths = batch\n",
        "\n",
        "            # Zero the gradients to prevent accumulation\n",
        "            optimizer.zero_grad()\n",
        "\n",
        "            # Forward pass\n",
        "            logits, _, _ = model(input_ids, segment_ids, input_mask)\n",
        "\n",
        "            # Compute loss\n",
        "            if output_mode == \"classification\":\n",
        "                loss_fct = CrossEntropyLoss()\n",
        "                loss = loss_fct(logits.view(-1, num_labels), label_ids.view(-1))\n",
        "                preds = torch.argmax(logits, dim=1)\n",
        "            elif output_mode == \"regression\":\n",
        "                loss_fct = MSELoss()\n",
        "                loss = loss_fct(logits.view(-1), label_ids.view(-1))\n",
        "                preds = logits.squeeze()\n",
        "            else:\n",
        "                raise ValueError(f\"Unknown output mode: {output_mode}\")\n",
        "\n",
        "            # Update metrics\n",
        "            if output_mode == \"classification\":\n",
        "                correct_predictions += (preds == label_ids).sum().item()\n",
        "                total_predictions += label_ids.size(0)\n",
        "\n",
        "            # Backward pass and optimization\n",
        "            loss.backward()\n",
        "            optimizer.step()\n",
        "\n",
        "            # apply the quantization\n",
        "            quantizer.apply(model, update_centroids=False)\n",
        "\n",
        "            # Update training metrics\n",
        "            total_loss += loss.item()\n",
        "            nb_train_steps += 1\n",
        "\n",
        "        # Adjust learning rate with scheduler (if provided)\n",
        "        if scheduler:\n",
        "            scheduler.step()\n",
        "\n",
        "        # Compute training metrics\n",
        "        avg_train_loss = total_loss / nb_train_steps\n",
        "        train_accuracy = correct_predictions / total_predictions if output_mode == \"classification\" else None\n",
        "        print(f\"Training loss: {avg_train_loss:.4f}\")\n",
        "        if train_accuracy is not None:\n",
        "            print(f\"Training accuracy: {train_accuracy:.4f}\")\n",
        "\n",
        "        # Evaluate the model\n",
        "        eval_result = evaluate_tinybert(\n",
        "            model, task_name, eval_dataloader, device, output_mode, eval_labels, num_labels\n",
        "        )\n",
        "        avg_val_loss = eval_result['eval_loss']\n",
        "        val_accuracy = eval_result['acc']\n",
        "\n",
        "        # Print validation results\n",
        "        print(f\"Validation loss: {avg_val_loss:.4f}\")\n",
        "        print(f\"Validation accuracy: {val_accuracy:.4f}\")\n",
        "\n",
        "        # Update the model's history\n",
        "        model.history['train_loss'].append(avg_train_loss)\n",
        "        model.history['val_loss'].append(avg_val_loss)\n",
        "        if train_accuracy is not None:\n",
        "            model.history['train_acc'].append(train_accuracy)\n",
        "        model.history['val_acc'].append(val_accuracy)\n",
        "\n",
        "    return model\n"
      ],
      "metadata": {
        "id": "Ssdf82I2U3Oz"
      },
      "execution_count": null,
      "outputs": []
    },
    {
      "cell_type": "code",
      "source": [
        "# putting the dataset prep and training into one function\n",
        "\n",
        "def train_quantized_tinybert_sst2(student_model, quantizer):\n",
        "  # building the train and evaluation dataloader\n",
        "  do_lower_case = False\n",
        "  data_dir = '/content/SST-2'\n",
        "  processor = Sst2Processor()\n",
        "  label_list = processor.get_labels()\n",
        "  num_labels = len(label_list)\n",
        "  max_seq_length = 128\n",
        "  eval_batch_size = 32\n",
        "  train_batch_size = 32\n",
        "  task_name = \"sst2\"\n",
        "  output_mode = \"classification\"\n",
        "  device = torch.device(\"cuda\" if torch.cuda.is_available() else \"cpu\")\n",
        "  # student_model = TinyBertForSequenceClassification.from_pretrained(STUDENT_CONFIG_DIR, num_labels=num_labels)\n",
        "  student_model.to(device)\n",
        "\n",
        "  tokenizer = BertTokenizer.from_pretrained(STUDENT_CONFIG_DIR, do_lower_case=do_lower_case)\n",
        "  eval_examples = processor.get_dev_examples(data_dir)\n",
        "  eval_features = convert_examples_to_features(eval_examples, label_list, max_seq_length, tokenizer, output_mode)\n",
        "  eval_data, eval_labels = get_tensor_data(output_mode, eval_features)\n",
        "  eval_sampler = SequentialSampler(eval_data)\n",
        "  eval_dataloader = DataLoader(eval_data, sampler=eval_sampler, batch_size=eval_batch_size)\n",
        "\n",
        "  train_examples = processor.get_train_examples(data_dir)\n",
        "  train_features = convert_examples_to_features(train_examples, label_list, max_seq_length, tokenizer, output_mode)\n",
        "  train_data, train_labels = get_tensor_data(output_mode, train_features)\n",
        "  train_sampler = SequentialSampler(train_data)\n",
        "  train_dataloader = DataLoader(train_data, sampler=train_sampler, batch_size=train_batch_size)\n",
        "\n",
        "  # only train for 1 epoch - overfits fast\n",
        "  student_model = train_quantized_tinybert(\n",
        "      student_model,\n",
        "      quantizer,\n",
        "      task_name,\n",
        "      train_dataloader,\n",
        "      eval_dataloader,\n",
        "      device,\n",
        "      output_mode,\n",
        "      num_labels,\n",
        "      eval_labels,\n",
        "      optimizer=None,\n",
        "      scheduler=None,\n",
        "      epochs=1\n",
        "  )\n",
        "  return student_model"
      ],
      "metadata": {
        "id": "KrquyJ-YZ9lb"
      },
      "execution_count": null,
      "outputs": []
    },
    {
      "cell_type": "markdown",
      "source": [
        "### Run the Finetuning"
      ],
      "metadata": {
        "id": "OjWl1DoKaRbH"
      }
    },
    {
      "cell_type": "code",
      "source": [
        "device = torch.device(\"cuda\" if torch.cuda.is_available() else \"cpu\")\n",
        "quantizers = dict()\n",
        "bitwidths = [8, 4, 2]\n",
        "accs = []\n",
        "sizes = []\n",
        "for bitwidth in bitwidths:\n",
        "    # student_model = load_original_model()\n",
        "    # student_model.to(device)\n",
        "    # student_model = nn.DataParallel(student_model)\n",
        "    student_model = TinyBertForSequenceClassification.from_pretrained(DISTILLED_CONFIG_DIR, num_labels=num_labels)\n",
        "    student_model.to(device)\n",
        "\n",
        "    print(f'k-means quantizing model into {bitwidth} bits')\n",
        "    quantizer = KMeansQuantizer(student_model, bitwidth)\n",
        "\n",
        "    # finetune quantized model\n",
        "    print(f\"FINETUNING {bitwidth}-bit model\")\n",
        "    student_model = train_quantized_tinybert_sst2(student_model, quantizer)\n",
        "\n",
        "    quantized_model_size = get_model_size(student_model, bitwidth)\n",
        "    print(f\"    {bitwidth}-bit k-means quantized model has size={quantized_model_size/MiB:.2f} MiB\")\n",
        "    sizes.append(quantized_model_size)\n",
        "    quantized_model_accuracy = evaluate(student_model)['acc'] *100\n",
        "    accs.append(quantized_model_accuracy)\n",
        "    print(f\"    {bitwidth}-bit k-means quantized model has accuracy={quantized_model_accuracy:.2f}%\")\n",
        "    quantizers[bitwidth] = quantizer\n",
        "\n",
        "plt.plot(bitwidths, accs)\n",
        "plt.xlabel('bitwidth')\n",
        "plt.ylabel('accuracy')\n",
        "plt.show()"
      ],
      "metadata": {
        "colab": {
          "base_uri": "https://localhost:8080/",
          "height": 1000
        },
        "id": "5fow9ecOaU2U",
        "outputId": "692f3c2e-a129-44da-9c15-928f3b8f507d"
      },
      "execution_count": null,
      "outputs": [
        {
          "output_type": "stream",
          "name": "stderr",
          "text": [
            "/content/Pretrained-Language-Model/TinyBERT/transformer/modeling.py:696: FutureWarning: You are using `torch.load` with `weights_only=False` (the current default value), which uses the default pickle module implicitly. It is possible to construct malicious pickle data which will execute arbitrary code during unpickling (See https://github.com/pytorch/pytorch/blob/main/SECURITY.md#untrusted-models for more details). In a future release, the default value for `weights_only` will be flipped to `True`. This limits the functions that could be executed during unpickling. Arbitrary objects will no longer be allowed to be loaded via this mode unless they are explicitly allowlisted by the user via `torch.serialization.add_safe_globals`. We recommend you start setting `weights_only=True` for any use case where you don't have full control of the loaded file. Please open an issue on GitHub for any issues related to this experimental feature.\n",
            "  state_dict = torch.load(weights_path, map_location='cpu')\n"
          ]
        },
        {
          "output_type": "stream",
          "name": "stdout",
          "text": [
            "k-means quantizing model into 8 bits\n",
            "FINETUNING 8-bit model\n"
          ]
        },
        {
          "output_type": "stream",
          "name": "stderr",
          "text": [
            "/usr/local/lib/python3.10/dist-packages/transformers/optimization.py:591: FutureWarning: This implementation of AdamW is deprecated and will be removed in a future version. Use the PyTorch implementation torch.optim.AdamW instead, or set `no_deprecation_warning=True` to disable this warning\n",
            "  warnings.warn(\n"
          ]
        },
        {
          "output_type": "stream",
          "name": "stdout",
          "text": [
            "Epoch 1/1\n"
          ]
        },
        {
          "output_type": "stream",
          "name": "stderr",
          "text": [
            "Training: 100%|██████████| 2105/2105 [00:51<00:00, 40.67it/s]\n"
          ]
        },
        {
          "output_type": "stream",
          "name": "stdout",
          "text": [
            "Training loss: 0.6555\n",
            "Training accuracy: 0.6391\n"
          ]
        },
        {
          "output_type": "stream",
          "name": "stderr",
          "text": [
            "Evaluating: 100%|██████████| 28/28 [00:00<00:00, 147.88it/s]\n"
          ]
        },
        {
          "output_type": "stream",
          "name": "stdout",
          "text": [
            "Validation loss: 0.6375\n",
            "Validation accuracy: 0.7913\n",
            "    8-bit k-means quantized model has size=13.92 MiB\n"
          ]
        },
        {
          "output_type": "stream",
          "name": "stderr",
          "text": [
            "Evaluating: 100%|██████████| 28/28 [00:00<00:00, 145.38it/s]\n"
          ]
        },
        {
          "output_type": "stream",
          "name": "stdout",
          "text": [
            "    8-bit k-means quantized model has accuracy=79.13%\n",
            "k-means quantizing model into 4 bits\n",
            "FINETUNING 4-bit model\n",
            "Epoch 1/1\n"
          ]
        },
        {
          "output_type": "stream",
          "name": "stderr",
          "text": [
            "Training: 100%|██████████| 2105/2105 [00:51<00:00, 40.79it/s]\n"
          ]
        },
        {
          "output_type": "stream",
          "name": "stdout",
          "text": [
            "Training loss: 0.6604\n",
            "Training accuracy: 0.6017\n"
          ]
        },
        {
          "output_type": "stream",
          "name": "stderr",
          "text": [
            "Evaluating: 100%|██████████| 28/28 [00:00<00:00, 145.21it/s]\n"
          ]
        },
        {
          "output_type": "stream",
          "name": "stdout",
          "text": [
            "Validation loss: 0.6444\n",
            "Validation accuracy: 0.7775\n",
            "    4-bit k-means quantized model has size=6.96 MiB\n"
          ]
        },
        {
          "output_type": "stream",
          "name": "stderr",
          "text": [
            "Evaluating: 100%|██████████| 28/28 [00:00<00:00, 145.83it/s]\n"
          ]
        },
        {
          "output_type": "stream",
          "name": "stdout",
          "text": [
            "    4-bit k-means quantized model has accuracy=77.75%\n",
            "k-means quantizing model into 2 bits\n",
            "FINETUNING 2-bit model\n",
            "Epoch 1/1\n"
          ]
        },
        {
          "output_type": "stream",
          "name": "stderr",
          "text": [
            "Training: 100%|██████████| 2105/2105 [00:51<00:00, 40.69it/s]\n"
          ]
        },
        {
          "output_type": "stream",
          "name": "stdout",
          "text": [
            "Training loss: 0.6852\n",
            "Training accuracy: 0.5581\n"
          ]
        },
        {
          "output_type": "stream",
          "name": "stderr",
          "text": [
            "Evaluating: 100%|██████████| 28/28 [00:00<00:00, 145.44it/s]\n"
          ]
        },
        {
          "output_type": "stream",
          "name": "stdout",
          "text": [
            "Validation loss: 0.6860\n",
            "Validation accuracy: 0.5092\n",
            "    2-bit k-means quantized model has size=3.48 MiB\n"
          ]
        },
        {
          "output_type": "stream",
          "name": "stderr",
          "text": [
            "Evaluating: 100%|██████████| 28/28 [00:00<00:00, 145.25it/s]\n"
          ]
        },
        {
          "output_type": "stream",
          "name": "stdout",
          "text": [
            "    2-bit k-means quantized model has accuracy=50.92%\n"
          ]
        },
        {
          "output_type": "display_data",
          "data": {
            "text/plain": [
              "<Figure size 640x480 with 1 Axes>"
            ],
            "image/png": "[encoded data removed]"
          },
          "metadata": {}
        }
      ]
    },
    {
      "cell_type": "code",
      "source": [
        "# save accs, sizes, and bitwidths to a pickle file\n",
        "import pickle\n",
        "res_dict = {'accs': accs, 'sizes': sizes, 'bitwidths': bitwidths}\n",
        "file_name = \"DISTILLED_quant_WITH_finetuning_data.pkl\"\n",
        "with open(f'/content/{file_name}', 'wb') as f:\n",
        "    pickle.dump(res_dict, f)"
      ],
      "metadata": {
        "id": "UKHx19_ja1wq"
      },
      "execution_count": null,
      "outputs": []
    },
    {
      "cell_type": "markdown",
      "source": [
        "# Pruning AND Quantization Together"
      ],
      "metadata": {
        "id": "aqRwXwO4fJzN"
      }
    },
    {
      "cell_type": "markdown",
      "source": [
        "## Apply Pruning and Quantization without Finetuning"
      ],
      "metadata": {
        "id": "3QOUCL7JiE2u"
      }
    },
    {
      "cell_type": "code",
      "source": [
        "device = torch.device(\"cuda\" if torch.cuda.is_available() else \"cpu\")\n",
        "quantizers = dict()\n",
        "bitwidths = [8, 4, 2]\n",
        "accs = []\n",
        "sparse_sizes = []\n",
        "final_sizes = []\n",
        "for bitwidth in bitwidths:\n",
        "    # student_model = load_original_model()\n",
        "    # student_model.to(device)\n",
        "    # student_model = nn.DataParallel(student_model)\n",
        "    student_model = TinyBertForSequenceClassification.from_pretrained(DISTILLED_CONFIG_DIR, num_labels=num_labels)\n",
        "\n",
        "    print(\"pruning...\")\n",
        "    pruner = FineGrainedPruner(student_model, sparsity_dict)\n",
        "    # before quantizing, the bitwidth is 32\n",
        "    sparse_model_size = get_model_size(student_model, data_width=32, count_nonzero_only=True)\n",
        "    sparse_sizes.append(sparse_model_size)\n",
        "    print(f\"  pruned model has size={sparse_model_size/MiB:.2f} MiB\")\n",
        "\n",
        "    print(f'k-means quantizing model into {bitwidth} bits')\n",
        "    quantizer = KMeansQuantizer(student_model, bitwidth)\n",
        "    quantized_model_size = get_model_size(student_model, data_width=bitwidth, count_nonzero_only=True)\n",
        "    final_sizes.append(quantized_model_size)\n",
        "    print(f\"    pruned {bitwidth}-bit k-means quantized model has size={quantized_model_size/MiB:.2f} MiB\")\n",
        "\n",
        "    quantized_model_accuracy = evaluate(student_model)['acc'] *100\n",
        "    accs.append(quantized_model_accuracy)\n",
        "    print(f\"    pruned {bitwidth}-bit k-means quantized model has accuracy={quantized_model_accuracy:.2f}%\")\n",
        "    quantizers[bitwidth] = quantizer\n",
        "\n",
        "plt.plot(bitwidths, accs)\n",
        "plt.xlabel('bitwidth')\n",
        "plt.ylabel('accuracy')\n",
        "plt.show()"
      ],
      "metadata": {
        "colab": {
          "base_uri": "https://localhost:8080/",
          "height": 820
        },
        "id": "F7PIzJExiKfD",
        "outputId": "a5a45c5e-5724-4846-fbbc-de1e06008c0f"
      },
      "execution_count": null,
      "outputs": [
        {
          "output_type": "stream",
          "name": "stderr",
          "text": [
            "/content/Pretrained-Language-Model/TinyBERT/transformer/modeling.py:696: FutureWarning: You are using `torch.load` with `weights_only=False` (the current default value), which uses the default pickle module implicitly. It is possible to construct malicious pickle data which will execute arbitrary code during unpickling (See https://github.com/pytorch/pytorch/blob/main/SECURITY.md#untrusted-models for more details). In a future release, the default value for `weights_only` will be flipped to `True`. This limits the functions that could be executed during unpickling. Arbitrary objects will no longer be allowed to be loaded via this mode unless they are explicitly allowlisted by the user via `torch.serialization.add_safe_globals`. We recommend you start setting `weights_only=True` for any use case where you don't have full control of the loaded file. Please open an issue on GitHub for any issues related to this experimental feature.\n",
            "  state_dict = torch.load(weights_path, map_location='cpu')\n"
          ]
        },
        {
          "output_type": "stream",
          "name": "stdout",
          "text": [
            "pruning...\n",
            "  pruned model has size=21.84 MiB\n",
            "k-means quantizing model into 8 bits\n",
            "    pruned 8-bit k-means quantized model has size=5.46 MiB\n"
          ]
        },
        {
          "output_type": "stream",
          "name": "stderr",
          "text": [
            "Evaluating: 100%|██████████| 28/28 [00:00<00:00, 125.15it/s]\n"
          ]
        },
        {
          "output_type": "stream",
          "name": "stdout",
          "text": [
            "    pruned 8-bit k-means quantized model has accuracy=49.08%\n",
            "pruning...\n",
            "  pruned model has size=21.84 MiB\n",
            "k-means quantizing model into 4 bits\n",
            "    pruned 4-bit k-means quantized model has size=3.02 MiB\n"
          ]
        },
        {
          "output_type": "stream",
          "name": "stderr",
          "text": [
            "Evaluating: 100%|██████████| 28/28 [00:00<00:00, 123.48it/s]\n"
          ]
        },
        {
          "output_type": "stream",
          "name": "stdout",
          "text": [
            "    pruned 4-bit k-means quantized model has accuracy=49.08%\n",
            "pruning...\n",
            "  pruned model has size=21.84 MiB\n",
            "k-means quantizing model into 2 bits\n",
            "    pruned 2-bit k-means quantized model has size=3.19 MiB\n"
          ]
        },
        {
          "output_type": "stream",
          "name": "stderr",
          "text": [
            "Evaluating: 100%|██████████| 28/28 [00:00<00:00, 123.82it/s]\n"
          ]
        },
        {
          "output_type": "stream",
          "name": "stdout",
          "text": [
            "    pruned 2-bit k-means quantized model has accuracy=50.92%\n"
          ]
        },
        {
          "output_type": "display_data",
          "data": {
            "text/plain": [
              "<Figure size 640x480 with 1 Axes>"
            ],
            "image/png": "[encoded data removed]"
          },
          "metadata": {}
        }
      ]
    },
    {
      "cell_type": "code",
      "source": [
        "# save accs, sizes, and bitwidths to a pickle file\n",
        "import pickle\n",
        "res_dict = {'accs': accs, 'sparse_sizes': sparse_sizes, 'final_sizes': final_sizes, 'bitwidths': bitwidths}\n",
        "file_name = \"DISTILLED_prune_and_quant_NO_finetuning_data.pkl\"\n",
        "with open(f'/content/{file_name}', 'wb') as f:\n",
        "    pickle.dump(res_dict, f)"
      ],
      "metadata": {
        "id": "9RJBfvLTifRO"
      },
      "execution_count": null,
      "outputs": []
    },
    {
      "cell_type": "markdown",
      "source": [
        "## finetuning pruned+quantized model functions"
      ],
      "metadata": {
        "id": "7xJEuGHGf2jV"
      }
    },
    {
      "cell_type": "markdown",
      "source": [
        "When finetuning a pruned and quantized model, we need to apply both the pruner and quantizer after each epoch."
      ],
      "metadata": {
        "id": "iM_IIcscfuAt"
      }
    },
    {
      "cell_type": "code",
      "source": [
        "def train_pruned_quantized_tinybert(\n",
        "    model,\n",
        "    quantizer,\n",
        "    pruner,\n",
        "    task_name,\n",
        "    train_dataloader,\n",
        "    eval_dataloader,\n",
        "    device,\n",
        "    output_mode,\n",
        "    num_labels,\n",
        "    eval_labels,\n",
        "    optimizer=None,\n",
        "    scheduler=None,\n",
        "    epochs=3\n",
        "):\n",
        "    \"\"\"\n",
        "    Fine-tune a TinyBERT model with training and validation metrics history.\n",
        "\n",
        "    Args:\n",
        "        model: The TinyBERT model to be fine-tuned.\n",
        "        task_name: Name of the task (used for metric computation).\n",
        "        train_dataloader: DataLoader for training data.\n",
        "        eval_dataloader: DataLoader for evaluation data.\n",
        "        device: Device to train on (e.g., 'cpu' or 'cuda').\n",
        "        output_mode: Output mode for the task ('classification' or 'regression').\n",
        "        num_labels: Number of labels for classification tasks.\n",
        "        eval_labels: Ground truth labels for the evaluation set.\n",
        "        optimizer: Optimizer for training (default is AdamW).\n",
        "        scheduler: Learning rate scheduler (optional).\n",
        "        epochs: Number of training epochs.\n",
        "\n",
        "    Returns:\n",
        "        model: The fine-tuned model with a `history` attribute.\n",
        "    \"\"\"\n",
        "    # Initialize optimizer if none is provided\n",
        "    if optimizer is None:\n",
        "        optimizer = AdamW(model.parameters(), lr=5e-5)\n",
        "\n",
        "    # Initialize or extend model's history attribute\n",
        "    if not hasattr(model, 'history'):\n",
        "        model.history = {'train_loss': [], 'val_loss': [], 'train_acc': [], 'val_acc': []}\n",
        "\n",
        "    # Move model to the specified device\n",
        "    model.to(device)\n",
        "\n",
        "    # Training loop\n",
        "    for epoch in range(epochs):\n",
        "        model.train()\n",
        "        total_loss = 0  # To track total training loss\n",
        "        nb_train_steps = 0  # To count the number of training steps\n",
        "        correct_predictions = 0\n",
        "        total_predictions = 0\n",
        "\n",
        "        print(f\"Epoch {epoch + 1}/{epochs}\")\n",
        "\n",
        "        # Training step\n",
        "        for step, batch in enumerate(tqdm(train_dataloader, desc=\"Training\")):\n",
        "            # Move each tensor in the batch to the device\n",
        "            batch = tuple(t.to(device) for t in batch)\n",
        "            input_ids, input_mask, segment_ids, label_ids, seq_lengths = batch\n",
        "\n",
        "            # Zero the gradients to prevent accumulation\n",
        "            optimizer.zero_grad()\n",
        "\n",
        "            # Forward pass\n",
        "            logits, _, _ = model(input_ids, segment_ids, input_mask)\n",
        "\n",
        "            # Compute loss\n",
        "            if output_mode == \"classification\":\n",
        "                loss_fct = CrossEntropyLoss()\n",
        "                loss = loss_fct(logits.view(-1, num_labels), label_ids.view(-1))\n",
        "                preds = torch.argmax(logits, dim=1)\n",
        "            elif output_mode == \"regression\":\n",
        "                loss_fct = MSELoss()\n",
        "                loss = loss_fct(logits.view(-1), label_ids.view(-1))\n",
        "                preds = logits.squeeze()\n",
        "            else:\n",
        "                raise ValueError(f\"Unknown output mode: {output_mode}\")\n",
        "\n",
        "            # Update metrics\n",
        "            if output_mode == \"classification\":\n",
        "                correct_predictions += (preds == label_ids).sum().item()\n",
        "                total_predictions += label_ids.size(0)\n",
        "\n",
        "            # Backward pass and optimization\n",
        "            loss.backward()\n",
        "            optimizer.step()\n",
        "\n",
        "            # apply the pruning and quantization\n",
        "            pruner.apply(model)\n",
        "            quantizer.apply(model, update_centroids=True)\n",
        "\n",
        "            # Update training metrics\n",
        "            total_loss += loss.item()\n",
        "            nb_train_steps += 1\n",
        "\n",
        "        # Adjust learning rate with scheduler (if provided)\n",
        "        if scheduler:\n",
        "            scheduler.step()\n",
        "\n",
        "        # Compute training metrics\n",
        "        avg_train_loss = total_loss / nb_train_steps\n",
        "        train_accuracy = correct_predictions / total_predictions if output_mode == \"classification\" else None\n",
        "        print(f\"Training loss: {avg_train_loss:.4f}\")\n",
        "        if train_accuracy is not None:\n",
        "            print(f\"Training accuracy: {train_accuracy:.4f}\")\n",
        "\n",
        "        # Evaluate the model\n",
        "        eval_result = evaluate_tinybert(\n",
        "            model, task_name, eval_dataloader, device, output_mode, eval_labels, num_labels\n",
        "        )\n",
        "        avg_val_loss = eval_result['eval_loss']\n",
        "        val_accuracy = eval_result['acc']\n",
        "\n",
        "        # Print validation results\n",
        "        print(f\"Validation loss: {avg_val_loss:.4f}\")\n",
        "        print(f\"Validation accuracy: {val_accuracy:.4f}\")\n",
        "\n",
        "        # Update the model's history\n",
        "        model.history['train_loss'].append(avg_train_loss)\n",
        "        model.history['val_loss'].append(avg_val_loss)\n",
        "        if train_accuracy is not None:\n",
        "            model.history['train_acc'].append(train_accuracy)\n",
        "        model.history['val_acc'].append(val_accuracy)\n",
        "\n",
        "    return model\n"
      ],
      "metadata": {
        "id": "Ed60ycHMcBAQ"
      },
      "execution_count": null,
      "outputs": []
    },
    {
      "cell_type": "code",
      "source": [
        "# putting the dataset prep and training into one function\n",
        "\n",
        "def train_pruned_quantized_tinybert_sst2(student_model, quantizer, pruner):\n",
        "  # building the train and evaluation dataloader\n",
        "  do_lower_case = False\n",
        "  data_dir = '/content/SST-2'\n",
        "  processor = Sst2Processor()\n",
        "  label_list = processor.get_labels()\n",
        "  num_labels = len(label_list)\n",
        "  max_seq_length = 128\n",
        "  eval_batch_size = 32\n",
        "  train_batch_size = 32\n",
        "  task_name = \"sst2\"\n",
        "  output_mode = \"classification\"\n",
        "  device = torch.device(\"cuda\" if torch.cuda.is_available() else \"cpu\")\n",
        "  # student_model = TinyBertForSequenceClassification.from_pretrained(STUDENT_CONFIG_DIR, num_labels=num_labels)\n",
        "  student_model.to(device)\n",
        "\n",
        "  tokenizer = BertTokenizer.from_pretrained(STUDENT_CONFIG_DIR, do_lower_case=do_lower_case)\n",
        "  eval_examples = processor.get_dev_examples(data_dir)\n",
        "  eval_features = convert_examples_to_features(eval_examples, label_list, max_seq_length, tokenizer, output_mode)\n",
        "  eval_data, eval_labels = get_tensor_data(output_mode, eval_features)\n",
        "  eval_sampler = SequentialSampler(eval_data)\n",
        "  eval_dataloader = DataLoader(eval_data, sampler=eval_sampler, batch_size=eval_batch_size)\n",
        "\n",
        "  train_examples = processor.get_train_examples(data_dir)\n",
        "  train_features = convert_examples_to_features(train_examples, label_list, max_seq_length, tokenizer, output_mode)\n",
        "  train_data, train_labels = get_tensor_data(output_mode, train_features)\n",
        "  train_sampler = SequentialSampler(train_data)\n",
        "  train_dataloader = DataLoader(train_data, sampler=train_sampler, batch_size=train_batch_size)\n",
        "\n",
        "  # only train for 1 epoch - overfits fast\n",
        "  student_model = train_pruned_quantized_tinybert(\n",
        "      student_model,\n",
        "      quantizer,\n",
        "      pruner,\n",
        "      task_name,\n",
        "      train_dataloader,\n",
        "      eval_dataloader,\n",
        "      device,\n",
        "      output_mode,\n",
        "      num_labels,\n",
        "      eval_labels,\n",
        "      optimizer=None,\n",
        "      scheduler=None,\n",
        "      epochs=1\n",
        "  )\n",
        "  return student_model"
      ],
      "metadata": {
        "id": "dmeBMsL0gSVx"
      },
      "execution_count": null,
      "outputs": []
    },
    {
      "cell_type": "markdown",
      "source": [
        "## run finetuning on pruned and quantized model"
      ],
      "metadata": {
        "id": "SurXNlbvgf6Z"
      }
    },
    {
      "cell_type": "code",
      "source": [
        "device = torch.device(\"cuda\" if torch.cuda.is_available() else \"cpu\")\n",
        "quantizers = dict()\n",
        "bitwidths = [8, 4, 2]\n",
        "accs = []\n",
        "sizes = []\n",
        "sparse_sizes = []\n",
        "final_sizes = []\n",
        "for bitwidth in bitwidths:\n",
        "    # student_model = load_original_model()\n",
        "    # student_model.to(device)\n",
        "    # student_model = nn.DataParallel(student_model)\n",
        "    student_model = TinyBertForSequenceClassification.from_pretrained(STUDENT_CONFIG_DIR, num_labels=num_labels)\n",
        "    student_model.to(device)\n",
        "\n",
        "    print(\"pruning...\")\n",
        "    pruner = FineGrainedPruner(student_model, sparsity_dict)\n",
        "    # before quantizing, the bitwidth is 32\n",
        "    sparse_model_size = get_model_size(student_model, data_width=32, count_nonzero_only=True)\n",
        "    sparse_sizes.append(sparse_model_size)\n",
        "    print(f\"  pruned model has size={sparse_model_size/MiB:.2f} MiB\")\n",
        "\n",
        "    print(f'k-means quantizing model into {bitwidth} bits')\n",
        "    quantizer = KMeansQuantizer(student_model, bitwidth)\n",
        "    quantized_model_size = get_model_size(student_model, data_width=bitwidth, count_nonzero_only=True)\n",
        "    final_sizes.append(quantized_model_size)\n",
        "    print(f\"    pruned {bitwidth}-bit k-means quantized model has size={quantized_model_size/MiB:.2f} MiB\")\n",
        "\n",
        "    # finetune quantized model\n",
        "    print(f\"FINETUNING pruned {bitwidth}-bit model\")\n",
        "    student_model = train_pruned_quantized_tinybert_sst2(student_model, quantizer, pruner)\n",
        "\n",
        "    quantized_model_accuracy = evaluate(student_model)['acc'] *100\n",
        "    accs.append(quantized_model_accuracy)\n",
        "    print(f\"    pruned {bitwidth}-bit k-means quantized model has accuracy={quantized_model_accuracy:.2f}%\")\n",
        "    quantizers[bitwidth] = quantizer\n",
        "\n",
        "plt.plot(bitwidths, accs)\n",
        "plt.xlabel('bitwidth')\n",
        "plt.ylabel('accuracy')\n",
        "plt.show()"
      ],
      "metadata": {
        "colab": {
          "base_uri": "https://localhost:8080/",
          "height": 1000
        },
        "id": "wwD9fDyHgele",
        "outputId": "7a0ae8bd-bdd2-4a4a-bb96-a0273b3b31bb"
      },
      "execution_count": null,
      "outputs": [
        {
          "output_type": "stream",
          "name": "stderr",
          "text": [
            "/content/Pretrained-Language-Model/TinyBERT/transformer/modeling.py:696: FutureWarning: You are using `torch.load` with `weights_only=False` (the current default value), which uses the default pickle module implicitly. It is possible to construct malicious pickle data which will execute arbitrary code during unpickling (See https://github.com/pytorch/pytorch/blob/main/SECURITY.md#untrusted-models for more details). In a future release, the default value for `weights_only` will be flipped to `True`. This limits the functions that could be executed during unpickling. Arbitrary objects will no longer be allowed to be loaded via this mode unless they are explicitly allowlisted by the user via `torch.serialization.add_safe_globals`. We recommend you start setting `weights_only=True` for any use case where you don't have full control of the loaded file. Please open an issue on GitHub for any issues related to this experimental feature.\n",
            "  state_dict = torch.load(weights_path, map_location='cpu')\n"
          ]
        },
        {
          "output_type": "stream",
          "name": "stdout",
          "text": [
            "pruning...\n",
            "  pruned model has size=21.84 MiB\n",
            "k-means quantizing model into 8 bits\n",
            "    pruned 8-bit k-means quantized model has size=5.46 MiB\n",
            "FINETUNING pruned 8-bit model\n"
          ]
        },
        {
          "output_type": "stream",
          "name": "stderr",
          "text": [
            "/usr/local/lib/python3.10/dist-packages/transformers/optimization.py:591: FutureWarning: This implementation of AdamW is deprecated and will be removed in a future version. Use the PyTorch implementation torch.optim.AdamW instead, or set `no_deprecation_warning=True` to disable this warning\n",
            "  warnings.warn(\n"
          ]
        },
        {
          "output_type": "stream",
          "name": "stdout",
          "text": [
            "Epoch 1/1\n"
          ]
        },
        {
          "output_type": "stream",
          "name": "stderr",
          "text": [
            "Training: 100%|██████████| 2105/2105 [28:27<00:00,  1.23it/s]\n"
          ]
        },
        {
          "output_type": "stream",
          "name": "stdout",
          "text": [
            "Training loss: 0.6880\n",
            "Training accuracy: 0.5578\n"
          ]
        },
        {
          "output_type": "stream",
          "name": "stderr",
          "text": [
            "Evaluating: 100%|██████████| 28/28 [00:00<00:00, 145.74it/s]\n"
          ]
        },
        {
          "output_type": "stream",
          "name": "stdout",
          "text": [
            "Validation loss: 0.6952\n",
            "Validation accuracy: 0.5092\n"
          ]
        },
        {
          "output_type": "stream",
          "name": "stderr",
          "text": [
            "Evaluating: 100%|██████████| 28/28 [00:00<00:00, 145.25it/s]\n"
          ]
        },
        {
          "output_type": "stream",
          "name": "stdout",
          "text": [
            "    pruned 8-bit k-means quantized model has accuracy=50.92%\n",
            "pruning...\n",
            "  pruned model has size=21.84 MiB\n",
            "k-means quantizing model into 4 bits\n",
            "    pruned 4-bit k-means quantized model has size=2.93 MiB\n",
            "FINETUNING pruned 4-bit model\n",
            "Epoch 1/1\n"
          ]
        },
        {
          "output_type": "stream",
          "name": "stderr",
          "text": [
            "Training: 100%|██████████| 2105/2105 [02:45<00:00, 12.76it/s]\n"
          ]
        },
        {
          "output_type": "stream",
          "name": "stdout",
          "text": [
            "Training loss: 0.6887\n",
            "Training accuracy: 0.5578\n"
          ]
        },
        {
          "output_type": "stream",
          "name": "stderr",
          "text": [
            "Evaluating: 100%|██████████| 28/28 [00:00<00:00, 144.79it/s]\n"
          ]
        },
        {
          "output_type": "stream",
          "name": "stdout",
          "text": [
            "Validation loss: 0.6955\n",
            "Validation accuracy: 0.5092\n"
          ]
        },
        {
          "output_type": "stream",
          "name": "stderr",
          "text": [
            "Evaluating: 100%|██████████| 28/28 [00:00<00:00, 145.34it/s]\n"
          ]
        },
        {
          "output_type": "stream",
          "name": "stdout",
          "text": [
            "    pruned 4-bit k-means quantized model has accuracy=50.92%\n",
            "pruning...\n",
            "  pruned model has size=21.84 MiB\n",
            "k-means quantizing model into 2 bits\n",
            "    pruned 2-bit k-means quantized model has size=3.16 MiB\n",
            "FINETUNING pruned 2-bit model\n",
            "Epoch 1/1\n"
          ]
        },
        {
          "output_type": "stream",
          "name": "stderr",
          "text": [
            "Training: 100%|██████████| 2105/2105 [01:24<00:00, 24.83it/s]\n"
          ]
        },
        {
          "output_type": "stream",
          "name": "stdout",
          "text": [
            "Training loss: 0.6906\n",
            "Training accuracy: 0.5575\n"
          ]
        },
        {
          "output_type": "stream",
          "name": "stderr",
          "text": [
            "Evaluating: 100%|██████████| 28/28 [00:00<00:00, 145.90it/s]\n"
          ]
        },
        {
          "output_type": "stream",
          "name": "stdout",
          "text": [
            "Validation loss: 0.6934\n",
            "Validation accuracy: 0.5092\n"
          ]
        },
        {
          "output_type": "stream",
          "name": "stderr",
          "text": [
            "Evaluating: 100%|██████████| 28/28 [00:00<00:00, 145.92it/s]\n"
          ]
        },
        {
          "output_type": "stream",
          "name": "stdout",
          "text": [
            "    pruned 2-bit k-means quantized model has accuracy=50.92%\n"
          ]
        },
        {
          "output_type": "display_data",
          "data": {
            "text/plain": [
              "<Figure size 640x480 with 1 Axes>"
            ],
            "image/png": "[encoded data removed]"
          },
          "metadata": {}
        }
      ]
    },
    {
      "cell_type": "code",
      "source": [
        "# save accs, sizes, and bitwidths to a pickle file\n",
        "import pickle\n",
        "res_dict = {'accs': accs, 'sparse_sizes': sparse_sizes, 'final_sizes': final_sizes, 'bitwidths': bitwidths}\n",
        "file_name = \"DISTILLED_prune_and_quant_WITH_finetuning_data.pkl\"\n",
        "with open(f'/content/{file_name}', 'wb') as f:\n",
        "    pickle.dump(res_dict, f)"
      ],
      "metadata": {
        "id": "YK3rCCrAkV7s"
      },
      "execution_count": null,
      "outputs": []
    }
  ]
}